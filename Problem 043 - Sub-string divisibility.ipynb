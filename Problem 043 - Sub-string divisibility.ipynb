{
 "metadata": {
  "name": "Problem 043 - Sub-string divisibility"
 },
 "nbformat": 3,
 "nbformat_minor": 0,
 "worksheets": [
  {
   "cells": [
    {
     "cell_type": "markdown",
     "metadata": {},
     "source": [
      "Sub-string divisibility\n",
      "\n",
      "Problem 43\n",
      "\n",
      "The number, 1406357289, is a 0 to 9 pandigital number because it is made up of each of the digits 0 to 9 in some order, but it also has a rather interesting sub-string divisibility property.\n",
      "\n",
      "Let d1 be the 1st digit, d2 be the 2nd digit, and so on. In this way, we note the following:\n",
      "<code>\n",
      "d2d3d4=406 is divisible by 2\n",
      "d3d4d5=063 is divisible by 3\n",
      "d4d5d6=635 is divisible by 5\n",
      "d5d6d7=357 is divisible by 7\n",
      "d6d7d8=572 is divisible by 11\n",
      "d7d8d9=728 is divisible by 13\n",
      "d8d9d10=289 is divisible by 17\n",
      "</code>\n",
      "\n",
      "<font color=\"red\">Find the sum of all 0 to 9 pandigital numbers with this property.</font>"
     ]
    },
    {
     "cell_type": "code",
     "collapsed": false,
     "input": [
      "s = '012'\n",
      "import itertools\n",
      "list(itertools.permutations(s))"
     ],
     "language": "python",
     "metadata": {},
     "outputs": []
    },
    {
     "cell_type": "code",
     "collapsed": false,
     "input": [
      "def curious_property(n):\n",
      "    string = str(n)\n",
      "    if int(string[1:4]) % 2 != 0:\n",
      "            return False\n",
      "    if int(string[2:5]) % 3 != 0:\n",
      "            return False\n",
      "    if int(string[3:6]) % 5 != 0:\n",
      "            return False\n",
      "    if int(string[4:7]) % 7 != 0:\n",
      "            return False\n",
      "    if int(string[5:8]) % 11 != 0:\n",
      "            return False\n",
      "    if int(string[6:9]) % 13 != 0:\n",
      "            return False\n",
      "    if int(string[7:10]) % 17 != 0:\n",
      "            return False\n",
      "    return True\n",
      "    \n",
      "curious_property(1406357289)"
     ],
     "language": "python",
     "metadata": {},
     "outputs": []
    },
    {
     "cell_type": "code",
     "collapsed": false,
     "input": [
      "answer = []\n",
      "s = '0123456789'\n",
      "for perm in itertools.permutations(s):\n",
      "    num = int(''.join(perm))\n",
      "    if curious_property(num):\n",
      "        answer.append(num)\n",
      "\n",
      "len(answer)"
     ],
     "language": "python",
     "metadata": {},
     "outputs": []
    },
    {
     "cell_type": "code",
     "collapsed": false,
     "input": [
      "sum(answer)"
     ],
     "language": "python",
     "metadata": {},
     "outputs": []
    },
    {
     "cell_type": "code",
     "collapsed": false,
     "input": [],
     "language": "python",
     "metadata": {},
     "outputs": []
    }
   ],
   "metadata": {}
  }
 ]
}