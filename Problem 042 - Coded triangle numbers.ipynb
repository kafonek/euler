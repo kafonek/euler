{
 "metadata": {
  "name": "Problem 042 - Coded triangle numbers"
 },
 "nbformat": 3,
 "nbformat_minor": 0,
 "worksheets": [
  {
   "cells": [
    {
     "cell_type": "markdown",
     "metadata": {},
     "source": [
      "Coded triangle numbers\n",
      "\n",
      "Problem 42\n",
      "\n",
      "The nth term of the sequence of triangle numbers is given by, tn = \u00bdn(n+1); so the first ten triangle numbers are:\n",
      "\n",
      "1, 3, 6, 10, 15, 21, 28, 36, 45, 55, ...\n",
      "\n",
      "By converting each letter in a word to a number corresponding to its alphabetical position and adding these values we form a word value. For example, the word value for SKY is 19 + 11 + 25 = 55 = t10. If the word value is a triangle number then we shall call the word a triangle word.\n",
      "\n",
      "<font color=\"red\">Using words.txt (right click and 'Save Link/Target As...'), a 16K text file containing nearly two-thousand common English words, how many are triangle words?</font>"
     ]
    },
    {
     "cell_type": "markdown",
     "metadata": {},
     "source": [
      "(renamed from words.txt to triangle_words.txt in my Euler repository)"
     ]
    },
    {
     "cell_type": "code",
     "collapsed": false,
     "input": [
      "def gen_triangle_numbers():\n",
      "    current = 1\n",
      "    update = 2\n",
      "    while True:\n",
      "        yield current\n",
      "        current += update\n",
      "        update += 1\n",
      "\n",
      "gen = gen_triangle_numbers()\n",
      "for i in range(10):\n",
      "    print(gen.next())"
     ],
     "language": "python",
     "metadata": {},
     "outputs": []
    },
    {
     "cell_type": "code",
     "collapsed": false,
     "input": [
      "letter_values = {letter : (ord(letter) - 64) for letter in 'ABCDEFGHIJKLMNOPQRSTUVWXYZ'}\n",
      "letter_values"
     ],
     "language": "python",
     "metadata": {},
     "outputs": []
    },
    {
     "cell_type": "code",
     "collapsed": false,
     "input": [
      "def word_value(word):\n",
      "    return sum(letter_values[letter] for letter in word)\n",
      "\n",
      "word_value('SKY')"
     ],
     "language": "python",
     "metadata": {},
     "outputs": []
    },
    {
     "cell_type": "code",
     "collapsed": false,
     "input": [
      "words = open('triangle_words.txt').read()\n",
      "words[:100]"
     ],
     "language": "python",
     "metadata": {},
     "outputs": []
    },
    {
     "cell_type": "code",
     "collapsed": false,
     "input": [
      "words = [word.strip('\"') for word in words.split(',')]\n",
      "words[:10]"
     ],
     "language": "python",
     "metadata": {},
     "outputs": []
    },
    {
     "cell_type": "code",
     "collapsed": false,
     "input": [
      "triangle_word_count = 0\n",
      "gen = gen_triangle_numbers()\n",
      "triangle_nums = [gen.next()]\n",
      "for word in words:\n",
      "    value = word_value(word)\n",
      "    #generate new triangle numbers as necessary\n",
      "    if value > triangle_nums[-1]:\n",
      "        while value > max(triangle_nums):\n",
      "            triangle_nums.append(gen.next())\n",
      "    #see if the value is in the triangle number list\n",
      "    if value in triangle_nums:\n",
      "        triangle_word_count += 1\n",
      "\n",
      "triangle_word_count"
     ],
     "language": "python",
     "metadata": {},
     "outputs": []
    },
    {
     "cell_type": "code",
     "collapsed": false,
     "input": [],
     "language": "python",
     "metadata": {},
     "outputs": []
    }
   ],
   "metadata": {}
  }
 ]
}