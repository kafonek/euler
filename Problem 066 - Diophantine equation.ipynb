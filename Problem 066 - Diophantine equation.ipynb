{
 "metadata": {
  "name": "Problem 066 - Diophantine equation"
 },
 "nbformat": 3,
 "nbformat_minor": 0,
 "worksheets": [
  {
   "cells": [
    {
     "cell_type": "markdown",
     "metadata": {},
     "source": [
      "Diophantine equation\n",
      "\n",
      "Problem 66\n",
      "\n",
      "Consider quadratic Diophantine equations of the form:\n",
      "\n",
      "x^2 \u2013 Dy^2 = 1\n",
      "\n",
      "For example, when D=13, the minimal solution in x is 649^2 \u2013 13*180^2 = 1.\n",
      "\n",
      "It can be assumed that there are no solutions in positive integers when D is square.\n",
      "\n",
      "By finding minimal solutions in x for D = {2, 3, 5, 6, 7}, we obtain the following:\n",
      "<code>\n",
      "3^2 \u2013 2*2^2 = 1\n",
      "2^2 \u2013 3*1^2 = 1\n",
      "9^2 \u2013 5*4^2 = 1\n",
      "5^2 \u2013 6*2^2 = 1\n",
      "8^2 \u2013 7*3^2 = 1\n",
      "</code>\n",
      "Hence, by considering minimal solutions in x for D <= 7, the largest x is obtained when D=5.\n",
      "\n",
      "<font color='red'>Find the value of D <= 1000 in minimal solutions of x for which the largest value of x is obtained.</font>"
     ]
    },
    {
     "cell_type": "code",
     "collapsed": false,
     "input": [
      "#Brute forcing this is not an option, we have to be tricky about it.\n",
      "#factor out y..\n",
      "#y = +/- sqrt( (x**2 - 1) / D )\n",
      "#but that y has to be a positive integer, so that means x**2 - 1 / D will be equal to a perfect square\n",
      "#i.e. <perfect square> * D + 1 == <another perfect square>\n",
      "\n",
      "#examples -\n",
      "#x**2 - 2 * y**2 = 1\n",
      "#y = sqrt( (x**2 - 1) / 2)\n",
      "#y = <perfect square> = [4*2 + 1, 9*2 + 1, 16*2 + 1...]\n",
      "# 4*2 + 1 = 9 = perfect square.  Thus, y = sqrt(4), x = sqrt(9)\n",
      "\n",
      "def solve(D):\n",
      "    'brute force approach'\n",
      "    if squares.is_square(D):\n",
      "        return 0, 0 #there is no solution for when D is a perfect square\n",
      "    candidate = 1\n",
      "    while True:\n",
      "        offset = ((candidate ** 2) * D) + 1\n",
      "        if (offset ** .5).is_integer(): #check if the offset is a perfect square\n",
      "            y = candidate\n",
      "            x = offset ** .5\n",
      "            return x, y\n",
      "        candidate += 1\n",
      "\n",
      "for D in [2, 3, 5, 6, 7]:\n",
      "    x, y = solve(D)\n",
      "    print(D, x, y)\n",
      "        "
     ],
     "language": "python",
     "metadata": {},
     "outputs": [
      {
       "output_type": "stream",
       "stream": "stdout",
       "text": [
        "(2, 3.0, 2)\n",
        "(3, 2.0, 1)\n",
        "(5, 9.0, 4)\n",
        "(6, 5.0, 2)\n",
        "(7, 8.0, 3)\n"
       ]
      }
     ],
     "prompt_number": 40
    },
    {
     "cell_type": "code",
     "collapsed": false,
     "input": [
      "solutions = []\n",
      "for D in xrange(1, 1001):\n",
      "    x, y = solve(D)\n",
      "    print(D, x, y)\n",
      "    solutions.append([x, y, D])\n",
      "    "
     ],
     "language": "python",
     "metadata": {},
     "outputs": [
      {
       "output_type": "stream",
       "stream": "stdout",
       "text": [
        "(1, 0, 0)\n",
        "(2, 3.0, 2)\n",
        "(3, 2.0, 1)\n",
        "(4, 0, 0)\n",
        "(5, 9.0, 4)\n",
        "(6, 5.0, 2)\n",
        "(7, 8.0, 3)\n",
        "(8, 3.0, 1)\n",
        "(9, 0, 0)\n",
        "(10, 19.0, 6)\n",
        "(11, 10.0, 3)\n",
        "(12, 7.0, 2)\n",
        "(13, 649.0, 180)\n",
        "(14, 15.0, 4)\n",
        "(15, 4.0, 1)\n",
        "(16, 0, 0)\n",
        "(17, 33.0, 8)\n",
        "(18, 17.0, 4)\n",
        "(19, 170.0, 39)\n",
        "(20, 9.0, 2)\n",
        "(21, 55.0, 12)\n",
        "(22, 197.0, 42)\n",
        "(23, 24.0, 5)\n",
        "(24, 5.0, 1)\n",
        "(25, 0, 0)\n",
        "(26, 51.0, 10)\n",
        "(27, 26.0, 5)\n",
        "(28, 127.0, 24)\n",
        "(29, 9801.0, 1820)\n",
        "(30, 11.0, 2)\n",
        "(31, 1520.0, 273)\n",
        "(32, 17.0, 3)\n",
        "(33, 23.0, 4)\n",
        "(34, 35.0, 6)\n",
        "(35, 6.0, 1)\n",
        "(36, 0, 0)\n",
        "(37, 73.0, 12)\n",
        "(38, 37.0, 6)\n",
        "(39, 25.0, 4)\n",
        "(40, 19.0, 3)\n",
        "(41, 2049.0, 320)\n",
        "(42, 13.0, 2)\n",
        "(43, 3482.0, 531)\n",
        "(44, 199.0, 30)\n",
        "(45, 161.0, 24)\n",
        "(46, 24335.0, 3588)\n",
        "(47, 48.0, 7)\n",
        "(48, 7.0, 1)\n",
        "(49, 0, 0)\n",
        "(50, 99.0, 14)\n",
        "(51, 50.0, 7)\n",
        "(52, 649.0, 90)\n",
        "(53, 66249.0, 9100)\n",
        "(54, 485.0, 66)\n",
        "(55, 89.0, 12)\n",
        "(56, 15.0, 2)\n",
        "(57, 151.0, 20)\n",
        "(58, 19603.0, 2574)\n",
        "(59, 530.0, 69)\n",
        "(60, 31.0, 4)\n",
        "(61, 335159612.0, 42912791)"
       ]
      },
      {
       "output_type": "stream",
       "stream": "stdout",
       "text": [
        "\n",
        "(62, 63.0, 8)\n",
        "(63, 8.0, 1)\n",
        "(64, 0, 0)\n",
        "(65, 129.0, 16)\n",
        "(66, 65.0, 8)\n",
        "(67, 48842.0, 5967)\n",
        "(68, 33.0, 4)\n",
        "(69, 7775.0, 936)\n",
        "(70, 251.0, 30)\n",
        "(71, 3480.0, 413)\n",
        "(72, 17.0, 2)\n",
        "(73, 2281249.0, 267000)"
       ]
      },
      {
       "output_type": "stream",
       "stream": "stdout",
       "text": [
        "\n",
        "(74, 3699.0, 430)\n",
        "(75, 26.0, 3)\n",
        "(76, 57799.0, 6630)\n",
        "(77, 351.0, 40)\n",
        "(78, 53.0, 6)\n",
        "(79, 80.0, 9)\n",
        "(80, 9.0, 1)\n",
        "(81, 0, 0)\n",
        "(82, 163.0, 18)\n",
        "(83, 82.0, 9)\n",
        "(84, 55.0, 6)\n",
        "(85, 285769.0, 30996)\n",
        "(86, 10405.0, 1122)\n",
        "(87, 28.0, 3)\n",
        "(88, 197.0, 21)\n",
        "(89, 500001.0, 53000)"
       ]
      },
      {
       "output_type": "stream",
       "stream": "stdout",
       "text": [
        "\n",
        "(90, 19.0, 2)\n",
        "(91, 1574.0, 165)\n",
        "(92, 1151.0, 120)\n",
        "(93, 12151.0, 1260)\n",
        "(94, 2143295.0, 221064)"
       ]
      },
      {
       "output_type": "stream",
       "stream": "stdout",
       "text": [
        "\n",
        "(95, 39.0, 4)\n",
        "(96, 49.0, 5)\n",
        "(97, 62809633.0, 6377352)"
       ]
      },
      {
       "output_type": "stream",
       "stream": "stdout",
       "text": [
        "\n",
        "(98, 99.0, 10)\n",
        "(99, 10.0, 1)\n",
        "(100, 0, 0)\n",
        "(101, 201.0, 20)\n",
        "(102, 101.0, 10)\n",
        "(103, 227528.0, 22419)\n",
        "(104, 51.0, 5)\n",
        "(105, 41.0, 4)\n",
        "(106, 32080051.0, 3115890)"
       ]
      },
      {
       "output_type": "stream",
       "stream": "stdout",
       "text": [
        "\n",
        "(107, 962.0, 93)\n",
        "(108, 1351.0, 130)\n",
        "(109, 372326272.0, 35662389)"
       ]
      },
      {
       "output_type": "stream",
       "stream": "stdout",
       "text": [
        "\n",
        "(110, 21.0, 2)\n",
        "(111, 295.0, 28)\n",
        "(112, 127.0, 12)\n",
        "(113, 1204353.0, 113296)"
       ]
      },
      {
       "output_type": "stream",
       "stream": "stdout",
       "text": [
        "\n",
        "(114, 1025.0, 96)\n",
        "(115, 1126.0, 105)\n",
        "(116, 9801.0, 910)\n",
        "(117, 649.0, 60)\n",
        "(118, 306917.0, 28254)\n",
        "(119, 120.0, 11)\n",
        "(120, 11.0, 1)\n",
        "(121, 0, 0)\n",
        "(122, 243.0, 22)\n",
        "(123, 122.0, 11)\n",
        "(124, 4620799.0, 414960)"
       ]
      },
      {
       "output_type": "stream",
       "stream": "stdout",
       "text": [
        "\n",
        "(125, 930249.0, 83204)"
       ]
      },
      {
       "output_type": "stream",
       "stream": "stdout",
       "text": [
        "\n",
        "(126, 449.0, 40)\n",
        "(127, 4730624.0, 419775)"
       ]
      },
      {
       "output_type": "stream",
       "stream": "stdout",
       "text": [
        "\n",
        "(128, 577.0, 51)\n",
        "(129, 16855.0, 1484)\n",
        "(130, 6499.0, 570)\n",
        "(131, 10610.0, 927)\n",
        "(132, 23.0, 2)\n",
        "(133, 2588599.0, 224460)"
       ]
      },
      {
       "output_type": "stream",
       "stream": "stdout",
       "text": [
        "\n",
        "(134, 145925.0, 12606)\n",
        "(135, 244.0, 21)\n",
        "(136, 35.0, 3)\n",
        "(137, 6083073.0, 519712)"
       ]
      },
      {
       "output_type": "stream",
       "stream": "stdout",
       "text": [
        "\n",
        "(138, 47.0, 4)\n",
        "(139, 77563250.0, 6578829)"
       ]
      },
      {
       "output_type": "stream",
       "stream": "stdout",
       "text": [
        "\n",
        "(140, 71.0, 6)\n",
        "(141, 95.0, 8)\n",
        "(142, 143.0, 12)\n",
        "(143, 12.0, 1)\n",
        "(144, 0, 0)\n",
        "(145, 289.0, 24)\n",
        "(146, 145.0, 12)\n",
        "(147, 97.0, 8)\n",
        "(148, 73.0, 6)\n",
        "(149, 255105526.0, 20899059)"
       ]
      },
      {
       "output_type": "stream",
       "stream": "stdout",
       "text": [
        "\n",
        "(150, 49.0, 4)\n",
        "(151, 498062163.0, 40531724)"
       ]
      },
      {
       "output_type": "stream",
       "stream": "stdout",
       "text": [
        "\n",
        "(152, 37.0, 3)\n",
        "(153, 2177.0, 176)\n",
        "(154, 21295.0, 1716)\n",
        "(155, 249.0, 20)\n",
        "(156, 25.0, 2)\n",
        "(157, 241895480.0, 19305361)"
       ]
      },
      {
       "output_type": "stream",
       "stream": "stdout",
       "text": [
        "\n",
        "(158, 7743.0, 616)\n",
        "(159, 1324.0, 105)\n",
        "(160, 721.0, 57)\n",
        "(161, 11775.0, 928)\n",
        "(162, 19601.0, 1540)\n",
        "(163, 64080026.0, 5019135)"
       ]
      },
      {
       "output_type": "stream",
       "stream": "stdout",
       "text": [
        "\n",
        "(164, 2049.0, 160)\n",
        "(165, 1079.0, 84)\n",
        "(166, 197136773.0, 15300781)"
       ]
      },
      {
       "output_type": "stream",
       "stream": "stdout",
       "text": [
        "\n",
        "(167, 168.0, 13)\n",
        "(168, 13.0, 1)\n",
        "(169, 0, 0)\n",
        "(170, 339.0, 26)\n",
        "(171, 170.0, 13)\n",
        "(172, 24248647.0, 1848942)"
       ]
      },
      {
       "output_type": "stream",
       "stream": "stdout",
       "text": [
        "\n",
        "(173, 2499849.0, 190060)"
       ]
      },
      {
       "output_type": "stream",
       "stream": "stdout",
       "text": [
        "\n",
        "(174, 1451.0, 110)\n",
        "(175, 2024.0, 153)\n",
        "(176, 199.0, 15)\n",
        "(177, 62423.0, 4692)\n",
        "(178, 1601.0, 120)\n",
        "(179, 4190210.0, 313191)"
       ]
      },
      {
       "output_type": "stream",
       "stream": "stdout",
       "text": [
        "\n",
        "(180, 161.0, 12)\n",
        "(181, 401010423.0, 29806870)"
       ]
      },
      {
       "output_type": "stream",
       "stream": "stdout",
       "text": [
        "\n",
        "(182, 27.0, 2)\n",
        "(183, 487.0, 36)\n",
        "(184, 24335.0, 1794)\n",
        "(185, 9249.0, 680)\n",
        "(186, 7501.0, 550)\n",
        "(187, 1682.0, 123)\n",
        "(188, 4607.0, 336)\n",
        "(189, 55.0, 4)\n",
        "(190, 52021.0, 3774)\n",
        "(191, 8994000.0, 650783)"
       ]
      },
      {
       "output_type": "stream",
       "stream": "stdout",
       "text": [
        "\n",
        "(192, 97.0, 7)\n",
        "(193, 391883492.0, 28208391)"
       ]
      },
      {
       "output_type": "stream",
       "stream": "stdout",
       "text": [
        "\n",
        "(194, 195.0, 14)\n",
        "(195, 14.0, 1)\n",
        "(196, 0, 0)\n",
        "(197, 393.0, 28)\n",
        "(198, 197.0, 14)\n",
        "(199, 640500731.0, 45403893)"
       ]
      },
      {
       "output_type": "stream",
       "stream": "stdout",
       "text": [
        "\n",
        "(200, 99.0, 7)\n",
        "(201, 515095.0, 36332)\n",
        "(202, 19731763.0, 1388322)"
       ]
      },
      {
       "output_type": "stream",
       "stream": "stdout",
       "text": [
        "\n",
        "(203, 57.0, 4)\n",
        "(204, 4999.0, 350)\n",
        "(205, 39689.0, 2772)\n",
        "(206, 59535.0, 4148)\n",
        "(207, 1151.0, 80)\n",
        "(208, 649.0, 45)\n",
        "(209, 46551.0, 3220)\n",
        "(210, 29.0, 2)\n",
        "(211, 291226557.0, 20048863)"
       ]
      },
      {
       "output_type": "stream",
       "stream": "stdout",
       "text": [
        "\n",
        "(212, 66249.0, 4550)\n",
        "(213, 194399.0, 13320)\n",
        "(214, 426950027.0, 29185703)"
       ]
      },
      {
       "output_type": "stream",
       "stream": "stdout",
       "text": [
        "\n",
        "(215, 44.0, 3)\n",
        "(216, 485.0, 33)\n",
        "(217, 3844063.0, 260952)"
       ]
      },
      {
       "output_type": "stream",
       "stream": "stdout",
       "text": [
        "\n",
        "(218, 126003.0, 8534)\n",
        "(219, 74.0, 5)\n",
        "(220, 89.0, 6)\n",
        "(221, 1665.0, 112)\n",
        "(222, 149.0, 10)\n",
        "(223, 224.0, 15)\n",
        "(224, 15.0, 1)\n",
        "(225, 0, 0)\n",
        "(226, 451.0, 30)\n",
        "(227, 226.0, 15)\n",
        "(228, 151.0, 10)\n",
        "(229, 5848201.0, 386460)"
       ]
      },
      {
       "output_type": "stream",
       "stream": "stdout",
       "text": [
        "\n",
        "(230, 91.0, 6)\n",
        "(231, 76.0, 5)\n",
        "(232, 19603.0, 1287)\n",
        "(233, 283475737.0, 18571113)"
       ]
      },
      {
       "output_type": "stream",
       "stream": "stdout",
       "text": [
        "\n",
        "(234, 5201.0, 340)\n",
        "(235, 46.0, 3)\n",
        "(236, 561799.0, 36570)\n",
        "(237, 228151.0, 14820)\n",
        "(238, 11663.0, 756)\n",
        "(239, 6195120.0, 400729)"
       ]
      },
      {
       "output_type": "stream",
       "stream": "stdout",
       "text": [
        "\n",
        "(240, 31.0, 2)\n",
        "(241, 142022136.0, 9148450)"
       ]
      },
      {
       "output_type": "stream",
       "stream": "stdout",
       "text": [
        "\n",
        "(242, 19601.0, 1260)\n",
        "(243, 70226.0, 4505)\n",
        "(244, 425680601.0, 27251408)"
       ]
      },
      {
       "output_type": "stream",
       "stream": "stdout",
       "text": [
        "\n",
        "(245, 51841.0, 3312)\n",
        "(246, 88805.0, 5662)\n",
        "(247, 85292.0, 5427)\n",
        "(248, 63.0, 4)\n",
        "(249, 8553815.0, 542076)"
       ]
      },
      {
       "output_type": "stream",
       "stream": "stdout",
       "text": [
        "\n",
        "(250, 39480499.0, 2496966)"
       ]
      },
      {
       "output_type": "stream",
       "stream": "stdout",
       "text": [
        "\n",
        "(251, 3674890.0, 231957)"
       ]
      },
      {
       "output_type": "stream",
       "stream": "stdout",
       "text": [
        "\n",
        "(252, 127.0, 8)\n",
        "(253, 303010724.0, 19050121)"
       ]
      },
      {
       "output_type": "stream",
       "stream": "stdout",
       "text": [
        "\n",
        "(254, 255.0, 16)\n",
        "(255, 16.0, 1)\n",
        "(256, 0, 0)\n",
        "(257, 513.0, 32)\n",
        "(258, 257.0, 16)\n",
        "(259, 847225.0, 52644)"
       ]
      },
      {
       "output_type": "stream",
       "stream": "stdout",
       "text": [
        "\n",
        "(260, 129.0, 8)\n",
        "(261, 192119201.0, 11891880)"
       ]
      },
      {
       "output_type": "stream",
       "stream": "stdout",
       "text": [
        "\n",
        "(262, 104980517.0, 6485718)"
       ]
      },
      {
       "output_type": "stream",
       "stream": "stdout",
       "text": [
        "\n",
        "(263, 139128.0, 8579)\n",
        "(264, 65.0, 4)\n",
        "(265, 73738369.0, 4529712)"
       ]
      },
      {
       "output_type": "stream",
       "stream": "stdout",
       "text": [
        "\n",
        "(266, 685.0, 42)\n",
        "(267, 2402.0, 147)\n",
        "(268, 534917633.0, 32675295)"
       ]
      },
      {
       "output_type": "stream",
       "stream": "stdout",
       "text": [
        "\n",
        "(269, 13449.0, 820)\n",
        "(270, 5291.0, 322)\n",
        "(271, 667137236.0, 40525701)"
       ]
      },
      {
       "output_type": "stream",
       "stream": "stdout",
       "text": [
        "\n",
        "(272, 33.0, 2)\n",
        "(273, 727.0, 44)\n",
        "(274, 3959299.0, 239190)"
       ]
      },
      {
       "output_type": "stream",
       "stream": "stdout",
       "text": [
        "\n",
        "(275, 199.0, 12)\n",
        "(276, 7775.0, 468)\n",
        "(277, 567444389.0, 34094429)"
       ]
      },
      {
       "output_type": "stream",
       "stream": "stdout",
       "text": [
        "\n",
        "(278, 2501.0, 150)\n",
        "(279, 1520.0, 91)\n",
        "(280, 251.0, 15)\n",
        "(281, 606183385.0, 36161869)"
       ]
      },
      {
       "output_type": "stream",
       "stream": "stdout",
       "text": [
        "\n",
        "(282, 2351.0, 140)\n",
        "(283, 138274082.0, 8219541)"
       ]
      },
      {
       "output_type": "stream",
       "stream": "stdout",
       "text": [
        "\n",
        "(284, 24220799.0, 1437240)"
       ]
      },
      {
       "output_type": "stream",
       "stream": "stdout",
       "text": [
        "\n",
        "(285, 2431.0, 144)\n",
        "(286, 561835.0, 33222)\n",
        "(287, 288.0, 17)\n",
        "(288, 17.0, 1)\n",
        "(289, 0, 0)\n",
        "(290, 579.0, 34)\n",
        "(291, 290.0, 17)\n",
        "(292, 2281249.0, 133500)"
       ]
      },
      {
       "output_type": "stream",
       "stream": "stdout",
       "text": [
        "\n",
        "(293, 12320649.0, 719780)"
       ]
      },
      {
       "output_type": "stream",
       "stream": "stdout",
       "text": [
        "\n",
        "(294, 4801.0, 280)\n",
        "(295, 2024999.0, 117900)"
       ]
      },
      {
       "output_type": "stream",
       "stream": "stdout",
       "text": [
        "\n",
        "(296, 3699.0, 215)\n",
        "(297, 48599.0, 2820)\n",
        "(298, 268665646.0, 15563383)"
       ]
      },
      {
       "output_type": "stream",
       "stream": "stdout",
       "text": [
        "\n",
        "(299, 415.0, 24)\n",
        "(300, 1351.0, 78)\n",
        "(301, 517335023.0, 29818695)"
       ]
      },
      {
       "output_type": "stream",
       "stream": "stdout",
       "text": [
        "\n",
        "(302, 4276623.0, 246092)"
       ]
      },
      {
       "output_type": "stream",
       "stream": "stdout",
       "text": [
        "\n",
        "(303, 2524.0, 145)\n",
        "(304, 57799.0, 3315)\n",
        "(305, 489.0, 28)\n",
        "(306, 35.0, 2)\n",
        "(307, 88529282.0, 5052633)"
       ]
      },
      {
       "output_type": "stream",
       "stream": "stdout",
       "text": [
        "\n",
        "(308, 351.0, 20)\n",
        "(309, 440045063.0, 25033289)"
       ]
      },
      {
       "output_type": "stream",
       "stream": "stdout",
       "text": [
        "\n",
        "(310, 848719.0, 48204)\n",
        "(311, 16883880.0, 957397)"
       ]
      },
      {
       "output_type": "stream",
       "stream": "stdout",
       "text": [
        "\n",
        "(312, 53.0, 3)\n",
        "(313, 380587104.0, 21512055)"
       ]
      },
      {
       "output_type": "stream",
       "stream": "stdout",
       "text": [
        "\n",
        "(314, 392499.0, 22150)\n",
        "(315, 71.0, 4)\n",
        "(316, 12799.0, 720)\n",
        "(317, 577590652.0, 32440723)"
       ]
      },
      {
       "output_type": "stream",
       "stream": "stdout",
       "text": [
        "\n",
        "(318, 107.0, 6)\n",
        "(319, 12901780.0, 722361)"
       ]
      },
      {
       "output_type": "stream",
       "stream": "stdout",
       "text": [
        "\n",
        "(320, 161.0, 9)\n",
        "(321, 215.0, 12)\n",
        "(322, 323.0, 18)\n",
        "(323, 18.0, 1)\n",
        "(324, 0, 0)\n",
        "(325, 649.0, 36)\n",
        "(326, 325.0, 18)\n",
        "(327, 217.0, 12)\n",
        "(328, 163.0, 9)\n",
        "(329, 2376415.0, 131016)"
       ]
      },
      {
       "output_type": "stream",
       "stream": "stdout",
       "text": [
        "\n",
        "(330, 109.0, 6)\n",
        "(331, 770394803.0, 42344728)"
       ]
      },
      {
       "output_type": "stream",
       "stream": "stdout",
       "text": [
        "\n",
        "(332, 13447.0, 738)\n",
        "(333, 73.0, 4)\n",
        "(334, 587510696.0, 32147155)"
       ]
      },
      {
       "output_type": "stream",
       "stream": "stdout",
       "text": [
        "\n",
        "(335, 604.0, 33)\n",
        "(336, 55.0, 3)\n",
        "(337, 363218969.0, 19785798)"
       ]
      },
      {
       "output_type": "stream",
       "stream": "stdout",
       "text": [
        "\n",
        "(338, 114243.0, 6214)\n",
        "(339, 97970.0, 5321)\n",
        "(340, 285769.0, 15498)\n",
        "(341, 10626551.0, 575460)"
       ]
      },
      {
       "output_type": "stream",
       "stream": "stdout",
       "text": [
        "\n",
        "(342, 37.0, 2)\n",
        "(343, 130576328.0, 7050459)"
       ]
      },
      {
       "output_type": "stream",
       "stream": "stdout",
       "text": [
        "\n",
        "(344, 10405.0, 561)\n",
        "(345, 6761.0, 364)\n",
        "(346, 17299.0, 930)\n",
        "(347, 641602.0, 34443)\n",
        "(348, 1567.0, 84)\n",
        "(349, 169648201.0, 9081060)"
       ]
      },
      {
       "output_type": "stream",
       "stream": "stdout",
       "text": [
        "\n",
        "(350, 449.0, 24)\n",
        "(351, 62425.0, 3332)\n",
        "(352, 77617.0, 4137)\n",
        "(353, 366866809.0, 19526350)"
       ]
      },
      {
       "output_type": "stream",
       "stream": "stdout",
       "text": [
        "\n",
        "(354, 258065.0, 13716)\n",
        "(355, 954809.0, 50676)"
       ]
      },
      {
       "output_type": "stream",
       "stream": "stdout",
       "text": [
        "\n",
        "(356, 500001.0, 26500)\n",
        "(357, 3401.0, 180)\n",
        "(358, 500898437.0, 26473305)"
       ]
      },
      {
       "output_type": "stream",
       "stream": "stdout",
       "text": [
        "\n",
        "(359, 360.0, 19)\n",
        "(360, 19.0, 1)\n",
        "(361, 0, 0)\n",
        "(362, 723.0, 38)\n",
        "(363, 362.0, 19)\n",
        "(364, 4954951.0, 259710)"
       ]
      },
      {
       "output_type": "stream",
       "stream": "stdout",
       "text": [
        "\n",
        "(365, 23915529.0, 1251796)"
       ]
      },
      {
       "ename": "KeyboardInterrupt",
       "evalue": "",
       "output_type": "pyerr",
       "traceback": [
        "\u001b[1;31m---------------------------------------------------------------------------\u001b[0m\n\u001b[1;31mKeyboardInterrupt\u001b[0m                         Traceback (most recent call last)",
        "\u001b[1;32m<ipython-input-41-79c5a8026359>\u001b[0m in \u001b[0;36m<module>\u001b[1;34m()\u001b[0m\n\u001b[0;32m      1\u001b[0m \u001b[0msolutions\u001b[0m \u001b[1;33m=\u001b[0m \u001b[1;33m[\u001b[0m\u001b[1;33m]\u001b[0m\u001b[1;33m\u001b[0m\u001b[0m\n\u001b[0;32m      2\u001b[0m \u001b[1;32mfor\u001b[0m \u001b[0mD\u001b[0m \u001b[1;32min\u001b[0m \u001b[0mxrange\u001b[0m\u001b[1;33m(\u001b[0m\u001b[1;36m1\u001b[0m\u001b[1;33m,\u001b[0m \u001b[1;36m1001\u001b[0m\u001b[1;33m)\u001b[0m\u001b[1;33m:\u001b[0m\u001b[1;33m\u001b[0m\u001b[0m\n\u001b[1;32m----> 3\u001b[1;33m     \u001b[0mx\u001b[0m\u001b[1;33m,\u001b[0m \u001b[0my\u001b[0m \u001b[1;33m=\u001b[0m \u001b[0msolve\u001b[0m\u001b[1;33m(\u001b[0m\u001b[0mD\u001b[0m\u001b[1;33m)\u001b[0m\u001b[1;33m\u001b[0m\u001b[0m\n\u001b[0m\u001b[0;32m      4\u001b[0m     \u001b[1;32mprint\u001b[0m\u001b[1;33m(\u001b[0m\u001b[0mD\u001b[0m\u001b[1;33m,\u001b[0m \u001b[0mx\u001b[0m\u001b[1;33m,\u001b[0m \u001b[0my\u001b[0m\u001b[1;33m)\u001b[0m\u001b[1;33m\u001b[0m\u001b[0m\n\u001b[0;32m      5\u001b[0m     \u001b[0msolutions\u001b[0m\u001b[1;33m.\u001b[0m\u001b[0mappend\u001b[0m\u001b[1;33m(\u001b[0m\u001b[1;33m[\u001b[0m\u001b[0mx\u001b[0m\u001b[1;33m,\u001b[0m \u001b[0my\u001b[0m\u001b[1;33m,\u001b[0m \u001b[0mD\u001b[0m\u001b[1;33m]\u001b[0m\u001b[1;33m)\u001b[0m\u001b[1;33m\u001b[0m\u001b[0m\n",
        "\u001b[1;32m<ipython-input-40-151b5eaef892>\u001b[0m in \u001b[0;36msolve\u001b[1;34m(D)\u001b[0m\n\u001b[0;32m     36\u001b[0m     \u001b[1;32mwhile\u001b[0m \u001b[0mTrue\u001b[0m\u001b[1;33m:\u001b[0m\u001b[1;33m\u001b[0m\u001b[0m\n\u001b[0;32m     37\u001b[0m         \u001b[0moffset\u001b[0m \u001b[1;33m=\u001b[0m \u001b[1;33m(\u001b[0m\u001b[1;33m(\u001b[0m\u001b[0mcandidate\u001b[0m \u001b[1;33m**\u001b[0m \u001b[1;36m2\u001b[0m\u001b[1;33m)\u001b[0m \u001b[1;33m*\u001b[0m \u001b[0mD\u001b[0m\u001b[1;33m)\u001b[0m \u001b[1;33m+\u001b[0m \u001b[1;36m1\u001b[0m\u001b[1;33m\u001b[0m\u001b[0m\n\u001b[1;32m---> 38\u001b[1;33m         \u001b[1;32mif\u001b[0m \u001b[1;33m(\u001b[0m\u001b[0moffset\u001b[0m \u001b[1;33m**\u001b[0m \u001b[1;36m.5\u001b[0m\u001b[1;33m)\u001b[0m\u001b[1;33m.\u001b[0m\u001b[0mis_integer\u001b[0m\u001b[1;33m(\u001b[0m\u001b[1;33m)\u001b[0m\u001b[1;33m:\u001b[0m\u001b[1;33m\u001b[0m\u001b[0m\n\u001b[0m\u001b[0;32m     39\u001b[0m             \u001b[0my\u001b[0m \u001b[1;33m=\u001b[0m \u001b[0mcandidate\u001b[0m\u001b[1;33m\u001b[0m\u001b[0m\n\u001b[0;32m     40\u001b[0m             \u001b[0mx\u001b[0m \u001b[1;33m=\u001b[0m \u001b[0moffset\u001b[0m \u001b[1;33m**\u001b[0m \u001b[1;36m.5\u001b[0m\u001b[1;33m\u001b[0m\u001b[0m\n",
        "\u001b[1;31mKeyboardInterrupt\u001b[0m: "
       ]
      },
      {
       "output_type": "stream",
       "stream": "stdout",
       "text": [
        "\n",
        "(366, 907925.0, 47458)\n"
       ]
      }
     ],
     "prompt_number": 41
    },
    {
     "cell_type": "code",
     "collapsed": false,
     "input": [
      "def sqrt_period(n, debug=False):\n",
      "    'find the continued fraction for a square root'\n",
      "    a0 = int(n ** .5)\n",
      "    if a0 ** 2 == n:\n",
      "        return 0, [] #n is a square root, no continued fraction\n",
      "    starting_numerator = current_numerator = a0\n",
      "    starting_denominator = current_denominator = n - a0**2\n",
      "    final_numerator = starting_numerator\n",
      "    final_denominator = starting_denominator\n",
      "    while True:\n",
      "        integer = (a0 + current_numerator) / current_denominator  #step 1, pull out the 'integer' from the fraction\n",
      "        current_numerator = integer * current_denominator - current_numerator \n",
      "        current_denominator = (n - current_numerator**2) / current_denominator\n",
      "        period.append(integer)\n",
      "        if debug:\n",
      "            print(integer, current_numerator, current_denominator)\n",
      "        if current_numerator == starting_numerator and current_denominator == starting_denominator:\n",
      "            break\n",
      "    return a0, period"
     ],
     "language": "python",
     "metadata": {},
     "outputs": [],
     "prompt_number": 7
    },
    {
     "cell_type": "code",
     "collapsed": false,
     "input": [
      "import fractions\n",
      "fractions.Fraction(14 ** .5).limit_denominator()"
     ],
     "language": "python",
     "metadata": {},
     "outputs": [
      {
       "output_type": "pyout",
       "prompt_number": 42,
       "text": [
        "Fraction(3121444, 834241)"
       ]
      }
     ],
     "prompt_number": 42
    },
    {
     "cell_type": "code",
     "collapsed": false,
     "input": [],
     "language": "python",
     "metadata": {},
     "outputs": []
    }
   ],
   "metadata": {}
  }
 ]
}