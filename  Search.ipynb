{
 "metadata": {
  "name": " Search"
 },
 "nbformat": 3,
 "nbformat_minor": 0,
 "worksheets": [
  {
   "cells": [
    {
     "cell_type": "markdown",
     "metadata": {},
     "source": [
      "This notebook serves as a search function across all of the problems"
     ]
    },
    {
     "cell_type": "code",
     "collapsed": false,
     "input": [
      "files = !grep -nr 'sieve' .\n",
      "#files\n",
      "sorted(set([file.split('.ipynb')[0] for file in files if '.ipynb' in file]))"
     ],
     "language": "python",
     "metadata": {},
     "outputs": [
      {
       "output_type": "pyout",
       "prompt_number": 5,
       "text": [
        "['./Problem 007 - 10001st prime',\n",
        " './Problem 010 - Summation of Primes',\n",
        " './Problem 027 - Quadratic primes',\n",
        " './Problem 035 - Circular primes',\n",
        " './Problem 037 - Truncatable primes',\n",
        " './Problem 041 - Pandigital prime',\n",
        " \"./Problem 046 - Goldbach's other conjecture\",\n",
        " './Problem 047 - Distinct primes factors',\n",
        " './Problem 049 - Prime permutations',\n",
        " './Problem 050 - Consecutive prime sum',\n",
        " './Problem 058 - Spiral primes']"
       ]
      }
     ],
     "prompt_number": 5
    },
    {
     "cell_type": "code",
     "collapsed": false,
     "input": [],
     "language": "python",
     "metadata": {},
     "outputs": []
    }
   ],
   "metadata": {}
  }
 ]
}