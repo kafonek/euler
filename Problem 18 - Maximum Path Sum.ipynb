{
 "metadata": {
  "name": "Problem 18 - Maximum Path Sum"
 },
 "nbformat": 3,
 "nbformat_minor": 0,
 "worksheets": [
  {
   "cells": [
    {
     "cell_type": "markdown",
     "metadata": {},
     "source": [
      "<code>\n",
      "Maximum path sum I\n",
      "Problem 18\n",
      "By starting at the top of the triangle below and moving to adjacent numbers on the row below, the maximum total from top to bottom is 23.\n",
      "\n",
      "3\n",
      "7 4\n",
      "2 4 6\n",
      "8 5 9 3\n",
      "\n",
      "That is, 3 + 7 + 4 + 9 = 23.\n",
      "\n",
      "Find the maximum total from top to bottom of the triangle below:\n",
      "\n",
      "75\n",
      "95 64\n",
      "17 47 82\n",
      "18 35 87 10\n",
      "20 04 82 47 65\n",
      "19 01 23 75 03 34\n",
      "88 02 77 73 07 63 67\n",
      "99 65 04 28 06 16 70 92\n",
      "41 41 26 56 83 40 80 70 33\n",
      "41 48 72 33 47 32 37 16 94 29\n",
      "53 71 44 65 25 43 91 52 97 51 14\n",
      "70 11 33 28 77 73 17 78 39 68 17 57\n",
      "91 71 52 38 17 14 91 43 58 50 27 29 48\n",
      "63 66 04 68 89 53 67 30 73 16 69 87 40 31\n",
      "04 62 98 27 23 09 70 98 73 93 38 53 60 04 23\n",
      "\n",
      "NOTE: As there are only 16384 routes, it is possible to solve this problem by trying every route. However, Problem 67, is the same challenge with a triangle containing one-hundred rows; it cannot be solved by brute force, and requires a clever method! ;o)\n",
      "</code>"
     ]
    },
    {
     "cell_type": "code",
     "collapsed": false,
     "input": [
      "def text_to_lists(text):\n",
      "    lines = reversed(text.split('\\n')) #We're calling reversed so that we start with the bottom rows first\n",
      "    return [[int(c) for c in line.split()] for line in lines if line]\n",
      "\n",
      "text = \"\"\"75\n",
      "95 64\n",
      "17 47 82\n",
      "18 35 87 10\n",
      "20 04 82 47 65\n",
      "19 01 23 75 03 34\n",
      "88 02 77 73 07 63 67\n",
      "99 65 04 28 06 16 70 92\n",
      "41 41 26 56 83 40 80 70 33\n",
      "41 48 72 33 47 32 37 16 94 29\n",
      "53 71 44 65 25 43 91 52 97 51 14\n",
      "70 11 33 28 77 73 17 78 39 68 17 57\n",
      "91 71 52 38 17 14 91 43 58 50 27 29 48\n",
      "63 66 04 68 89 53 67 30 73 16 69 87 40 31\n",
      "04 62 98 27 23 09 70 98 73 93 38 53 60 04 23\"\"\"\n"
     ],
     "language": "python",
     "metadata": {},
     "outputs": []
    },
    {
     "cell_type": "markdown",
     "metadata": {},
     "source": [
      "The solution I'm going to implement is to reduce the pyramid line by line into a sum of the 'best' option from the line below.  It will effectively start at the second to last row, iterating through each number and changing it into the sum of that number plus the best of the options in the line immediately beneath it.  \n",
      "\n",
      "Once that has recursed to the top row, it will give the maximum possible sum."
     ]
    },
    {
     "cell_type": "code",
     "collapsed": false,
     "input": [
      "def find_pyramid_max(list_of_lists):\n",
      "    \"\"\"Reduces a pyramid of numbers (represented by a list of lists) into the maximum possible sum\"\"\"\n",
      "    comparison_line = list_of_lists[0] #This is the \"bottom\" of the pyramid\n",
      "    for line in list_of_lists[1:]:\n",
      "        optimized_line = [] #optimized_list will become a list the same length as line\n",
      "        for index, value in enumerate(line):\n",
      "            best_option = max(comparison_line[index:index+2])\n",
      "            optimized_line.append(value + best_option)\n",
      "        comparison_line = optimized_line\n",
      "        #uncomment these print lines for a visual look at how the recursion works\n",
      "        #print(\"Original line\", line)\n",
      "        #print(\"'Summed up' line\", optimized_line)\n",
      "        #print('\\n')\n",
      "    return comparison_line[0]\n",
      "\n",
      "data = text_to_lists(text)\n",
      "find_pyramid_max(data)"
     ],
     "language": "python",
     "metadata": {},
     "outputs": []
    },
    {
     "cell_type": "markdown",
     "metadata": {},
     "source": [
      "This code below tries to start at the bottom row and pick the 'best' option directly above it, tracking back to the top of the pyramid.  It yields incorrect numbers because the immediate 'best' option does not always give the best total path.  I am leaving the code in as an example of what not to do."
     ]
    },
    {
     "cell_type": "code",
     "collapsed": false,
     "input": [
      "def find_next_best(lst, index):\n",
      "    \"\"\"returns the 'next best result' (and appropriate index) given a list and an index.\n",
      "       If the index is the beginning or end of a line, then there's only one option,\n",
      "       but if it's in the middle of the pyramid, then give the best of two options\"\"\"\n",
      "    if index == 0:\n",
      "        return (lst[0], 0)\n",
      "    elif index == len(lst):\n",
      "        return (lst[-1], len(lst)-1)\n",
      "    else:\n",
      "        return max([(lst[index-1], index-1), (lst[index], index)])\n",
      "\n",
      "def best_path(data, start_index):\n",
      "    \"\"\"data is the list of lists\n",
      "       start_index is the index of the number in the first list of lists\"\"\"\n",
      "    results = []\n",
      "    results.append(data[0][start_index])\n",
      "    current_index = start_index\n",
      "    for element in data[1:]:\n",
      "        best_number, next_index = find_next_best(element, current_index)\n",
      "        results.append(best_number)\n",
      "        current_index = next_index\n",
      "    return results\n",
      "\n",
      "data = text_to_lists(text)\n",
      "results = []\n",
      "for start_index, start_element in enumerate(data[0]):\n",
      "    path = best_path(data, start_index)\n",
      "    results.append((sum(path), start_element, path))\n",
      "\n",
      "print(\"Sum - Start Element - Path followed\")\n",
      "for line in sorted(results, reverse=True):\n",
      "    print(line)"
     ],
     "language": "python",
     "metadata": {},
     "outputs": []
    },
    {
     "cell_type": "code",
     "collapsed": false,
     "input": [],
     "language": "python",
     "metadata": {},
     "outputs": []
    }
   ],
   "metadata": {}
  }
 ]
}