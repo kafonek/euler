{
 "metadata": {
  "name": "Problem 036 - Double-base palindromes"
 },
 "nbformat": 3,
 "nbformat_minor": 0,
 "worksheets": [
  {
   "cells": [
    {
     "cell_type": "markdown",
     "metadata": {},
     "source": [
      "Double-base palindromes\n",
      "\n",
      "Problem 36\n",
      "\n",
      "The decimal number, 585 = 1001001001 base 2 (binary), is palindromic in both bases.\n",
      "\n",
      "<font color=\"red\">Find the sum of all numbers, less than one million, which are palindromic in base 10 and base 2.</font>\n",
      "\n",
      "(Please note that the palindromic number, in either base, may not include leading zeros.)"
     ]
    },
    {
     "cell_type": "code",
     "collapsed": false,
     "input": [
      "bin(585)"
     ],
     "language": "python",
     "metadata": {},
     "outputs": []
    },
    {
     "cell_type": "code",
     "collapsed": false,
     "input": [
      "#%%timeit\n",
      "def is_double_palindromic(n):\n",
      "    string = str(n)\n",
      "    binary_string = bin(n).lstrip('0b')\n",
      "    return string == string[::-1] and binary_string == binary_string[::-1]\n",
      "\n",
      "is_double_palindromic(585)"
     ],
     "language": "python",
     "metadata": {},
     "outputs": []
    },
    {
     "cell_type": "code",
     "collapsed": false,
     "input": [
      "answer = 0\n",
      "for n in xrange(1000000):\n",
      "    if is_double_palindromic(n):\n",
      "        answer += n\n",
      "answer"
     ],
     "language": "python",
     "metadata": {},
     "outputs": []
    }
   ],
   "metadata": {}
  }
 ]
}