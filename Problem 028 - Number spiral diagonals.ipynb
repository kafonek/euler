{
 "metadata": {
  "name": "Problem 028 - Number spiral diagonals"
 },
 "nbformat": 3,
 "nbformat_minor": 0,
 "worksheets": [
  {
   "cells": [
    {
     "cell_type": "markdown",
     "metadata": {},
     "source": [
      "Number spiral diagonals\n",
      "\n",
      "Problem 28\n",
      "\n",
      "Starting with the number 1 and moving to the right in a clockwise direction a 5 by 5 spiral is formed as follows:\n",
      "<code>\n",
      "21 22 23 24 25\n",
      "20  7  8  9 10\n",
      "19  6  1  2 11\n",
      "18  5  4  3 12\n",
      "17 16 15 14 13\n",
      "</code>\n",
      "It can be verified that the sum of the numbers on the diagonals is 101.\n",
      "\n",
      "<font color=\"red\">What is the sum of the numbers on the diagonals in a 1001 by 1001 spiral formed in the same way?</font>"
     ]
    },
    {
     "cell_type": "code",
     "collapsed": false,
     "input": [
      "#Starting from 1, the first set of diagonals are all +2, then +4 for the next spiral, +6 for the 7x7, etc.\n",
      "def diagonal_sums(n):\n",
      "    'calculate sum of diagonals in an n x n grid.  n must be odd'\n",
      "    steps = xrange(2, n, 2) #steps will be even numbers starting at 2, up through n-1\n",
      "    total = 1\n",
      "    current_number = 1\n",
      "    for step in steps:\n",
      "        for _ in xrange(4):\n",
      "            current_number += step\n",
      "            total += current_number\n",
      "    return total\n",
      "\n",
      "print(diagonal_sums(3))\n",
      "print(diagonal_sums(5))"
     ],
     "language": "python",
     "metadata": {},
     "outputs": []
    },
    {
     "cell_type": "code",
     "collapsed": false,
     "input": [
      "diagonal_sums(1001)"
     ],
     "language": "python",
     "metadata": {},
     "outputs": []
    }
   ],
   "metadata": {}
  }
 ]
}