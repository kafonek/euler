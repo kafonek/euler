{
 "metadata": {
  "name": "Problem 030 - Digit fifth powers"
 },
 "nbformat": 3,
 "nbformat_minor": 0,
 "worksheets": [
  {
   "cells": [
    {
     "cell_type": "markdown",
     "metadata": {},
     "source": [
      "Digit fifth powers\n",
      "\n",
      "Problem 30\n",
      "\n",
      "Surprisingly there are only three numbers that can be written as the sum of fourth powers of their digits:\n",
      "<code>\n",
      "1634 = 1^4 + 6^4 + 3^4 + 4^4\n",
      "8208 = 8^4 + 2^4 + 0^4 + 8^4\n",
      "9474 = 9^4 + 4^4 + 7^4 + 4^4\n",
      "</code>\n",
      "As 1 = 1^4 is not a sum it is not included.\n",
      "\n",
      "The sum of these numbers is 1634 + 8208 + 9474 = 19316.\n",
      "\n",
      "<font color=\"red\">Find the sum of all the numbers that can be written as the sum of fifth powers of their digits.</font>"
     ]
    },
    {
     "cell_type": "code",
     "collapsed": false,
     "input": [
      "#I am curious what the 'limit' is here.. \n",
      "#4 digit numbers have a higher max (9**4) *4 > 9999\n",
      "(9**4) * 4"
     ],
     "language": "python",
     "metadata": {},
     "outputs": []
    },
    {
     "cell_type": "code",
     "collapsed": false,
     "input": [
      "(9**4) * 5 # 5 digit numbers do not for the fourth power"
     ],
     "language": "python",
     "metadata": {},
     "outputs": []
    },
    {
     "cell_type": "code",
     "collapsed": false,
     "input": [
      "(9**5) * 5"
     ],
     "language": "python",
     "metadata": {},
     "outputs": []
    },
    {
     "cell_type": "code",
     "collapsed": false,
     "input": [
      "(9 ** 5) * 6 #so I'm going to limit this to 5 digit numbers, as even 999,999 doesn't push the sum of powers into the millions."
     ],
     "language": "python",
     "metadata": {},
     "outputs": []
    },
    {
     "cell_type": "code",
     "collapsed": false,
     "input": [
      "def power_sum(n, power):\n",
      "    total = sum(int(number)**power for number in str(n))\n",
      "    return total == n\n",
      "\n",
      "power_sum(1634, 4)"
     ],
     "language": "python",
     "metadata": {},
     "outputs": []
    },
    {
     "cell_type": "code",
     "collapsed": false,
     "input": [
      "answers = []\n",
      "for n in xrange(2, 10**6):\n",
      "    if power_sum(n, 5):\n",
      "        answers.append(n)"
     ],
     "language": "python",
     "metadata": {},
     "outputs": []
    },
    {
     "cell_type": "code",
     "collapsed": false,
     "input": [
      "len(answers)"
     ],
     "language": "python",
     "metadata": {},
     "outputs": []
    },
    {
     "cell_type": "code",
     "collapsed": false,
     "input": [
      "sum(answers)"
     ],
     "language": "python",
     "metadata": {},
     "outputs": []
    },
    {
     "cell_type": "code",
     "collapsed": false,
     "input": [
      "answers"
     ],
     "language": "python",
     "metadata": {},
     "outputs": []
    },
    {
     "cell_type": "code",
     "collapsed": false,
     "input": [],
     "language": "python",
     "metadata": {},
     "outputs": []
    }
   ],
   "metadata": {}
  }
 ]
}