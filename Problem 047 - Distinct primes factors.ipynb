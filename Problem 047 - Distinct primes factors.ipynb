{
 "metadata": {
  "name": "Problem 047 - Distinct primes factors"
 },
 "nbformat": 3,
 "nbformat_minor": 0,
 "worksheets": [
  {
   "cells": [
    {
     "cell_type": "markdown",
     "metadata": {},
     "source": [
      "Distinct primes factors\n",
      "\n",
      "Problem 47\n",
      "\n",
      "The first two consecutive numbers to have two distinct prime factors are:\n",
      "\n",
      "14 = 2 * 7\n",
      "\n",
      "15 = 3 * 5\n",
      "\n",
      "The first three consecutive numbers to have three distinct prime factors are:\n",
      "\n",
      "644 = 2 * 2 * 7 * 23\n",
      "\n",
      "645 = 3 * 5 * 43\n",
      "\n",
      "646 = 2 * 17 * 19.\n",
      "\n",
      "<font color=\"red\">Find the first four consecutive integers to have four distinct prime factors. What is the first of these numbers?</font>"
     ]
    },
    {
     "cell_type": "code",
     "collapsed": false,
     "input": [
      "def find_factors(n):\n",
      "    import math\n",
      "    results = set()\n",
      "    for i in xrange(2, int(math.sqrt(n)) + 1):\n",
      "        if n % i == 0:\n",
      "            results.add(n / i)\n",
      "            results.add(i)\n",
      "    return results"
     ],
     "language": "python",
     "metadata": {},
     "outputs": []
    },
    {
     "cell_type": "code",
     "collapsed": false,
     "input": [
      "find_factors(14)"
     ],
     "language": "python",
     "metadata": {},
     "outputs": []
    },
    {
     "cell_type": "code",
     "collapsed": false,
     "input": [
      "for i in [644, 645, 646]:\n",
      "    print(sorted(find_factors(i)))"
     ],
     "language": "python",
     "metadata": {},
     "outputs": []
    },
    {
     "cell_type": "code",
     "collapsed": false,
     "input": [
      "#Code to use when generating through \"n primes\"\n",
      "def postponed_sieve():                   # postponed sieve, by Will Ness      \n",
      "    yield 2; yield 3; yield 5; yield 7;  # original code David Eppstein, \n",
      "    D = {}                               #            ActiveState Recipe 2002\n",
      "    ps = (p for p in postponed_sieve())  # a separate Primes Supply:\n",
      "    p = ps.next() and ps.next()          # (3) a Prime to add to dict\n",
      "    q = p*p                              # (9) when its sQuare is \n",
      "    c = 9                                # the next Candidate\n",
      "    while True:\n",
      "        if c not in D:                # not a multiple of any prime seen so far:\n",
      "            if c < q: yield c         #   a prime, or\n",
      "            else:   # (c==q):         #   the next prime's square:\n",
      "                add(D,c + 2*p,2*p)    #     (9+6,6 : 15,21,27,33,...)\n",
      "                p=ps.next()           #     (5)\n",
      "                q=p*p                 #     (25)\n",
      "        else:                         # 'c' is a composite:\n",
      "            s = D.pop(c)              #   step of increment\n",
      "            add(D,c + s,s)            #   next multiple, same step\n",
      "        c += 2                        # next odd candidate\n",
      "\n",
      "def add(D,x,s):                          # make no multiple keys in Dict\n",
      "    while x in D: x += s                 # increment by the given step\n",
      "    D[x] = s "
     ],
     "language": "python",
     "metadata": {},
     "outputs": []
    },
    {
     "cell_type": "code",
     "collapsed": false,
     "input": [
      "import itertools\n",
      "primes = sorted(set(itertools.takewhile(lambda x: x < 10000, postponed_sieve())))\n",
      "print(len(primes), primes[0], primes[-1])"
     ],
     "language": "python",
     "metadata": {},
     "outputs": []
    },
    {
     "cell_type": "code",
     "collapsed": false,
     "input": [
      "def prime_factors(n):\n",
      "    return len([factor for factor in find_factors(n) if factor in primes])\n",
      "\n",
      "for i in [14, 15, 644, 645, 646, 647]:\n",
      "    print(i, prime_factors(i))"
     ],
     "language": "python",
     "metadata": {},
     "outputs": []
    },
    {
     "cell_type": "code",
     "collapsed": false,
     "input": [
      "counter = 0\n",
      "current = 1\n",
      "goal = 2\n",
      "while True:\n",
      "    pf = prime_factors(current)\n",
      "    if pf == goal:\n",
      "        counter += 1\n",
      "    else:\n",
      "        counter = 0\n",
      "    if counter == goal:\n",
      "        print(\"First %s consecutive prime factors starts at %s\" % (goal, (current - goal + 1)))\n",
      "        goal += 1\n",
      "        if goal == 5:\n",
      "            break\n",
      "    current += 1"
     ],
     "language": "python",
     "metadata": {},
     "outputs": []
    },
    {
     "cell_type": "code",
     "collapsed": false,
     "input": [],
     "language": "python",
     "metadata": {},
     "outputs": []
    }
   ],
   "metadata": {}
  }
 ]
}