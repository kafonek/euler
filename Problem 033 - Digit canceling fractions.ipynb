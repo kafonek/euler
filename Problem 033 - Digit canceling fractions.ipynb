{
 "metadata": {
  "name": "Problem 033 - Digit canceling fractions"
 },
 "nbformat": 3,
 "nbformat_minor": 0,
 "worksheets": [
  {
   "cells": [
    {
     "cell_type": "markdown",
     "metadata": {},
     "source": [
      "Digit canceling fractions\n",
      "\n",
      "Problem 33\n",
      "\n",
      "The fraction 49/98 is a curious fraction, as an inexperienced mathematician in attempting to simplify it may incorrectly believe that 49/98 = 4/8, which is correct, is obtained by cancelling the 9s.\n",
      "\n",
      "We shall consider fractions like, 30/50 = 3/5, to be trivial examples.\n",
      "\n",
      "There are exactly four non-trivial examples of this type of fraction, less than one in value, and containing two digits in the numerator and denominator.\n",
      "\n",
      "<font color=\"red\">If the product of these four fractions is given in its lowest common terms, find the value of the denominator.</font>"
     ]
    },
    {
     "cell_type": "code",
     "collapsed": false,
     "input": [
      "def curious_fraction(a, b):\n",
      "    if a == b:\n",
      "        return False #i.e. 22  / 22\n",
      "    aStr = str(a)\n",
      "    bStr = str(b)\n",
      "    \n",
      "    if aStr[0] != bStr[1] or aStr[1] == bStr[0]: #no overlapping numbers\n",
      "        return False\n",
      "    \n",
      "    #since there is some common numbers, check if the total fraction is the same as the curious fraction\n",
      "    total_divisor = float(a) / float(b)\n",
      "    if \n",
      "            \n",
      "\n",
      "curious_fraction(49, 98)\n",
      "            \n",
      "            "
     ],
     "language": "python",
     "metadata": {},
     "outputs": [
      {
       "output_type": "pyout",
       "prompt_number": 2,
       "text": [
        "True"
       ]
      }
     ],
     "prompt_number": 2
    },
    {
     "cell_type": "code",
     "collapsed": false,
     "input": [
      "curious_fraction(29, 92)"
     ],
     "language": "python",
     "metadata": {},
     "outputs": [
      {
       "output_type": "pyout",
       "prompt_number": 3,
       "text": [
        "False"
       ]
      }
     ],
     "prompt_number": 3
    },
    {
     "cell_type": "code",
     "collapsed": false,
     "input": [
      "curious_fractions = []\n",
      "for a in xrange(10, 100):\n",
      "    for b in xrange(10, 100):\n",
      "        if curious_fraction(a, b):\n",
      "            curious_fractions.append((a, b))\n",
      "            \n",
      "len(curious_fractions)            "
     ],
     "language": "python",
     "metadata": {},
     "outputs": [
      {
       "output_type": "pyout",
       "prompt_number": 5,
       "text": [
        "19"
       ]
      }
     ],
     "prompt_number": 5
    },
    {
     "cell_type": "code",
     "collapsed": false,
     "input": [
      "curious_fractions"
     ],
     "language": "python",
     "metadata": {},
     "outputs": [
      {
       "output_type": "pyout",
       "prompt_number": 6,
       "text": [
        "[(12, 24),\n",
        " (13, 39),\n",
        " (13, 91),\n",
        " (14, 42),\n",
        " (16, 64),\n",
        " (17, 51),\n",
        " (19, 95),\n",
        " (21, 42),\n",
        " (23, 92),\n",
        " (24, 48),\n",
        " (24, 72),\n",
        " (25, 50),\n",
        " (26, 52),\n",
        " (28, 84),\n",
        " (31, 93),\n",
        " (37, 74),\n",
        " (42, 84),\n",
        " (47, 94),\n",
        " (49, 98)]"
       ]
      }
     ],
     "prompt_number": 6
    },
    {
     "cell_type": "code",
     "collapsed": false,
     "input": [
      "divmod(30, 50)"
     ],
     "language": "python",
     "metadata": {},
     "outputs": [
      {
       "output_type": "pyout",
       "prompt_number": 7,
       "text": [
        "(0, 30)"
       ]
      }
     ],
     "prompt_number": 7
    },
    {
     "cell_type": "code",
     "collapsed": false,
     "input": [],
     "language": "python",
     "metadata": {},
     "outputs": []
    }
   ],
   "metadata": {}
  }
 ]
}