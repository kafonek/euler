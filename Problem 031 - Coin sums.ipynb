{
 "metadata": {
  "name": "Problem 031 - Coin sums"
 },
 "nbformat": 3,
 "nbformat_minor": 0,
 "worksheets": [
  {
   "cells": [
    {
     "cell_type": "markdown",
     "metadata": {},
     "source": [
      "Coin sums\n",
      "\n",
      "Problem 31\n",
      "\n",
      "In England the currency is made up of pound, \u00a3, and pence, p, and there are eight coins in general circulation:\n",
      "\n",
      "1p, 2p, 5p, 10p, 20p, 50p, \u00a31 (100p) and \u00a32 (200p).\n",
      "\n",
      "It is possible to make \u00a32 in the following way:\n",
      "\n",
      "1 \u00a31 + 1 50p + 2 20p + 1 5p + 1 2p + 3 1p\n",
      "\n",
      "<font color=\"red\">How many different ways can \u00a32 be made using any number of coins?</font>"
     ]
    },
    {
     "cell_type": "code",
     "collapsed": false,
     "input": [
      "### Nabbed from a blog\n",
      "# reference http://www.algorithmist.com/index.php/Coin_Change\n",
      "# and http://blog.dreamshire.com/docs/dyn_prog.pdf\n",
      "def change_possibilities(target, coins):\n",
      "    ways = [1]+[0]*target\n",
      " \n",
      "    for coin in coins:\n",
      "        for i in range(coin, target+1):\n",
      "            ways[i] += ways[i-coin]\n",
      "    return ways[target]\n"
     ],
     "language": "python",
     "metadata": {},
     "outputs": []
    },
    {
     "cell_type": "code",
     "collapsed": false,
     "input": [
      "#Let's take a few examples of regular US currency\n",
      "coins = [1, 5, 10, 25]\n",
      "target = 8 #we expect \"2\" possibilities.  8 pennies, or a nickel and 3 pennies.\n",
      "change_possibilities(target, coins)"
     ],
     "language": "python",
     "metadata": {},
     "outputs": []
    },
    {
     "cell_type": "code",
     "collapsed": false,
     "input": [
      "target = 26 \n",
      "change_possibilities(target, coins)"
     ],
     "language": "python",
     "metadata": {},
     "outputs": []
    },
    {
     "cell_type": "code",
     "collapsed": false,
     "input": [
      "coins = [1, 2, 5, 10, 20, 50, 100, 200]\n",
      "target = 200\n",
      "change_possibilities(target, coins)"
     ],
     "language": "python",
     "metadata": {},
     "outputs": []
    },
    {
     "cell_type": "code",
     "collapsed": false,
     "input": [
      "#let's get a little more visual here though\n",
      "def change_possibilities(target, coins):\n",
      "    ways = [1]+[0]*target\n",
      "    for coin in coins:\n",
      "        for i in range(coin, target+1):\n",
      "            ways[i] += ways[i-coin]\n",
      "        print(coin, ways)\n",
      "    return ways[target]\n",
      "\n",
      "coins = [25, 5, 10, 15, 1]\n",
      "target = 26\n",
      "change_possibilities(target, coins)\n",
      "# Each row in the list (after the first row) represents how many ways you can make that number\n",
      "# using the current row plus previously seen rows.  The last row is the \"target\""
     ],
     "language": "python",
     "metadata": {},
     "outputs": []
    },
    {
     "cell_type": "code",
     "collapsed": false,
     "input": [],
     "language": "python",
     "metadata": {},
     "outputs": []
    }
   ],
   "metadata": {}
  }
 ]
}