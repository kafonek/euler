{
 "metadata": {
  "name": "Problem 015 - Lattice paths"
 },
 "nbformat": 3,
 "nbformat_minor": 0,
 "worksheets": [
  {
   "cells": [
    {
     "cell_type": "markdown",
     "metadata": {},
     "source": [
      "Lattice paths\n",
      "\n",
      "Problem 15\n",
      "\n",
      "Starting in the top left corner of a 2x2 grid, and only being able to move to the right and down, there are exactly 6 routes to the bottom right corner.\n",
      "\n",
      "(note, the copy/paste for this problem doesn't pick up the pictures.  Check out the Euler page itself to see the problem, http://projecteuler.net/problem=15)\n",
      "\n",
      "<font color=\"red\">How many such routes are there through a 20x20 grid?</font>"
     ]
    },
    {
     "cell_type": "markdown",
     "metadata": {},
     "source": [
      "This is a very neat problem, a variant of <a href=\"https://en.wikipedia.org/wiki/Pascal's_triangle\">Pascal's Triangle</a>.  For the purposes of this problem, it boils down to a straightforward (2*n)! / n! * n!"
     ]
    },
    {
     "cell_type": "code",
     "collapsed": false,
     "input": [
      "def lattice_paths(n):\n",
      "    import math\n",
      "    return math.factorial(2*n) / (math.factorial(n) * math.factorial(n))\n",
      "\n",
      "lattice_paths(2)"
     ],
     "language": "python",
     "metadata": {},
     "outputs": []
    },
    {
     "cell_type": "code",
     "collapsed": false,
     "input": [
      "lattice_paths(20)"
     ],
     "language": "python",
     "metadata": {},
     "outputs": []
    }
   ],
   "metadata": {}
  }
 ]
}