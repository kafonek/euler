{
 "metadata": {
  "name": "Problem 014 - Longest Collatz sequence"
 },
 "nbformat": 3,
 "nbformat_minor": 0,
 "worksheets": [
  {
   "cells": [
    {
     "cell_type": "markdown",
     "metadata": {},
     "source": [
      "Longest Collatz sequence\n",
      "\n",
      "Problem 14\n",
      "\n",
      "The following iterative sequence is defined for the set of positive integers:\n",
      "\n",
      "n -> n/2 (n is even)\n",
      "\n",
      "n -> 3n + 1 (n is odd)\n",
      "\n",
      "Using the rule above and starting with 13, we generate the following sequence:\n",
      "\n",
      "13 -> 40 -> 20 -> 10 -> 5 -> 16 -> 8 -> 4 -> 2 -> 1\n",
      "\n",
      "It can be seen that this sequence (starting at 13 and finishing at 1) contains 10 terms. Although it has not been proved yet (Collatz Problem), it is thought that all starting numbers finish at 1.\n",
      "\n",
      "<font color=\"red\">Which starting number, under one million, produces the longest chain?</font>\n",
      "\n",
      "NOTE: Once the chain starts the terms are allowed to go above one million."
     ]
    },
    {
     "cell_type": "code",
     "collapsed": false,
     "input": [
      "def collatz(n):\n",
      "    if n % 2 == 0:\n",
      "        return n / 2\n",
      "    else:\n",
      "        return (3*n) + 1\n",
      "    \n",
      "collatz(13)"
     ],
     "language": "python",
     "metadata": {},
     "outputs": []
    },
    {
     "cell_type": "code",
     "collapsed": false,
     "input": [
      "def collatz_sequence(n):\n",
      "    chain_length = 1\n",
      "    while n != 1:\n",
      "        n = collatz(n)\n",
      "        chain_length += 1\n",
      "    return chain_length\n",
      "\n",
      "collatz_sequence(13)"
     ],
     "language": "python",
     "metadata": {},
     "outputs": []
    },
    {
     "cell_type": "code",
     "collapsed": false,
     "input": [
      "answer = (1, 1) #n, collatz length of n\n",
      "for i in xrange(1, 10**6):\n",
      "    chain_length = collatz_sequence(i)\n",
      "    if chain_length > answer[1]:\n",
      "        answer = (i, chain_length)\n",
      "print(answer)\n",
      "    "
     ],
     "language": "python",
     "metadata": {},
     "outputs": []
    }
   ],
   "metadata": {}
  }
 ]
}