{
 "metadata": {
  "name": "Problem 034 - Digit factorials"
 },
 "nbformat": 3,
 "nbformat_minor": 0,
 "worksheets": [
  {
   "cells": [
    {
     "cell_type": "markdown",
     "metadata": {},
     "source": [
      "Digit factorials\n",
      "\n",
      "Problem 34\n",
      "\n",
      "145 is a curious number, as 1! + 4! + 5! = 1 + 24 + 120 = 145.\n",
      "\n",
      "<font color=\"red\">Find the sum of all numbers which are equal to the sum of the factorial of their digits.</font>\n",
      "\n",
      "Note: as 1! = 1 and 2! = 2 are not sums they are not included."
     ]
    },
    {
     "cell_type": "code",
     "collapsed": false,
     "input": [
      "import math\n",
      "lookup_table = {str(i) : math.factorial(i) for i in xrange(0, 10)}\n",
      "lookup_table"
     ],
     "language": "python",
     "metadata": {},
     "outputs": []
    },
    {
     "cell_type": "code",
     "collapsed": false,
     "input": [
      "%%timeit\n",
      "def is_factorial_sum(n):\n",
      "    summed = sum(lookup_table[num] for num in str(n))\n",
      "    return n == summed\n",
      "\n",
      "is_factorial_sum(145)"
     ],
     "language": "python",
     "metadata": {},
     "outputs": []
    },
    {
     "cell_type": "code",
     "collapsed": false,
     "input": [
      "#what would the upper limit of this be?  Look at where 9! * n caps out\n",
      "len(str(math.factorial(9)))"
     ],
     "language": "python",
     "metadata": {},
     "outputs": []
    },
    {
     "cell_type": "code",
     "collapsed": false,
     "input": [
      "len(str(math.factorial(9) * 7)) #basically, summing the factorials of 9999999 doesn't get you to 10**8, so that's our limit"
     ],
     "language": "python",
     "metadata": {},
     "outputs": []
    },
    {
     "cell_type": "code",
     "collapsed": false,
     "input": [
      "curious_numbers = []\n",
      "for i in xrange(10, 10**8):\n",
      "    if is_factorial_sum(i):\n",
      "        curious_numbers.append(i)\n",
      "len(curious_numbers)"
     ],
     "language": "python",
     "metadata": {},
     "outputs": []
    },
    {
     "cell_type": "code",
     "collapsed": false,
     "input": [
      "curious_numbers"
     ],
     "language": "python",
     "metadata": {},
     "outputs": []
    },
    {
     "cell_type": "code",
     "collapsed": false,
     "input": [
      "sum(curious_numbers)"
     ],
     "language": "python",
     "metadata": {},
     "outputs": []
    },
    {
     "cell_type": "code",
     "collapsed": false,
     "input": [],
     "language": "python",
     "metadata": {},
     "outputs": []
    }
   ],
   "metadata": {}
  }
 ]
}