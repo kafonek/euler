{
 "metadata": {
  "name": "Problem 005 - Smallest multiple"
 },
 "nbformat": 3,
 "nbformat_minor": 0,
 "worksheets": [
  {
   "cells": [
    {
     "cell_type": "markdown",
     "metadata": {},
     "source": [
      "Smallest multiple\n",
      "\n",
      "Problem 5\n",
      "\n",
      "2520 is the smallest number that can be divided by each of the numbers from 1 to 10 without any remainder.\n",
      "\n",
      "<font color=\"red\">What is the smallest positive number that is evenly divisible by all of the numbers from 1 to 20?</font>"
     ]
    },
    {
     "cell_type": "markdown",
     "metadata": {},
     "source": [
      "The strategy I'm going to approach this with is that we should 'step' through every product of all primes in the \"evenly divisible\" by list and check whether the entire range is then divisible by that number"
     ]
    },
    {
     "cell_type": "code",
     "collapsed": false,
     "input": [
      "### Find Factors is a function I used in problem 003 - Largest prime factor\n",
      "def find_factors(n):\n",
      "    import math\n",
      "    results = set()\n",
      "    for i in xrange(2, int(math.sqrt(n)) + 1):\n",
      "        if n % i == 0:\n",
      "            results.add(n / i)\n",
      "            results.add(i)\n",
      "    return results\n"
     ],
     "language": "python",
     "metadata": {},
     "outputs": []
    },
    {
     "cell_type": "code",
     "collapsed": false,
     "input": [
      "def get_product_of_primes_in_range(n):\n",
      "    answer = 1\n",
      "    for i in xrange(2, n):\n",
      "        if not find_factors(i):\n",
      "            answer = answer*i\n",
      "    return answer\n",
      "\n",
      "print(get_product_of_primes_in_range(10))\n",
      "print(get_product_of_primes_in_range(20))\n"
     ],
     "language": "python",
     "metadata": {},
     "outputs": []
    },
    {
     "cell_type": "code",
     "collapsed": false,
     "input": [
      "def evenly_divisible_by_all(to_check, n):\n",
      "    for i in xrange(n, 2, -1):\n",
      "        if to_check % i != 0:\n",
      "            return False\n",
      "    return True\n",
      "\n",
      "def find_smallest_positive_number(n):\n",
      "    \"\"\"Finds the smallest number evenly divisible by all numbers 1-n\"\"\"\n",
      "    step = get_product_of_primes_in_range(n)\n",
      "    to_check = step\n",
      "    while True:\n",
      "        if evenly_divisible_by_all(to_check, n):\n",
      "            break\n",
      "        to_check += step\n",
      "    return to_check\n",
      "\n",
      "print(find_smallest_positive_number(10))\n",
      "print(find_smallest_positive_number(20))\n",
      "print(find_smallest_positive_number(100))"
     ],
     "language": "python",
     "metadata": {},
     "outputs": []
    },
    {
     "cell_type": "code",
     "collapsed": false,
     "input": [],
     "language": "python",
     "metadata": {},
     "outputs": []
    }
   ],
   "metadata": {}
  }
 ]
}