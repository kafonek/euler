{
 "metadata": {
  "name": "Problem 019 - Counting Sundays"
 },
 "nbformat": 3,
 "nbformat_minor": 0,
 "worksheets": [
  {
   "cells": [
    {
     "cell_type": "markdown",
     "metadata": {},
     "source": [
      "Counting Sundays\n",
      "\n",
      "Problem 19\n",
      "\n",
      "You are given the following information, but you may prefer to do some research for yourself.\n",
      "\n",
      "1 Jan 1900 was a Monday.\n",
      "Thirty days has September,\n",
      "April, June and November.\n",
      "All the rest have thirty-one,\n",
      "Saving February alone,\n",
      "Which has twenty-eight, rain or shine.\n",
      "And on leap years, twenty-nine.\n",
      "A leap year occurs on any year evenly divisible by 4, but not on a century unless it is divisible by 400.\n",
      "\n",
      "<font color=\"red\">How many Sundays fell on the first of the month during the twentieth century (1 Jan 1901 to 31 Dec 2000)?</font>"
     ]
    },
    {
     "cell_type": "markdown",
     "metadata": {},
     "source": [
      "For this problem, we could write our own implementation of a Calendar generator but we'll try using Python's built in datetime module tools first.  There are three methods we're going to use from the datetime module - a datetime object, the timetuple function of the datetime object, and the timedelta object."
     ]
    },
    {
     "cell_type": "code",
     "collapsed": false,
     "input": [
      "from datetime import datetime, timedelta\n",
      "date = datetime(1900, 1, 1)\n",
      "print(date)\n",
      "time_tuple = datetime.timetuple(date)\n",
      "print(time_tuple)\n",
      "print('\\n')\n",
      "today = date.today()\n",
      "print(today)\n",
      "print(datetime.timetuple(today))"
     ],
     "language": "python",
     "metadata": {},
     "outputs": [
      {
       "output_type": "stream",
       "stream": "stdout",
       "text": [
        "1900-01-01 00:00:00\n",
        "time.struct_time(tm_year=1900, tm_mon=1, tm_mday=1, tm_hour=0, tm_min=0, tm_sec=0, tm_wday=0, tm_yday=1, tm_isdst=-1)\n",
        "\n",
        "\n",
        "2013-03-30 21:41:39.464000\n",
        "time.struct_time(tm_year=2013, tm_mon=3, tm_mday=30, tm_hour=21, tm_min=41, tm_sec=39, tm_wday=5, tm_yday=89, tm_isdst=-1)\n"
       ]
      }
     ],
     "prompt_number": 74
    },
    {
     "cell_type": "code",
     "collapsed": false,
     "input": [
      "delta = timedelta(days=1)\n",
      "print(delta)\n",
      "date += delta\n",
      "print(date)\n",
      "start_date = datetime(1900, 1, 1)\n",
      "end_date = datetime(2000, 12, 31)\n",
      "diff = end_date - start_date\n",
      "type(diff)\n",
      "diff.days\n",
      "\n"
     ],
     "language": "python",
     "metadata": {},
     "outputs": [
      {
       "output_type": "stream",
       "stream": "stdout",
       "text": [
        "1 day, 0:00:00\n",
        "1900-01-02 00:00:00\n"
       ]
      },
      {
       "output_type": "pyout",
       "prompt_number": 75,
       "text": [
        "36889"
       ]
      }
     ],
     "prompt_number": 75
    },
    {
     "cell_type": "code",
     "collapsed": false,
     "input": [
      "#What day of the week was say, D Day?\n",
      "d_day = datetime(1944, 6, 6)\n",
      "print(datetime.timetuple(d_day))"
     ],
     "language": "python",
     "metadata": {},
     "outputs": [
      {
       "output_type": "stream",
       "stream": "stdout",
       "text": [
        "time.struct_time(tm_year=1944, tm_mon=6, tm_mday=6, tm_hour=0, tm_min=0, tm_sec=0, tm_wday=1, tm_yday=158, tm_isdst=-1)\n"
       ]
      }
     ],
     "prompt_number": 76
    },
    {
     "cell_type": "code",
     "collapsed": false,
     "input": [
      "from datetime import datetime, timedelta\n",
      "def is_first_sunday(datetime_object):\n",
      "    time_tuple = datetime.timetuple(datetime_object)\n",
      "    valid = time_tuple[2] == 1 and time_tuple[6] == 0\n",
      "    if valid:\n",
      "        print(time_tuple)\n",
      "    return valid\n",
      "\n",
      "def first_sundays(start_date, end_date):\n",
      "    \"\"\"Returns a count of how many Sundays were on the first day of the month between two dateranges.\n",
      "       start_time and end_date should be datetime.datetime objects\"\"\"\n",
      "    delta = timedelta(days=1)\n",
      "    difference = end_date - start_date\n",
      "    first_sundays = 0\n",
      "    current_date = start_date\n",
      "    for _ in xrange(difference.days):\n",
      "        if is_first_sunday(current_date):\n",
      "            first_sundays += 1\n",
      "        current_date += delta\n",
      "    return first_sundays\n",
      "\n",
      "first_sundays(datetime(1901, 1, 1), datetime(2000, 12, 31))"
     ],
     "language": "python",
     "metadata": {},
     "outputs": [
      {
       "output_type": "stream",
       "stream": "stdout",
       "text": [
        "time.struct_time(tm_year=1901, tm_mon=4, tm_mday=1, tm_hour=0, tm_min=0, tm_sec=0, tm_wday=0, tm_yday=91, tm_isdst=-1)\n",
        "time.struct_time(tm_year=1901, tm_mon=7, tm_mday=1, tm_hour=0, tm_min=0, tm_sec=0, tm_wday=0, tm_yday=182, tm_isdst=-1)\n",
        "time.struct_time(tm_year=1902, tm_mon=9, tm_mday=1, tm_hour=0, tm_min=0, tm_sec=0, tm_wday=0, tm_yday=244, tm_isdst=-1)\n",
        "time.struct_time(tm_year=1902, tm_mon=12, tm_mday=1, tm_hour=0, tm_min=0, tm_sec=0, tm_wday=0, tm_yday=335, tm_isdst=-1)\n",
        "time.struct_time(tm_year=1903, tm_mon=6, tm_mday=1, tm_hour=0, tm_min=0, tm_sec=0, tm_wday=0, tm_yday=152, tm_isdst=-1)\n",
        "time.struct_time(tm_year=1904, tm_mon=2, tm_mday=1, tm_hour=0, tm_min=0, tm_sec=0, tm_wday=0, tm_yday=32, tm_isdst=-1)\n",
        "time.struct_time(tm_year=1904, tm_mon=8, tm_mday=1, tm_hour=0, tm_min=0, tm_sec=0, tm_wday=0, tm_yday=214, tm_isdst=-1)\n",
        "time.struct_time(tm_year=1905, tm_mon=5, tm_mday=1, tm_hour=0, tm_min=0, tm_sec=0, tm_wday=0, tm_yday=121, tm_isdst=-1)\n",
        "time.struct_time(tm_year=1906, tm_mon=1, tm_mday=1, tm_hour=0, tm_min=0, tm_sec=0, tm_wday=0, tm_yday=1, tm_isdst=-1)\n",
        "time.struct_time(tm_year=1906, tm_mon=10, tm_mday=1, tm_hour=0, tm_min=0, tm_sec=0, tm_wday=0, tm_yday=274, tm_isdst=-1)\n",
        "time.struct_time(tm_year=1907, tm_mon=4, tm_mday=1, tm_hour=0, tm_min=0, tm_sec=0, tm_wday=0, tm_yday=91, tm_isdst=-1)\n",
        "time.struct_time(tm_year=1907, tm_mon=7, tm_mday=1, tm_hour=0, tm_min=0, tm_sec=0, tm_wday=0, tm_yday=182, tm_isdst=-1)\n",
        "time.struct_time(tm_year=1908, tm_mon=6, tm_mday=1, tm_hour=0, tm_min=0, tm_sec=0, tm_wday=0, tm_yday=153, tm_isdst=-1)\n",
        "time.struct_time(tm_year=1909, tm_mon=2, tm_mday=1, tm_hour=0, tm_min=0, tm_sec=0, tm_wday=0, tm_yday=32, tm_isdst=-1)\n",
        "time.struct_time(tm_year=1909, tm_mon=3, tm_mday=1, tm_hour=0, tm_min=0, tm_sec=0, tm_wday=0, tm_yday=60, tm_isdst=-1)\n",
        "time.struct_time(tm_year=1909, tm_mon=11, tm_mday=1, tm_hour=0, tm_min=0, tm_sec=0, tm_wday=0, tm_yday=305, tm_isdst=-1)\n",
        "time.struct_time(tm_year=1910, tm_mon=8, tm_mday=1, tm_hour=0, tm_min=0, tm_sec=0, tm_wday=0, tm_yday=213, tm_isdst=-1)\n",
        "time.struct_time(tm_year=1911, tm_mon=5, tm_mday=1, tm_hour=0, tm_min=0, tm_sec=0, tm_wday=0, tm_yday=121, tm_isdst=-1)\n",
        "time.struct_time(tm_year=1912, tm_mon=1, tm_mday=1, tm_hour=0, tm_min=0, tm_sec=0, tm_wday=0, tm_yday=1, tm_isdst=-1)\n",
        "time.struct_time(tm_year=1912, tm_mon=4, tm_mday=1, tm_hour=0, tm_min=0, tm_sec=0, tm_wday=0, tm_yday=92, tm_isdst=-1)\n",
        "time.struct_time(tm_year=1912, tm_mon=7, tm_mday=1, tm_hour=0, tm_min=0, tm_sec=0, tm_wday=0, tm_yday=183, tm_isdst=-1)\n",
        "time.struct_time(tm_year=1913, tm_mon=9, tm_mday=1, tm_hour=0, tm_min=0, tm_sec=0, tm_wday=0, tm_yday=244, tm_isdst=-1)\n",
        "time.struct_time(tm_year=1913, tm_mon=12, tm_mday=1, tm_hour=0, tm_min=0, tm_sec=0, tm_wday=0, tm_yday=335, tm_isdst=-1)\n",
        "time.struct_time(tm_year=1914, tm_mon=6, tm_mday=1, tm_hour=0, tm_min=0, tm_sec=0, tm_wday=0, tm_yday=152, tm_isdst=-1)\n",
        "time.struct_time(tm_year=1915, tm_mon=2, tm_mday=1, tm_hour=0, tm_min=0, tm_sec=0, tm_wday=0, tm_yday=32, tm_isdst=-1)\n",
        "time.struct_time(tm_year=1915, tm_mon=3, tm_mday=1, tm_hour=0, tm_min=0, tm_sec=0, tm_wday=0, tm_yday=60, tm_isdst=-1)\n",
        "time.struct_time(tm_year=1915, tm_mon=11, tm_mday=1, tm_hour=0, tm_min=0, tm_sec=0, tm_wday=0, tm_yday=305, tm_isdst=-1)\n",
        "time.struct_time(tm_year=1916, tm_mon=5, tm_mday=1, tm_hour=0, tm_min=0, tm_sec=0, tm_wday=0, tm_yday=122, tm_isdst=-1)\n",
        "time.struct_time(tm_year=1917, tm_mon=1, tm_mday=1, tm_hour=0, tm_min=0, tm_sec=0, tm_wday=0, tm_yday=1, tm_isdst=-1)\n",
        "time.struct_time(tm_year=1917, tm_mon=10, tm_mday=1, tm_hour=0, tm_min=0, tm_sec=0, tm_wday=0, tm_yday=274, tm_isdst=-1)\n",
        "time.struct_time(tm_year=1918, tm_mon=4, tm_mday=1, tm_hour=0, tm_min=0, tm_sec=0, tm_wday=0, tm_yday=91, tm_isdst=-1)\n",
        "time.struct_time(tm_year=1918, tm_mon=7, tm_mday=1, tm_hour=0, tm_min=0, tm_sec=0, tm_wday=0, tm_yday=182, tm_isdst=-1)\n",
        "time.struct_time(tm_year=1919, tm_mon=9, tm_mday=1, tm_hour=0, tm_min=0, tm_sec=0, tm_wday=0, tm_yday=244, tm_isdst=-1)\n",
        "time.struct_time(tm_year=1919, tm_mon=12, tm_mday=1, tm_hour=0, tm_min=0, tm_sec=0, tm_wday=0, tm_yday=335, tm_isdst=-1)\n",
        "time.struct_time(tm_year=1920, tm_mon=3, tm_mday=1, tm_hour=0, tm_min=0, tm_sec=0, tm_wday=0, tm_yday=61, tm_isdst=-1)\n",
        "time.struct_time(tm_year=1920, tm_mon=11, tm_mday=1, tm_hour=0, tm_min=0, tm_sec=0, tm_wday=0, tm_yday=306, tm_isdst=-1)\n",
        "time.struct_time(tm_year=1921, tm_mon=8, tm_mday=1, tm_hour=0, tm_min=0, tm_sec=0, tm_wday=0, tm_yday=213, tm_isdst=-1)\n",
        "time.struct_time(tm_year=1922, tm_mon=5, tm_mday=1, tm_hour=0, tm_min=0, tm_sec=0, tm_wday=0, tm_yday=121, tm_isdst=-1)\n",
        "time.struct_time(tm_year=1923, tm_mon=1, tm_mday=1, tm_hour=0, tm_min=0, tm_sec=0, tm_wday=0, tm_yday=1, tm_isdst=-1)\n",
        "time.struct_time(tm_year=1923, tm_mon=10, tm_mday=1, tm_hour=0, tm_min=0, tm_sec=0, tm_wday=0, tm_yday=274, tm_isdst=-1)\n",
        "time.struct_time(tm_year=1924, tm_mon=9, tm_mday=1, tm_hour=0, tm_min=0, tm_sec=0, tm_wday=0, tm_yday=245, tm_isdst=-1)\n",
        "time.struct_time(tm_year=1924, tm_mon=12, tm_mday=1, tm_hour=0, tm_min=0, tm_sec=0, tm_wday=0, tm_yday=336, tm_isdst=-1)\n",
        "time.struct_time(tm_year=1925, tm_mon=6, tm_mday=1, tm_hour=0, tm_min=0, tm_sec=0, tm_wday=0, tm_yday=152, tm_isdst=-1)\n",
        "time.struct_time(tm_year=1926, tm_mon=2, tm_mday=1, tm_hour=0, tm_min=0, tm_sec=0, tm_wday=0, tm_yday=32, tm_isdst=-1)\n",
        "time.struct_time(tm_year=1926, tm_mon=3, tm_mday=1, tm_hour=0, tm_min=0, tm_sec=0, tm_wday=0, tm_yday=60, tm_isdst=-1)\n",
        "time.struct_time(tm_year=1926, tm_mon=11, tm_mday=1, tm_hour=0, tm_min=0, tm_sec=0, tm_wday=0, tm_yday=305, tm_isdst=-1)\n",
        "time.struct_time(tm_year=1927, tm_mon=8, tm_mday=1, tm_hour=0, tm_min=0, tm_sec=0, tm_wday=0, tm_yday=213, tm_isdst=-1)\n",
        "time.struct_time(tm_year=1928, tm_mon=10, tm_mday=1, tm_hour=0, tm_min=0, tm_sec=0, tm_wday=0, tm_yday=275, tm_isdst=-1)\n",
        "time.struct_time(tm_year=1929, tm_mon=4, tm_mday=1, tm_hour=0, tm_min=0, tm_sec=0, tm_wday=0, tm_yday=91, tm_isdst=-1)\n",
        "time.struct_time(tm_year=1929, tm_mon=7, tm_mday=1, tm_hour=0, tm_min=0, tm_sec=0, tm_wday=0, tm_yday=182, tm_isdst=-1)\n",
        "time.struct_time(tm_year=1930, tm_mon=9, tm_mday=1, tm_hour=0, tm_min=0, tm_sec=0, tm_wday=0, tm_yday=244, tm_isdst=-1)\n",
        "time.struct_time(tm_year=1930, tm_mon=12, tm_mday=1, tm_hour=0, tm_min=0, tm_sec=0, tm_wday=0, tm_yday=335, tm_isdst=-1)\n",
        "time.struct_time(tm_year=1931, tm_mon=6, tm_mday=1, tm_hour=0, tm_min=0, tm_sec=0, tm_wday=0, tm_yday=152, tm_isdst=-1)\n",
        "time.struct_time(tm_year=1932, tm_mon=2, tm_mday=1, tm_hour=0, tm_min=0, tm_sec=0, tm_wday=0, tm_yday=32, tm_isdst=-1)\n",
        "time.struct_time(tm_year=1932, tm_mon=8, tm_mday=1, tm_hour=0, tm_min=0, tm_sec=0, tm_wday=0, tm_yday=214, tm_isdst=-1)\n",
        "time.struct_time(tm_year=1933, tm_mon=5, tm_mday=1, tm_hour=0, tm_min=0, tm_sec=0, tm_wday=0, tm_yday=121, tm_isdst=-1)\n",
        "time.struct_time(tm_year=1934, tm_mon=1, tm_mday=1, tm_hour=0, tm_min=0, tm_sec=0, tm_wday=0, tm_yday=1, tm_isdst=-1)\n",
        "time.struct_time(tm_year=1934, tm_mon=10, tm_mday=1, tm_hour=0, tm_min=0, tm_sec=0, tm_wday=0, tm_yday=274, tm_isdst=-1)\n",
        "time.struct_time(tm_year=1935, tm_mon=4, tm_mday=1, tm_hour=0, tm_min=0, tm_sec=0, tm_wday=0, tm_yday=91, tm_isdst=-1)\n",
        "time.struct_time(tm_year=1935, tm_mon=7, tm_mday=1, tm_hour=0, tm_min=0, tm_sec=0, tm_wday=0, tm_yday=182, tm_isdst=-1)\n",
        "time.struct_time(tm_year=1936, tm_mon=6, tm_mday=1, tm_hour=0, tm_min=0, tm_sec=0, tm_wday=0, tm_yday=153, tm_isdst=-1)\n",
        "time.struct_time(tm_year=1937, tm_mon=2, tm_mday=1, tm_hour=0, tm_min=0, tm_sec=0, tm_wday=0, tm_yday=32, tm_isdst=-1)\n",
        "time.struct_time(tm_year=1937, tm_mon=3, tm_mday=1, tm_hour=0, tm_min=0, tm_sec=0, tm_wday=0, tm_yday=60, tm_isdst=-1)\n",
        "time.struct_time(tm_year=1937, tm_mon=11, tm_mday=1, tm_hour=0, tm_min=0, tm_sec=0, tm_wday=0, tm_yday=305, tm_isdst=-1)\n",
        "time.struct_time(tm_year=1938, tm_mon=8, tm_mday=1, tm_hour=0, tm_min=0, tm_sec=0, tm_wday=0, tm_yday=213, tm_isdst=-1)\n",
        "time.struct_time(tm_year=1939, tm_mon=5, tm_mday=1, tm_hour=0, tm_min=0, tm_sec=0, tm_wday=0, tm_yday=121, tm_isdst=-1)\n",
        "time.struct_time(tm_year=1940, tm_mon=1, tm_mday=1, tm_hour=0, tm_min=0, tm_sec=0, tm_wday=0, tm_yday=1, tm_isdst=-1)\n",
        "time.struct_time(tm_year=1940, tm_mon=4, tm_mday=1, tm_hour=0, tm_min=0, tm_sec=0, tm_wday=0, tm_yday=92, tm_isdst=-1)\n",
        "time.struct_time(tm_year=1940, tm_mon=7, tm_mday=1, tm_hour=0, tm_min=0, tm_sec=0, tm_wday=0, tm_yday=183, tm_isdst=-1)\n",
        "time.struct_time(tm_year=1941, tm_mon=9, tm_mday=1, tm_hour=0, tm_min=0, tm_sec=0, tm_wday=0, tm_yday=244, tm_isdst=-1)"
       ]
      },
      {
       "output_type": "stream",
       "stream": "stdout",
       "text": [
        "\n",
        "time.struct_time(tm_year=1941, tm_mon=12, tm_mday=1, tm_hour=0, tm_min=0, tm_sec=0, tm_wday=0, tm_yday=335, tm_isdst=-1)\n",
        "time.struct_time(tm_year=1942, tm_mon=6, tm_mday=1, tm_hour=0, tm_min=0, tm_sec=0, tm_wday=0, tm_yday=152, tm_isdst=-1)\n",
        "time.struct_time(tm_year=1943, tm_mon=2, tm_mday=1, tm_hour=0, tm_min=0, tm_sec=0, tm_wday=0, tm_yday=32, tm_isdst=-1)\n",
        "time.struct_time(tm_year=1943, tm_mon=3, tm_mday=1, tm_hour=0, tm_min=0, tm_sec=0, tm_wday=0, tm_yday=60, tm_isdst=-1)\n",
        "time.struct_time(tm_year=1943, tm_mon=11, tm_mday=1, tm_hour=0, tm_min=0, tm_sec=0, tm_wday=0, tm_yday=305, tm_isdst=-1)\n",
        "time.struct_time(tm_year=1944, tm_mon=5, tm_mday=1, tm_hour=0, tm_min=0, tm_sec=0, tm_wday=0, tm_yday=122, tm_isdst=-1)\n",
        "time.struct_time(tm_year=1945, tm_mon=1, tm_mday=1, tm_hour=0, tm_min=0, tm_sec=0, tm_wday=0, tm_yday=1, tm_isdst=-1)\n",
        "time.struct_time(tm_year=1945, tm_mon=10, tm_mday=1, tm_hour=0, tm_min=0, tm_sec=0, tm_wday=0, tm_yday=274, tm_isdst=-1)\n",
        "time.struct_time(tm_year=1946, tm_mon=4, tm_mday=1, tm_hour=0, tm_min=0, tm_sec=0, tm_wday=0, tm_yday=91, tm_isdst=-1)\n",
        "time.struct_time(tm_year=1946, tm_mon=7, tm_mday=1, tm_hour=0, tm_min=0, tm_sec=0, tm_wday=0, tm_yday=182, tm_isdst=-1)\n",
        "time.struct_time(tm_year=1947, tm_mon=9, tm_mday=1, tm_hour=0, tm_min=0, tm_sec=0, tm_wday=0, tm_yday=244, tm_isdst=-1)\n",
        "time.struct_time(tm_year=1947, tm_mon=12, tm_mday=1, tm_hour=0, tm_min=0, tm_sec=0, tm_wday=0, tm_yday=335, tm_isdst=-1)\n",
        "time.struct_time(tm_year=1948, tm_mon=3, tm_mday=1, tm_hour=0, tm_min=0, tm_sec=0, tm_wday=0, tm_yday=61, tm_isdst=-1)\n",
        "time.struct_time(tm_year=1948, tm_mon=11, tm_mday=1, tm_hour=0, tm_min=0, tm_sec=0, tm_wday=0, tm_yday=306, tm_isdst=-1)\n",
        "time.struct_time(tm_year=1949, tm_mon=8, tm_mday=1, tm_hour=0, tm_min=0, tm_sec=0, tm_wday=0, tm_yday=213, tm_isdst=-1)\n",
        "time.struct_time(tm_year=1950, tm_mon=5, tm_mday=1, tm_hour=0, tm_min=0, tm_sec=0, tm_wday=0, tm_yday=121, tm_isdst=-1)\n",
        "time.struct_time(tm_year=1951, tm_mon=1, tm_mday=1, tm_hour=0, tm_min=0, tm_sec=0, tm_wday=0, tm_yday=1, tm_isdst=-1)\n",
        "time.struct_time(tm_year=1951, tm_mon=10, tm_mday=1, tm_hour=0, tm_min=0, tm_sec=0, tm_wday=0, tm_yday=274, tm_isdst=-1)\n",
        "time.struct_time(tm_year=1952, tm_mon=9, tm_mday=1, tm_hour=0, tm_min=0, tm_sec=0, tm_wday=0, tm_yday=245, tm_isdst=-1)\n",
        "time.struct_time(tm_year=1952, tm_mon=12, tm_mday=1, tm_hour=0, tm_min=0, tm_sec=0, tm_wday=0, tm_yday=336, tm_isdst=-1)\n",
        "time.struct_time(tm_year=1953, tm_mon=6, tm_mday=1, tm_hour=0, tm_min=0, tm_sec=0, tm_wday=0, tm_yday=152, tm_isdst=-1)\n",
        "time.struct_time(tm_year=1954, tm_mon=2, tm_mday=1, tm_hour=0, tm_min=0, tm_sec=0, tm_wday=0, tm_yday=32, tm_isdst=-1)\n",
        "time.struct_time(tm_year=1954, tm_mon=3, tm_mday=1, tm_hour=0, tm_min=0, tm_sec=0, tm_wday=0, tm_yday=60, tm_isdst=-1)\n",
        "time.struct_time(tm_year=1954, tm_mon=11, tm_mday=1, tm_hour=0, tm_min=0, tm_sec=0, tm_wday=0, tm_yday=305, tm_isdst=-1)\n",
        "time.struct_time(tm_year=1955, tm_mon=8, tm_mday=1, tm_hour=0, tm_min=0, tm_sec=0, tm_wday=0, tm_yday=213, tm_isdst=-1)\n",
        "time.struct_time(tm_year=1956, tm_mon=10, tm_mday=1, tm_hour=0, tm_min=0, tm_sec=0, tm_wday=0, tm_yday=275, tm_isdst=-1)\n",
        "time.struct_time(tm_year=1957, tm_mon=4, tm_mday=1, tm_hour=0, tm_min=0, tm_sec=0, tm_wday=0, tm_yday=91, tm_isdst=-1)\n",
        "time.struct_time(tm_year=1957, tm_mon=7, tm_mday=1, tm_hour=0, tm_min=0, tm_sec=0, tm_wday=0, tm_yday=182, tm_isdst=-1)\n",
        "time.struct_time(tm_year=1958, tm_mon=9, tm_mday=1, tm_hour=0, tm_min=0, tm_sec=0, tm_wday=0, tm_yday=244, tm_isdst=-1)\n",
        "time.struct_time(tm_year=1958, tm_mon=12, tm_mday=1, tm_hour=0, tm_min=0, tm_sec=0, tm_wday=0, tm_yday=335, tm_isdst=-1)\n",
        "time.struct_time(tm_year=1959, tm_mon=6, tm_mday=1, tm_hour=0, tm_min=0, tm_sec=0, tm_wday=0, tm_yday=152, tm_isdst=-1)\n",
        "time.struct_time(tm_year=1960, tm_mon=2, tm_mday=1, tm_hour=0, tm_min=0, tm_sec=0, tm_wday=0, tm_yday=32, tm_isdst=-1)\n",
        "time.struct_time(tm_year=1960, tm_mon=8, tm_mday=1, tm_hour=0, tm_min=0, tm_sec=0, tm_wday=0, tm_yday=214, tm_isdst=-1)\n",
        "time.struct_time(tm_year=1961, tm_mon=5, tm_mday=1, tm_hour=0, tm_min=0, tm_sec=0, tm_wday=0, tm_yday=121, tm_isdst=-1)\n",
        "time.struct_time(tm_year=1962, tm_mon=1, tm_mday=1, tm_hour=0, tm_min=0, tm_sec=0, tm_wday=0, tm_yday=1, tm_isdst=-1)\n",
        "time.struct_time(tm_year=1962, tm_mon=10, tm_mday=1, tm_hour=0, tm_min=0, tm_sec=0, tm_wday=0, tm_yday=274, tm_isdst=-1)\n",
        "time.struct_time(tm_year=1963, tm_mon=4, tm_mday=1, tm_hour=0, tm_min=0, tm_sec=0, tm_wday=0, tm_yday=91, tm_isdst=-1)\n",
        "time.struct_time(tm_year=1963, tm_mon=7, tm_mday=1, tm_hour=0, tm_min=0, tm_sec=0, tm_wday=0, tm_yday=182, tm_isdst=-1)\n",
        "time.struct_time(tm_year=1964, tm_mon=6, tm_mday=1, tm_hour=0, tm_min=0, tm_sec=0, tm_wday=0, tm_yday=153, tm_isdst=-1)\n",
        "time.struct_time(tm_year=1965, tm_mon=2, tm_mday=1, tm_hour=0, tm_min=0, tm_sec=0, tm_wday=0, tm_yday=32, tm_isdst=-1)\n",
        "time.struct_time(tm_year=1965, tm_mon=3, tm_mday=1, tm_hour=0, tm_min=0, tm_sec=0, tm_wday=0, tm_yday=60, tm_isdst=-1)\n",
        "time.struct_time(tm_year=1965, tm_mon=11, tm_mday=1, tm_hour=0, tm_min=0, tm_sec=0, tm_wday=0, tm_yday=305, tm_isdst=-1)\n",
        "time.struct_time(tm_year=1966, tm_mon=8, tm_mday=1, tm_hour=0, tm_min=0, tm_sec=0, tm_wday=0, tm_yday=213, tm_isdst=-1)\n",
        "time.struct_time(tm_year=1967, tm_mon=5, tm_mday=1, tm_hour=0, tm_min=0, tm_sec=0, tm_wday=0, tm_yday=121, tm_isdst=-1)\n",
        "time.struct_time(tm_year=1968, tm_mon=1, tm_mday=1, tm_hour=0, tm_min=0, tm_sec=0, tm_wday=0, tm_yday=1, tm_isdst=-1)\n",
        "time.struct_time(tm_year=1968, tm_mon=4, tm_mday=1, tm_hour=0, tm_min=0, tm_sec=0, tm_wday=0, tm_yday=92, tm_isdst=-1)\n",
        "time.struct_time(tm_year=1968, tm_mon=7, tm_mday=1, tm_hour=0, tm_min=0, tm_sec=0, tm_wday=0, tm_yday=183, tm_isdst=-1)\n",
        "time.struct_time(tm_year=1969, tm_mon=9, tm_mday=1, tm_hour=0, tm_min=0, tm_sec=0, tm_wday=0, tm_yday=244, tm_isdst=-1)\n",
        "time.struct_time(tm_year=1969, tm_mon=12, tm_mday=1, tm_hour=0, tm_min=0, tm_sec=0, tm_wday=0, tm_yday=335, tm_isdst=-1)\n",
        "time.struct_time(tm_year=1970, tm_mon=6, tm_mday=1, tm_hour=0, tm_min=0, tm_sec=0, tm_wday=0, tm_yday=152, tm_isdst=-1)\n",
        "time.struct_time(tm_year=1971, tm_mon=2, tm_mday=1, tm_hour=0, tm_min=0, tm_sec=0, tm_wday=0, tm_yday=32, tm_isdst=-1)\n",
        "time.struct_time(tm_year=1971, tm_mon=3, tm_mday=1, tm_hour=0, tm_min=0, tm_sec=0, tm_wday=0, tm_yday=60, tm_isdst=-1)\n",
        "time.struct_time(tm_year=1971, tm_mon=11, tm_mday=1, tm_hour=0, tm_min=0, tm_sec=0, tm_wday=0, tm_yday=305, tm_isdst=-1)\n",
        "time.struct_time(tm_year=1972, tm_mon=5, tm_mday=1, tm_hour=0, tm_min=0, tm_sec=0, tm_wday=0, tm_yday=122, tm_isdst=-1)\n",
        "time.struct_time(tm_year=1973, tm_mon=1, tm_mday=1, tm_hour=0, tm_min=0, tm_sec=0, tm_wday=0, tm_yday=1, tm_isdst=-1)\n",
        "time.struct_time(tm_year=1973, tm_mon=10, tm_mday=1, tm_hour=0, tm_min=0, tm_sec=0, tm_wday=0, tm_yday=274, tm_isdst=-1)\n",
        "time.struct_time(tm_year=1974, tm_mon=4, tm_mday=1, tm_hour=0, tm_min=0, tm_sec=0, tm_wday=0, tm_yday=91, tm_isdst=-1)\n",
        "time.struct_time(tm_year=1974, tm_mon=7, tm_mday=1, tm_hour=0, tm_min=0, tm_sec=0, tm_wday=0, tm_yday=182, tm_isdst=-1)\n",
        "time.struct_time(tm_year=1975, tm_mon=9, tm_mday=1, tm_hour=0, tm_min=0, tm_sec=0, tm_wday=0, tm_yday=244, tm_isdst=-1)\n",
        "time.struct_time(tm_year=1975, tm_mon=12, tm_mday=1, tm_hour=0, tm_min=0, tm_sec=0, tm_wday=0, tm_yday=335, tm_isdst=-1)\n",
        "time.struct_time(tm_year=1976, tm_mon=3, tm_mday=1, tm_hour=0, tm_min=0, tm_sec=0, tm_wday=0, tm_yday=61, tm_isdst=-1)\n",
        "time.struct_time(tm_year=1976, tm_mon=11, tm_mday=1, tm_hour=0, tm_min=0, tm_sec=0, tm_wday=0, tm_yday=306, tm_isdst=-1)\n",
        "time.struct_time(tm_year=1977, tm_mon=8, tm_mday=1, tm_hour=0, tm_min=0, tm_sec=0, tm_wday=0, tm_yday=213, tm_isdst=-1)\n",
        "time.struct_time(tm_year=1978, tm_mon=5, tm_mday=1, tm_hour=0, tm_min=0, tm_sec=0, tm_wday=0, tm_yday=121, tm_isdst=-1)\n",
        "time.struct_time(tm_year=1979, tm_mon=1, tm_mday=1, tm_hour=0, tm_min=0, tm_sec=0, tm_wday=0, tm_yday=1, tm_isdst=-1)\n",
        "time.struct_time(tm_year=1979, tm_mon=10, tm_mday=1, tm_hour=0, tm_min=0, tm_sec=0, tm_wday=0, tm_yday=274, tm_isdst=-1)\n",
        "time.struct_time(tm_year=1980, tm_mon=9, tm_mday=1, tm_hour=0, tm_min=0, tm_sec=0, tm_wday=0, tm_yday=245, tm_isdst=-1)\n",
        "time.struct_time(tm_year=1980, tm_mon=12, tm_mday=1, tm_hour=0, tm_min=0, tm_sec=0, tm_wday=0, tm_yday=336, tm_isdst=-1)\n",
        "time.struct_time(tm_year=1981, tm_mon=6, tm_mday=1, tm_hour=0, tm_min=0, tm_sec=0, tm_wday=0, tm_yday=152, tm_isdst=-1)\n",
        "time.struct_time(tm_year=1982, tm_mon=2, tm_mday=1, tm_hour=0, tm_min=0, tm_sec=0, tm_wday=0, tm_yday=32, tm_isdst=-1)\n",
        "time.struct_time(tm_year=1982, tm_mon=3, tm_mday=1, tm_hour=0, tm_min=0, tm_sec=0, tm_wday=0, tm_yday=60, tm_isdst=-1)\n",
        "time.struct_time(tm_year=1982, tm_mon=11, tm_mday=1, tm_hour=0, tm_min=0, tm_sec=0, tm_wday=0, tm_yday=305, tm_isdst=-1)\n",
        "time.struct_time(tm_year=1983, tm_mon=8, tm_mday=1, tm_hour=0, tm_min=0, tm_sec=0, tm_wday=0, tm_yday=213, tm_isdst=-1)\n",
        "time.struct_time(tm_year=1984, tm_mon=10, tm_mday=1, tm_hour=0, tm_min=0, tm_sec=0, tm_wday=0, tm_yday=275, tm_isdst=-1)\n",
        "time.struct_time(tm_year=1985, tm_mon=4, tm_mday=1, tm_hour=0, tm_min=0, tm_sec=0, tm_wday=0, tm_yday=91, tm_isdst=-1)\n",
        "time.struct_time(tm_year=1985, tm_mon=7, tm_mday=1, tm_hour=0, tm_min=0, tm_sec=0, tm_wday=0, tm_yday=182, tm_isdst=-1)\n",
        "time.struct_time(tm_year=1986, tm_mon=9, tm_mday=1, tm_hour=0, tm_min=0, tm_sec=0, tm_wday=0, tm_yday=244, tm_isdst=-1)\n",
        "time.struct_time(tm_year=1986, tm_mon=12, tm_mday=1, tm_hour=0, tm_min=0, tm_sec=0, tm_wday=0, tm_yday=335, tm_isdst=-1)\n",
        "time.struct_time(tm_year=1987, tm_mon=6, tm_mday=1, tm_hour=0, tm_min=0, tm_sec=0, tm_wday=0, tm_yday=152, tm_isdst=-1)\n",
        "time.struct_time(tm_year=1988, tm_mon=2, tm_mday=1, tm_hour=0, tm_min=0, tm_sec=0, tm_wday=0, tm_yday=32, tm_isdst=-1)\n",
        "time.struct_time(tm_year=1988, tm_mon=8, tm_mday=1, tm_hour=0, tm_min=0, tm_sec=0, tm_wday=0, tm_yday=214, tm_isdst=-1)\n",
        "time.struct_time(tm_year=1989, tm_mon=5, tm_mday=1, tm_hour=0, tm_min=0, tm_sec=0, tm_wday=0, tm_yday=121, tm_isdst=-1)\n",
        "time.struct_time(tm_year=1990, tm_mon=1, tm_mday=1, tm_hour=0, tm_min=0, tm_sec=0, tm_wday=0, tm_yday=1, tm_isdst=-1)\n",
        "time.struct_time(tm_year=1990, tm_mon=10, tm_mday=1, tm_hour=0, tm_min=0, tm_sec=0, tm_wday=0, tm_yday=274, tm_isdst=-1)\n",
        "time.struct_time(tm_year=1991, tm_mon=4, tm_mday=1, tm_hour=0, tm_min=0, tm_sec=0, tm_wday=0, tm_yday=91, tm_isdst=-1)\n",
        "time.struct_time(tm_year=1991, tm_mon=7, tm_mday=1, tm_hour=0, tm_min=0, tm_sec=0, tm_wday=0, tm_yday=182, tm_isdst=-1)\n",
        "time.struct_time(tm_year=1992, tm_mon=6, tm_mday=1, tm_hour=0, tm_min=0, tm_sec=0, tm_wday=0, tm_yday=153, tm_isdst=-1)\n",
        "time.struct_time(tm_year=1993, tm_mon=2, tm_mday=1, tm_hour=0, tm_min=0, tm_sec=0, tm_wday=0, tm_yday=32, tm_isdst=-1)\n",
        "time.struct_time(tm_year=1993, tm_mon=3, tm_mday=1, tm_hour=0, tm_min=0, tm_sec=0, tm_wday=0, tm_yday=60, tm_isdst=-1)\n",
        "time.struct_time(tm_year=1993, tm_mon=11, tm_mday=1, tm_hour=0, tm_min=0, tm_sec=0, tm_wday=0, tm_yday=305, tm_isdst=-1)\n",
        "time.struct_time(tm_year=1994, tm_mon=8, tm_mday=1, tm_hour=0, tm_min=0, tm_sec=0, tm_wday=0, tm_yday=213, tm_isdst=-1)\n",
        "time.struct_time(tm_year=1995, tm_mon=5, tm_mday=1, tm_hour=0, tm_min=0, tm_sec=0, tm_wday=0, tm_yday=121, tm_isdst=-1)\n",
        "time.struct_time(tm_year=1996, tm_mon=1, tm_mday=1, tm_hour=0, tm_min=0, tm_sec=0, tm_wday=0, tm_yday=1, tm_isdst=-1)\n",
        "time.struct_time(tm_year=1996, tm_mon=4, tm_mday=1, tm_hour=0, tm_min=0, tm_sec=0, tm_wday=0, tm_yday=92, tm_isdst=-1)\n",
        "time.struct_time(tm_year=1996, tm_mon=7, tm_mday=1, tm_hour=0, tm_min=0, tm_sec=0, tm_wday=0, tm_yday=183, tm_isdst=-1)\n",
        "time.struct_time(tm_year=1997, tm_mon=9, tm_mday=1, tm_hour=0, tm_min=0, tm_sec=0, tm_wday=0, tm_yday=244, tm_isdst=-1)"
       ]
      },
      {
       "output_type": "stream",
       "stream": "stdout",
       "text": [
        "\n",
        "time.struct_time(tm_year=1997, tm_mon=12, tm_mday=1, tm_hour=0, tm_min=0, tm_sec=0, tm_wday=0, tm_yday=335, tm_isdst=-1)\n",
        "time.struct_time(tm_year=1998, tm_mon=6, tm_mday=1, tm_hour=0, tm_min=0, tm_sec=0, tm_wday=0, tm_yday=152, tm_isdst=-1)\n",
        "time.struct_time(tm_year=1999, tm_mon=2, tm_mday=1, tm_hour=0, tm_min=0, tm_sec=0, tm_wday=0, tm_yday=32, tm_isdst=-1)\n",
        "time.struct_time(tm_year=1999, tm_mon=3, tm_mday=1, tm_hour=0, tm_min=0, tm_sec=0, tm_wday=0, tm_yday=60, tm_isdst=-1)\n",
        "time.struct_time(tm_year=1999, tm_mon=11, tm_mday=1, tm_hour=0, tm_min=0, tm_sec=0, tm_wday=0, tm_yday=305, tm_isdst=-1)\n",
        "time.struct_time(tm_year=2000, tm_mon=5, tm_mday=1, tm_hour=0, tm_min=0, tm_sec=0, tm_wday=0, tm_yday=122, tm_isdst=-1)\n"
       ]
      },
      {
       "output_type": "pyout",
       "prompt_number": 77,
       "text": [
        "172"
       ]
      }
     ],
     "prompt_number": 77
    },
    {
     "cell_type": "markdown",
     "metadata": {},
     "source": [
      "Of interest, that completely relies on the implementation of the datetime module.  My Enthought installation seems to think that 29 Feb, 2000 is a real day, and is breaking everything."
     ]
    },
    {
     "cell_type": "code",
     "collapsed": false,
     "input": [
      "fake_day = datetime(2000, 2, 29)\n",
      "datetime.timetuple(fake_day)\n",
      "real_day = datetime(2000, 3, 1)\n",
      "datetime.timetuple(real_day)"
     ],
     "language": "python",
     "metadata": {},
     "outputs": [
      {
       "output_type": "pyout",
       "prompt_number": 78,
       "text": [
        "time.struct_time(tm_year=2000, tm_mon=3, tm_mday=1, tm_hour=0, tm_min=0, tm_sec=0, tm_wday=2, tm_yday=61, tm_isdst=-1)"
       ]
      }
     ],
     "prompt_number": 78
    },
    {
     "cell_type": "markdown",
     "metadata": {},
     "source": [
      "So that's annoying, because the streamlined version of the above, using the <a href=\"http://docs.python.org/2/library/calendar.html\">calendar</a> module relies on datetime"
     ]
    },
    {
     "cell_type": "code",
     "collapsed": false,
     "input": [
      "import calendar\n",
      "calendar.setfirstweekday(calendar.MONDAY)\n",
      "len([(year, month) for year in xrange(1901, 2001) for month in xrange(1, 13) if calendar.monthrange(year, month)[0] == 0])"
     ],
     "language": "python",
     "metadata": {},
     "outputs": [
      {
       "output_type": "pyout",
       "prompt_number": 79,
       "text": [
        "172"
       ]
      }
     ],
     "prompt_number": 79
    },
    {
     "cell_type": "markdown",
     "metadata": {},
     "source": [
      "For now, I'm going to leave this as is, and contact Enthought to see what they think.  Consider this unfinished."
     ]
    }
   ],
   "metadata": {}
  }
 ]
}