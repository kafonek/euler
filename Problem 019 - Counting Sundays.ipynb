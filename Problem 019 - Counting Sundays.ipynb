{
 "metadata": {
  "name": "Problem 019 - Counting Sundays"
 },
 "nbformat": 3,
 "nbformat_minor": 0,
 "worksheets": [
  {
   "cells": [
    {
     "cell_type": "markdown",
     "metadata": {},
     "source": [
      "Counting Sundays\n",
      "\n",
      "Problem 19\n",
      "\n",
      "You are given the following information, but you may prefer to do some research for yourself.\n",
      "\n",
      "1 Jan 1900 was a Monday.\n",
      "Thirty days has September,\n",
      "April, June and November.\n",
      "All the rest have thirty-one,\n",
      "Saving February alone,\n",
      "Which has twenty-eight, rain or shine.\n",
      "And on leap years, twenty-nine.\n",
      "A leap year occurs on any year evenly divisible by 4, but not on a century unless it is divisible by 400.\n",
      "\n",
      "<font color=\"red\">How many Sundays fell on the first of the month during the twentieth century (1 Jan 1901 to 31 Dec 2000)?</font>"
     ]
    },
    {
     "cell_type": "markdown",
     "metadata": {},
     "source": [
      "They key library to know about for this problem is the <a href=\"http://docs.python.org/2/library/calendar.html\">calendar</a> module, which is also closely connected to the <a href=\"http://docs.python.org/2/library/datetime.html\">datetime</a> module"
     ]
    },
    {
     "cell_type": "code",
     "collapsed": false,
     "input": [
      "import calendar\n",
      "calendar"
     ],
     "language": "python",
     "metadata": {},
     "outputs": []
    },
    {
     "cell_type": "code",
     "collapsed": false,
     "input": [
      "#the calendar.monthrange function returns the first day of the week in the month, and how many days are in the month\n",
      "#try changing this around, (1900, 1), (1900, 2), (1904, 2), (2000, 2), your current time, etc.\n",
      "#Monday is 0, Tuesday is 1.. Sunday is 6\n",
      "calendar.monthrange(2013, 3)"
     ],
     "language": "python",
     "metadata": {},
     "outputs": []
    },
    {
     "cell_type": "code",
     "collapsed": false,
     "input": [
      "len([(year, month) for year in xrange(1901, 2001) for month in xrange(1, 13) if calendar.monthrange(year, month)[0] == 6])"
     ],
     "language": "python",
     "metadata": {},
     "outputs": []
    }
   ],
   "metadata": {}
  }
 ]
}