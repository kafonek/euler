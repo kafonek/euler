{
 "metadata": {
  "name": "Problem 055 - Lychrel numbers"
 },
 "nbformat": 3,
 "nbformat_minor": 0,
 "worksheets": [
  {
   "cells": [
    {
     "cell_type": "markdown",
     "metadata": {},
     "source": [
      "Lychrel numbers\n",
      "\n",
      "Problem 55\n",
      "\n",
      "If we take 47, reverse and add, 47 + 74 = 121, which is palindromic.\n",
      "\n",
      "Not all numbers produce palindromes so quickly. For example,\n",
      "\n",
      "<code>\n",
      "349 + 943 = 1292,\n",
      "1292 + 2921 = 4213\n",
      "4213 + 3124 = 7337\n",
      "</code>\n",
      "\n",
      "That is, 349 took three iterations to arrive at a palindrome.\n",
      "\n",
      "Although no one has proved it yet, it is thought that some numbers, like 196, never produce a palindrome. A number that never forms a palindrome through the reverse and add process is called a Lychrel number. Due to the theoretical nature of these numbers, and for the purpose of this problem, we shall assume that a number is Lychrel until proven otherwise. In addition you are given that for every number below ten-thousand, it will either (i) become a palindrome in less than fifty iterations, or, (ii) no one, with all the computing power that exists, has managed so far to map it to a palindrome. In fact, 10677 is the first number to be shown to require over fifty iterations before producing a palindrome: 4668731596684224866951378664 (53 iterations, 28-digits).\n",
      "\n",
      "Surprisingly, there are palindromic numbers that are themselves Lychrel numbers; the first example is 4994.\n",
      "\n",
      "<font color=\"red\">How many Lychrel numbers are there below ten-thousand?</font>\n",
      "\n",
      "NOTE: Wording was modified slightly on 24 April 2007 to emphasise the theoretical nature of Lychrel numbers."
     ]
    },
    {
     "cell_type": "code",
     "collapsed": false,
     "input": [
      "def is_palindromic(number):\n",
      "    number = str(number)\n",
      "    return number == number[::-1] \n",
      "\n",
      "print(is_palindromic(9009))\n",
      "print(is_palindromic(1234))"
     ],
     "language": "python",
     "metadata": {},
     "outputs": []
    },
    {
     "cell_type": "code",
     "collapsed": false,
     "input": [
      "def reversed_and_added(n):\n",
      "    opposite = int(str(n)[::-1])\n",
      "    return n + opposite\n",
      "\n",
      "reversed_and_added(349)"
     ],
     "language": "python",
     "metadata": {},
     "outputs": []
    },
    {
     "cell_type": "code",
     "collapsed": false,
     "input": [
      "def is_lychrel(n):\n",
      "    for _ in xrange(50):\n",
      "        n = reversed_and_added(n)\n",
      "        if is_palindromic(n):\n",
      "            return False\n",
      "    return True\n",
      "\n",
      "is_lychrel(349)"
     ],
     "language": "python",
     "metadata": {},
     "outputs": []
    },
    {
     "cell_type": "code",
     "collapsed": false,
     "input": [
      "is_lychrel(4994)"
     ],
     "language": "python",
     "metadata": {},
     "outputs": []
    },
    {
     "cell_type": "code",
     "collapsed": false,
     "input": [
      "answer = 0\n",
      "for i in xrange(10001):\n",
      "    if is_lychrel(i):\n",
      "        answer +=1\n",
      "        \n",
      "answer"
     ],
     "language": "python",
     "metadata": {},
     "outputs": []
    },
    {
     "cell_type": "code",
     "collapsed": false,
     "input": [],
     "language": "python",
     "metadata": {},
     "outputs": []
    }
   ],
   "metadata": {}
  }
 ]
}