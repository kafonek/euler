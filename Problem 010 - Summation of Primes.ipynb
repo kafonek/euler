{
 "metadata": {
  "name": "Problem 010 - Summation of Primes"
 },
 "nbformat": 3,
 "nbformat_minor": 0,
 "worksheets": [
  {
   "cells": [
    {
     "cell_type": "markdown",
     "metadata": {},
     "source": [
      "Summation of primes\n",
      "\n",
      "Problem 10\n",
      "\n",
      "The sum of the primes below 10 is 2 + 3 + 5 + 7 = 17.\n",
      "\n",
      "<font color=\"red\">Find the sum of all the primes below two million.</font>"
     ]
    },
    {
     "cell_type": "code",
     "collapsed": false,
     "input": [
      "### Used in Problem 007, see comments there\n",
      "\n",
      "#Code to use when generating through \"n primes\"\n",
      "def postponed_sieve():                   # postponed sieve, by Will Ness      \n",
      "    yield 2; yield 3; yield 5; yield 7;  # original code David Eppstein, \n",
      "    D = {}                               #            ActiveState Recipe 2002\n",
      "    ps = (p for p in postponed_sieve())  # a separate Primes Supply:\n",
      "    p = ps.next() and ps.next()          # (3) a Prime to add to dict\n",
      "    q = p*p                              # (9) when its sQuare is \n",
      "    c = 9                                # the next Candidate\n",
      "    while True:\n",
      "        if c not in D:                # not a multiple of any prime seen so far:\n",
      "            if c < q: yield c         #   a prime, or\n",
      "            else:   # (c==q):         #   the next prime's square:\n",
      "                add(D,c + 2*p,2*p)    #     (9+6,6 : 15,21,27,33,...)\n",
      "                p=ps.next()           #     (5)\n",
      "                q=p*p                 #     (25)\n",
      "        else:                         # 'c' is a composite:\n",
      "            s = D.pop(c)              #   step of increment\n",
      "            add(D,c + s,s)            #   next multiple, same step\n",
      "        c += 2                        # next odd candidate\n",
      "\n",
      "def add(D,x,s):                          # make no multiple keys in Dict\n",
      "    while x in D: x += s                 # increment by the given step\n",
      "    D[x] = s "
     ],
     "language": "python",
     "metadata": {},
     "outputs": []
    },
    {
     "cell_type": "code",
     "collapsed": false,
     "input": [
      "p = postponed_sieve()\n",
      "primes = []\n",
      "while True:\n",
      "    next_prime = p.next()\n",
      "    if next_prime > 2000000:\n",
      "        break\n",
      "    primes.append(next_prime)\n",
      "print(sum(primes))"
     ],
     "language": "python",
     "metadata": {},
     "outputs": []
    },
    {
     "cell_type": "code",
     "collapsed": false,
     "input": [],
     "language": "python",
     "metadata": {},
     "outputs": []
    }
   ],
   "metadata": {}
  }
 ]
}