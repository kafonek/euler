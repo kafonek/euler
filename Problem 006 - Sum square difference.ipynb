{
 "metadata": {
  "name": "Problem 006 - Sum square difference"
 },
 "nbformat": 3,
 "nbformat_minor": 0,
 "worksheets": [
  {
   "cells": [
    {
     "cell_type": "markdown",
     "metadata": {},
     "source": [
      "Sum square difference\n",
      "\n",
      "Problem 6\n",
      "\n",
      "The sum of the squares of the first ten natural numbers is,\n",
      "\n",
      "1^2 + 2^2 + ... + 10^2 = 385\n",
      "\n",
      "The square of the sum of the first ten natural numbers is,\n",
      "\n",
      "(1 + 2 + ... + 10)^2 = 552 = 3025\n",
      "\n",
      "Hence the difference between the sum of the squares of the first ten natural numbers and the square of the sum is 3025  385 = 2640.\n",
      "\n",
      "<font color=\"red\">Find the difference between the sum of the squares of the first one hundred natural numbers and the square of the sum.</font>"
     ]
    },
    {
     "cell_type": "code",
     "collapsed": false,
     "input": [
      "def sum_square_difference(n):\n",
      "    sum_of_squares = sum((i**2 for i in xrange(n+1)))\n",
      "    square_of_sums = sum(xrange(n+1))**2\n",
      "    return abs(square_of_sums - sum_of_squares)\n",
      "\n",
      "sum_square_difference(10)"
     ],
     "language": "python",
     "metadata": {},
     "outputs": []
    },
    {
     "cell_type": "code",
     "collapsed": false,
     "input": [
      "sum_square_difference(100)"
     ],
     "language": "python",
     "metadata": {},
     "outputs": []
    }
   ],
   "metadata": {}
  }
 ]
}