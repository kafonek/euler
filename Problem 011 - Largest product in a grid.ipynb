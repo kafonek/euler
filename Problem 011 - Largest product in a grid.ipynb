{
 "metadata": {
  "name": "Problem 011 - Largest product in a grid"
 },
 "nbformat": 3,
 "nbformat_minor": 0,
 "worksheets": [
  {
   "cells": [
    {
     "cell_type": "markdown",
     "metadata": {},
     "source": [
      "Largest product in a grid\n",
      "\n",
      "Problem 11\n",
      "\n",
      "<p>In the 20x20 grid below, four numbers along a diagonal line have been marked in red.</p>\n",
      "<p style=\"font-family:courier new;text-align:center;font-size:10pt;\">\n",
      "08 02 22 97 38 15 00 40 00 75 04 05 07 78 52 12 50 77 91 08<br />\n",
      "49 49 99 40 17 81 18 57 60 87 17 40 98 43 69 48 04 56 62 00<br />\n",
      "81 49 31 73 55 79 14 29 93 71 40 67 53 88 30 03 49 13 36 65<br />\n",
      "52 70 95 23 04 60 11 42 69 24 68 56 01 32 56 71 37 02 36 91<br />\n",
      "22 31 16 71 51 67 63 89 41 92 36 54 22 40 40 28 66 33 13 80<br />\n",
      "24 47 32 60 99 03 45 02 44 75 33 53 78 36 84 20 35 17 12 50<br />\n",
      "32 98 81 28 64 23 67 10 <span style=\"color:#ff0000;\"><b>26</b></span> 38 40 67 59 54 70 66 18 38 64 70<br />\n",
      "67 26 20 68 02 62 12 20 95 <span style=\"color:#ff0000;\"><b>63</b></span> 94 39 63 08 40 91 66 49 94 21<br />\n",
      "24 55 58 05 66 73 99 26 97 17 <span style=\"color:#ff0000;\"><b>78</b></span> 78 96 83 14 88 34 89 63 72<br />\n",
      "21 36 23 09 75 00 76 44 20 45 35 <span style=\"color:#ff0000;\"><b>14</b></span> 00 61 33 97 34 31 33 95<br />\n",
      "78 17 53 28 22 75 31 67 15 94 03 80 04 62 16 14 09 53 56 92<br />\n",
      "16 39 05 42 96 35 31 47 55 58 88 24 00 17 54 24 36 29 85 57<br />\n",
      "86 56 00 48 35 71 89 07 05 44 44 37 44 60 21 58 51 54 17 58<br />\n",
      "19 80 81 68 05 94 47 69 28 73 92 13 86 52 17 77 04 89 55 40<br />\n",
      "04 52 08 83 97 35 99 16 07 97 57 32 16 26 26 79 33 27 98 66<br />\n",
      "88 36 68 87 57 62 20 72 03 46 33 67 46 55 12 32 63 93 53 69<br />\n",
      "04 42 16 73 38 25 39 11 24 94 72 18 08 46 29 32 40 62 76 36<br />\n",
      "20 69 36 41 72 30 23 88 34 62 99 69 82 67 59 85 74 04 36 16<br />\n",
      "20 73 35 29 78 31 90 01 74 31 49 71 48 86 81 16 23 57 05 54<br />\n",
      "01 70 54 71 83 51 54 69 16 92 33 48 61 43 52 01 89 19 67 48<br />\n",
      "</p>\n",
      "<p>The product of these numbers is 26 x 63 x 78 x 14 = 1788696.</p>\n",
      "<font color=\"red\">\n",
      "<p>What is the greatest product of four adjacent numbers in the same direction (up, down, left, right, or diagonally) in the 20x20 grid?</p>\n",
      "</font>\n",
      "</div><br />\n",
      "<br /></div>"
     ]
    },
    {
     "cell_type": "code",
     "collapsed": false,
     "input": [
      "import numpy as np\n",
      "text = \"\"\"08 02 22 97 38 15 00 40 00 75 04 05 07 78 52 12 50 77 91 08\n",
      "49 49 99 40 17 81 18 57 60 87 17 40 98 43 69 48 04 56 62 00\n",
      "81 49 31 73 55 79 14 29 93 71 40 67 53 88 30 03 49 13 36 65\n",
      "52 70 95 23 04 60 11 42 69 24 68 56 01 32 56 71 37 02 36 91\n",
      "22 31 16 71 51 67 63 89 41 92 36 54 22 40 40 28 66 33 13 80\n",
      "24 47 32 60 99 03 45 02 44 75 33 53 78 36 84 20 35 17 12 50\n",
      "32 98 81 28 64 23 67 10 26 38 40 67 59 54 70 66 18 38 64 70\n",
      "67 26 20 68 02 62 12 20 95 63 94 39 63 08 40 91 66 49 94 21\n",
      "24 55 58 05 66 73 99 26 97 17 78 78 96 83 14 88 34 89 63 72\n",
      "21 36 23 09 75 00 76 44 20 45 35 14 00 61 33 97 34 31 33 95\n",
      "78 17 53 28 22 75 31 67 15 94 03 80 04 62 16 14 09 53 56 92\n",
      "16 39 05 42 96 35 31 47 55 58 88 24 00 17 54 24 36 29 85 57\n",
      "86 56 00 48 35 71 89 07 05 44 44 37 44 60 21 58 51 54 17 58\n",
      "19 80 81 68 05 94 47 69 28 73 92 13 86 52 17 77 04 89 55 40\n",
      "04 52 08 83 97 35 99 16 07 97 57 32 16 26 26 79 33 27 98 66\n",
      "88 36 68 87 57 62 20 72 03 46 33 67 46 55 12 32 63 93 53 69\n",
      "04 42 16 73 38 25 39 11 24 94 72 18 08 46 29 32 40 62 76 36\n",
      "20 69 36 41 72 30 23 88 34 62 99 69 82 67 59 85 74 04 36 16\n",
      "20 73 35 29 78 31 90 01 74 31 49 71 48 86 81 16 23 57 05 54\n",
      "01 70 54 71 83 51 54 69 16 92 33 48 61 43 52 01 89 19 67 48\"\"\"\n",
      "lines = text.split('\\n')\n",
      "array = np.zeros((20, 20))\n",
      "for index1, line in enumerate(lines):\n",
      "    for index2, num in enumerate(line.split()):\n",
      "        array[index1, index2] = int(num)\n",
      "array\n"
     ],
     "language": "python",
     "metadata": {},
     "outputs": []
    },
    {
     "cell_type": "code",
     "collapsed": false,
     "input": [
      "#a nifty trick to multiplying all elements in a list or array\n",
      "array = np.array([1, 2, 3, 4])\n",
      "def product(x, y):\n",
      "    return x*y\n",
      "reduce(product, array)"
     ],
     "language": "python",
     "metadata": {},
     "outputs": []
    },
    {
     "cell_type": "code",
     "collapsed": false,
     "input": [
      "#the above can also be written in a single line, using a lambda function instead of a classically defined function\n",
      "reduce(lambda x, y: x*y, np.array([1, 2, 3, 4]))"
     ],
     "language": "python",
     "metadata": {},
     "outputs": []
    },
    {
     "cell_type": "code",
     "collapsed": false,
     "input": [
      "def product(x, y):\n",
      "    return x*y\n",
      "\n",
      "def products_from_point(array, vi, hi, distance):\n",
      "    '''vi = vertical index\n",
      "       hi = horizontal index\n",
      "       find product of four adjacent numbers in (up, down, left, right, or diagonally) from a given point\n",
      "    '''\n",
      "    height, width = array.shape\n",
      "    #Initialize all 8 possible values as 0\n",
      "    horizontal_right = horizontal_left = vertical_up = vertical_down =\\\n",
      "    diag_up_right = diag_down_right = diag_down_left = diag_up_left = 0\n",
      "    \n",
      "    #check if our horizontal index is far enough from the width that we can do horizontal right,\n",
      "    #then check vertical distances to see if we can do diagonals rights\n",
      "    if hi <= width - distance: \n",
      "        horizontal_right = reduce(product, [array[vi, i] for i in xrange(hi, hi+distance)])\n",
      "        if vi >= distance-1:\n",
      "            diag_up_right = reduce(product, [array[vi-i, hi+i] for i in xrange(distance)])\n",
      "        if vi < height-distance:\n",
      "            diag_down_right = reduce(product, [array[vi+i, hi+i] for i in xrange(distance)])\n",
      "    #then check if our horizontal index is far enough in to do horizontal left and those diagonals\n",
      "    if hi >= distance-1:\n",
      "        horizontal_left = reduce(product, [array[vi, i] for i in xrange(hi, hi-distance, -1)])\n",
      "        if vi >= distance-1:\n",
      "            diag_up_left = reduce(product, [array[vi-i, hi-i] for i in xrange(distance)])\n",
      "        if vi < height-distance:\n",
      "            diag_down_left = reduce(product, [array[vi+i, hi-i] for i in xrange(distance)])\n",
      "    if vi >= distance-1:\n",
      "        vertical_up = reduce(product, [array[i, hi] for i in xrange(vi, vi-distance, -1)])\n",
      "    if vi < height-distance:\n",
      "        vertical_down = reduce(product, [array[i, hi] for i in xrange(vi, vi+distance)])\n",
      "    \n",
      "    return max([horizontal_right,\n",
      "               horizontal_left,\n",
      "               vertical_up,\n",
      "               vertical_down,\n",
      "               diag_up_right,\n",
      "               diag_down_right,\n",
      "               diag_down_left,\n",
      "               diag_up_left])    \n",
      "        \n"
     ],
     "language": "python",
     "metadata": {},
     "outputs": []
    },
    {
     "cell_type": "code",
     "collapsed": false,
     "input": [
      "products_from_point(array, 17, 0, 4)"
     ],
     "language": "python",
     "metadata": {},
     "outputs": []
    },
    {
     "cell_type": "code",
     "collapsed": false,
     "input": [
      "answer = 0\n",
      "height, width = array.shape\n",
      "for vi in xrange(width):\n",
      "    for hi in xrange(height):\n",
      "        max_product = products_from_point(array, vi, hi, 4)\n",
      "        if max_product > answer:\n",
      "            answer = max_product\n",
      "        \n",
      "answer"
     ],
     "language": "python",
     "metadata": {},
     "outputs": []
    },
    {
     "cell_type": "code",
     "collapsed": false,
     "input": [],
     "language": "python",
     "metadata": {},
     "outputs": []
    }
   ],
   "metadata": {}
  }
 ]
}