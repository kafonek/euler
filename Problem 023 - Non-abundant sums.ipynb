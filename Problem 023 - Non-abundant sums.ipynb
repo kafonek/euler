{
 "metadata": {
  "name": "Problem 023 - Non-abundant sums"
 },
 "nbformat": 3,
 "nbformat_minor": 0,
 "worksheets": [
  {
   "cells": [
    {
     "cell_type": "markdown",
     "metadata": {},
     "source": [
      "Non-abundant sums\n",
      "\n",
      "Problem 23\n",
      "\n",
      "A perfect number is a number for which the sum of its proper divisors is exactly equal to the number. For example, the sum of the proper divisors of 28 would be 1 + 2 + 4 + 7 + 14 = 28, which means that 28 is a perfect number.\n",
      "\n",
      "A number n is called deficient if the sum of its proper divisors is less than n and it is called abundant if this sum exceeds n.\n",
      "\n",
      "As 12 is the smallest abundant number, 1 + 2 + 3 + 4 + 6 = 16, the smallest number that can be written as the sum of two abundant numbers is 24. By mathematical analysis, it can be shown that all integers greater than 28123 can be written as the sum of two abundant numbers. However, this upper limit cannot be reduced any further by analysis even though it is known that the greatest number that cannot be expressed as the sum of two abundant numbers is less than this limit.\n",
      "\n",
      "<font color=\"red\">Find the sum of all the positive integers which cannot be written as the sum of two abundant numbers.</font>"
     ]
    },
    {
     "cell_type": "code",
     "collapsed": false,
     "input": [
      "#Find factors pulled from Problem 003 (and modified to add 1 as part of the factors)\n",
      "def find_factors(n):\n",
      "    import math\n",
      "    results = set()\n",
      "    results.add(1)\n",
      "    for i in xrange(2, int(math.sqrt(n)) + 1):\n",
      "        if n % i == 0:\n",
      "            results.add(n / i)\n",
      "            results.add(i)\n",
      "    return results\n",
      "\n",
      "sorted(find_factors(28))"
     ],
     "language": "python",
     "metadata": {},
     "outputs": []
    },
    {
     "cell_type": "code",
     "collapsed": false,
     "input": [
      "#I'm not sure where to start, I'm going to just find a couple abundant numbers\n",
      "def is_abundant(n):\n",
      "    if n == 0:\n",
      "        return False\n",
      "    factors = find_factors(n)\n",
      "    if sum(factors) > n:\n",
      "        return True\n",
      "    return False\n",
      "\n",
      "print(is_abundant(12))\n",
      "print(is_abundant(13))"
     ],
     "language": "python",
     "metadata": {},
     "outputs": []
    },
    {
     "cell_type": "code",
     "collapsed": false,
     "input": [
      "abundant_numbers = [num for num in xrange(1, 28123) if is_abundant(num)]\n",
      "len(abundant_numbers)"
     ],
     "language": "python",
     "metadata": {},
     "outputs": []
    },
    {
     "cell_type": "code",
     "collapsed": false,
     "input": [
      "abundant_numbers[:10]"
     ],
     "language": "python",
     "metadata": {},
     "outputs": []
    },
    {
     "cell_type": "code",
     "collapsed": false,
     "input": [
      "#The tricky part of this is that I need to eliminate all possible sums\n",
      "import numpy as np\n",
      "array = np.arange(28124)\n",
      "for num in array:\n",
      "    if num == 0:\n",
      "        continue\n",
      "    if is_abundant(num):\n",
      "        array[::12] = 0\n",
      "        \n",
      "len(array[>0])"
     ],
     "language": "python",
     "metadata": {},
     "outputs": []
    },
    {
     "cell_type": "code",
     "collapsed": false,
     "input": [
      "12 + 18 + 20"
     ],
     "language": "python",
     "metadata": {},
     "outputs": []
    },
    {
     "cell_type": "code",
     "collapsed": false,
     "input": [
      "50 + 12"
     ],
     "language": "python",
     "metadata": {},
     "outputs": []
    },
    {
     "cell_type": "code",
     "collapsed": false,
     "input": [
      "62 % 32"
     ],
     "language": "python",
     "metadata": {},
     "outputs": []
    },
    {
     "cell_type": "code",
     "collapsed": false,
     "input": [
      "import itertools\n",
      "[sum(i) for i in itertools.combinations([1, 5, 7, 22], 2)]"
     ],
     "language": "python",
     "metadata": {},
     "outputs": [
      {
       "output_type": "pyout",
       "prompt_number": 61,
       "text": [
        "[6, 8, 23, 12, 27, 29]"
       ]
      }
     ],
     "prompt_number": 61
    },
    {
     "cell_type": "code",
     "collapsed": false,
     "input": [],
     "language": "python",
     "metadata": {},
     "outputs": []
    }
   ],
   "metadata": {}
  }
 ]
}