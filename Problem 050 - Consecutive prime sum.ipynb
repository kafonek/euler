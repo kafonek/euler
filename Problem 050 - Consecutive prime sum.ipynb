{
 "metadata": {
  "name": "Problem 050 - Consecutive prime sum"
 },
 "nbformat": 3,
 "nbformat_minor": 0,
 "worksheets": [
  {
   "cells": [
    {
     "cell_type": "markdown",
     "metadata": {},
     "source": [
      "Consecutive prime sum\n",
      "\n",
      "Problem 50\n",
      "\n",
      "The prime 41, can be written as the sum of six consecutive primes:\n",
      "\n",
      "41 = 2 + 3 + 5 + 7 + 11 + 13\n",
      "\n",
      "This is the longest sum of consecutive primes that adds to a prime below one-hundred.\n",
      "\n",
      "The longest sum of consecutive primes below one-thousand that adds to a prime, contains 21 terms, and is equal to 953.\n",
      "\n",
      "<font color=\"red\">Which prime, below one-million, can be written as the sum of the most consecutive primes?</font>"
     ]
    },
    {
     "cell_type": "code",
     "collapsed": false,
     "input": [
      "#Code to use when generating through \"n primes\"\n",
      "def postponed_sieve():                   # postponed sieve, by Will Ness      \n",
      "    yield 2; yield 3; yield 5; yield 7;  # original code David Eppstein, \n",
      "    D = {}                               #            ActiveState Recipe 2002\n",
      "    ps = (p for p in postponed_sieve())  # a separate Primes Supply:\n",
      "    p = ps.next() and ps.next()          # (3) a Prime to add to dict\n",
      "    q = p*p                              # (9) when its sQuare is \n",
      "    c = 9                                # the next Candidate\n",
      "    while True:\n",
      "        if c not in D:                # not a multiple of any prime seen so far:\n",
      "            if c < q: yield c         #   a prime, or\n",
      "            else:   # (c==q):         #   the next prime's square:\n",
      "                add(D,c + 2*p,2*p)    #     (9+6,6 : 15,21,27,33,...)\n",
      "                p=ps.next()           #     (5)\n",
      "                q=p*p                 #     (25)\n",
      "        else:                         # 'c' is a composite:\n",
      "            s = D.pop(c)              #   step of increment\n",
      "            add(D,c + s,s)            #   next multiple, same step\n",
      "        c += 2                        # next odd candidate\n",
      "\n",
      "def add(D,x,s):                          # make no multiple keys in Dict\n",
      "    while x in D: x += s                 # increment by the given step\n",
      "    D[x] = s "
     ],
     "language": "python",
     "metadata": {},
     "outputs": []
    },
    {
     "cell_type": "code",
     "collapsed": false,
     "input": [
      "p = postponed_sieve()\n",
      "primes = []\n",
      "while True:\n",
      "    next_number = p.next()\n",
      "    if next_number > 1000000:\n",
      "        break\n",
      "    primes.append(next_number)\n",
      "    \n",
      "len(primes)"
     ],
     "language": "python",
     "metadata": {},
     "outputs": []
    },
    {
     "cell_type": "code",
     "collapsed": false,
     "input": [
      "primes[:10]"
     ],
     "language": "python",
     "metadata": {},
     "outputs": []
    },
    {
     "cell_type": "code",
     "collapsed": false,
     "input": [
      "sum(primes[:10])"
     ],
     "language": "python",
     "metadata": {},
     "outputs": []
    },
    {
     "cell_type": "code",
     "collapsed": false,
     "input": [
      "sum(primes[:78000])"
     ],
     "language": "python",
     "metadata": {},
     "outputs": []
    },
    {
     "cell_type": "code",
     "collapsed": false,
     "input": [
      "import itertools\n",
      "primes = sorted(set(itertools.takewhile(lambda x: x < 10000, postponed_sieve())))\n",
      "print(len(primes), primes[0], primes[-1])"
     ],
     "language": "python",
     "metadata": {},
     "outputs": []
    },
    {
     "cell_type": "code",
     "collapsed": false,
     "input": [
      "def consecutive_prime_sum(max_prime):\n",
      "    primes = sorted(set(itertools.takewhile(lambda x: x < max_prime, postponed_sieve())))\n",
      "    answer = (0, 0)\n",
      "    for index, prime in enumerate(primes):\n",
      "        summed = 0\n",
      "        counter = 0\n",
      "        for num in primes[index:]:\n",
      "            summed += num\n",
      "            if summed > max_prime:\n",
      "                break\n",
      "            counter += 1\n",
      "            if summed > answer[0] and counter > answer[1]:\n",
      "                if summed in primes:\n",
      "                    answer = (summed, counter)\n",
      "    return answer\n",
      "\n",
      "consecutive_prime_sum(1000000)"
     ],
     "language": "python",
     "metadata": {},
     "outputs": []
    }
   ],
   "metadata": {}
  }
 ]
}