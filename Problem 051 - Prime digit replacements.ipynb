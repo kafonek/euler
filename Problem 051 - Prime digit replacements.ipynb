{
 "metadata": {
  "name": "Problem 051 - Prime digit replacements"
 },
 "nbformat": 3,
 "nbformat_minor": 0,
 "worksheets": [
  {
   "cells": [
    {
     "cell_type": "markdown",
     "metadata": {},
     "source": [
      "Prime digit replacements\n",
      "\n",
      "Problem 51\n",
      "\n",
      "By replacing the 1st digit of *3, it turns out that six of the nine possible values: 13, 23, 43, 53, 73, and 83, are all prime.\n",
      "\n",
      "By replacing the 3rd and 4th digits of 56**3 with the same digit, this 5-digit number is the first example having seven primes among the ten generated numbers, yielding the family: 56003, 56113, 56333, 56443, 56663, 56773, and 56993. Consequently 56003, being the first member of this family, is the smallest prime with this property.\n",
      "\n",
      "<font color=\"red\">Find the smallest prime which, by replacing part of the number (not necessarily adjacent digits) with the same digit, is part of an eight prime value family.</font>"
     ]
    },
    {
     "cell_type": "code",
     "collapsed": false,
     "input": [
      "#Code to use when generating through \"n primes\"\n",
      "def postponed_sieve():                   # postponed sieve, by Will Ness      \n",
      "    yield 2; yield 3; yield 5; yield 7;  # original code David Eppstein, \n",
      "    D = {}                               #            ActiveState Recipe 2002\n",
      "    ps = (p for p in postponed_sieve())  # a separate Primes Supply:\n",
      "    p = ps.next() and ps.next()          # (3) a Prime to add to dict\n",
      "    q = p*p                              # (9) when its sQuare is \n",
      "    c = 9                                # the next Candidate\n",
      "    while True:\n",
      "        if c not in D:                # not a multiple of any prime seen so far:\n",
      "            if c < q: yield c         #   a prime, or\n",
      "            else:   # (c==q):         #   the next prime's square:\n",
      "                add(D,c + 2*p,2*p)    #     (9+6,6 : 15,21,27,33,...)\n",
      "                p=ps.next()           #     (5)\n",
      "                q=p*p                 #     (25)\n",
      "        else:                         # 'c' is a composite:\n",
      "            s = D.pop(c)              #   step of increment\n",
      "            add(D,c + s,s)            #   next multiple, same step\n",
      "        c += 2                        # next odd candidate\n",
      "\n",
      "def add(D,x,s):                          # make no multiple keys in Dict\n",
      "    while x in D: x += s                 # increment by the given step\n",
      "    D[x] = s "
     ],
     "language": "python",
     "metadata": {},
     "outputs": []
    },
    {
     "cell_type": "code",
     "collapsed": false,
     "input": [
      "# I want to only generate primes when I need to (when the number I'm looking for is greater than the primes I've generated so far)\n",
      "\n",
      "class Prime:\n",
      "    sieve = postponed_sieve()\n",
      "    primes = set()\n",
      "    max_prime = 0\n",
      "    \n",
      "    def is_prime(self, n):\n",
      "        while n > self.max_prime:\n",
      "            next_prime = self.sieve.next()\n",
      "            self.primes.add(next_prime)\n",
      "            self.max_prime = next_prime\n",
      "                \n",
      "        if n in self.primes:\n",
      "            return True\n",
      "        else:\n",
      "            return False\n",
      "        \n",
      "    def __str__(self):\n",
      "        return \"Maintaining %s primes in memory\" % len(self.primes)\n",
      "    \n",
      "    def __len__(self):\n",
      "        return len(self.primes)"
     ],
     "language": "python",
     "metadata": {},
     "outputs": []
    },
    {
     "cell_type": "code",
     "collapsed": false,
     "input": [
      "p = Prime()"
     ],
     "language": "python",
     "metadata": {},
     "outputs": []
    },
    {
     "cell_type": "code",
     "collapsed": false,
     "input": [
      "def expand(n, indices):\n",
      "    'take the number n, and return all permutations where the indices have been expanded from * to 0-9'\n",
      "    if isinstance(indices, int):\n",
      "        indices = [indices]\n",
      "    characters = list(str(n))\n",
      "    response = []\n",
      "    for i in xrange(10):\n",
      "        for index in indices:\n",
      "            characters[index] = str(i)\n",
      "        if characters[0] != '0':\n",
      "            response.append(int(''.join(characters)))\n",
      "    return response\n",
      "\n",
      "expand(13, [0])\n",
      "                    "
     ],
     "language": "python",
     "metadata": {},
     "outputs": []
    },
    {
     "cell_type": "code",
     "collapsed": false,
     "input": [
      "def eval_family(n, indices):\n",
      "    family = expand(n, indices)\n",
      "    primes = [num for num in family if p.is_prime(num)]\n",
      "    if not primes:\n",
      "        return (min(family), 0)\n",
      "    return (min(primes), len(primes))\n",
      "\n",
      "eval_family(13, [0])\n",
      "    "
     ],
     "language": "python",
     "metadata": {},
     "outputs": []
    },
    {
     "cell_type": "code",
     "collapsed": false,
     "input": [
      "import itertools\n",
      "def eval_all(n):\n",
      "    n_len = len(str(n))\n",
      "    combos = [] #this will be a list of indices to pass in to eval_family\n",
      "    for i in range(1, n_len):\n",
      "        for index in itertools.combinations(xrange(n_len), i):\n",
      "            combos.append(index)\n",
      "    best_answer = (n, 1)\n",
      "    for combo in combos:\n",
      "        answer = eval_family(n, combo)\n",
      "        if answer[1] > best_answer[1]: #then I've found more primes in a family\n",
      "            best_answer = answer\n",
      "        elif answer[1] == best_answer[1] and answer[0] < best_answer[0]: \n",
      "            #then I've found a smaller prime with the same total number of primes\n",
      "            best_answer = answer\n",
      "    return best_answer\n",
      "\n",
      "eval_all(2)"
     ],
     "language": "python",
     "metadata": {},
     "outputs": []
    },
    {
     "cell_type": "code",
     "collapsed": false,
     "input": [
      "gen = postponed_sieve()\n",
      "for _ in range(20):\n",
      "    prime = gen.next()\n",
      "    print(prime, eval_all(prime))"
     ],
     "language": "python",
     "metadata": {},
     "outputs": []
    },
    {
     "cell_type": "code",
     "collapsed": false,
     "input": [
      "import time\n",
      "start = time.time()\n",
      "gen = postponed_sieve()\n",
      "while True:\n",
      "    prime = gen.next()\n",
      "    evaled = eval_all(prime)\n",
      "    if evaled[1] == 8:\n",
      "        print(prime, evaled)\n",
      "        break\n",
      "duration = time.time() - start\n",
      "print('done in %.3f seconds' % duration)\n",
      "    "
     ],
     "language": "python",
     "metadata": {},
     "outputs": []
    }
   ],
   "metadata": {}
  }
 ]
}