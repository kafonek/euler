{
 "metadata": {
  "name": "Problem 021 - Amicable numbers"
 },
 "nbformat": 3,
 "nbformat_minor": 0,
 "worksheets": [
  {
   "cells": [
    {
     "cell_type": "markdown",
     "metadata": {},
     "source": [
      "Amicable numbers\n",
      "\n",
      "Problem 21\n",
      "\n",
      "Let d(n) be defined as the sum of proper divisors of n (numbers less than n which divide evenly into n).\n",
      "\n",
      "If d(a) = b and d(b) = a, where a \u2260 b, then a and b are an amicable pair and each of a and b are called amicable numbers.\n",
      "\n",
      "For example, the proper divisors of 220 are 1, 2, 4, 5, 10, 11, 20, 22, 44, 55 and 110; therefore d(220) = 284. The proper divisors of 284 are 1, 2, 4, 71 and 142; so d(284) = 220.\n",
      "\n",
      "<font color=\"red\">Evaluate the sum of all the amicable numbers under 10000.</font>\n"
     ]
    },
    {
     "cell_type": "code",
     "collapsed": false,
     "input": [
      "def find_factors(n):\n",
      "    \"\"\"Normally find_factors would not return '1', but for this problem, add in '1' as a factor\"\"\"\n",
      "    import math\n",
      "    results = set()\n",
      "    results.add(1)\n",
      "    for i in xrange(2, int(math.sqrt(n)) + 1):\n",
      "        if n % i == 0:\n",
      "            results.add(n / i)\n",
      "            results.add(i)\n",
      "    return results\n",
      "\n",
      "def sum_of_factors(n):\n",
      "    return sum(find_factors(n))\n",
      "\n",
      "print(sum_of_factors(220))\n",
      "print(sum_of_factors(284))"
     ],
     "language": "python",
     "metadata": {},
     "outputs": []
    },
    {
     "cell_type": "code",
     "collapsed": false,
     "input": [
      "number_divisors = []\n",
      "divisors_numbers = []\n",
      "for i in xrange(10001):\n",
      "    summed = sum_of_factors(i)\n",
      "    number_divisors.append((i, summed))\n",
      "    divisors_numbers.append((summed, i))\n",
      "\n",
      "amicable_numbers = []\n",
      "for tup in number_divisors:\n",
      "    if tup in divisors_numbers and tup[0] != tup[1]:\n",
      "        amicable_numbers.append(tup)\n",
      "len(amicable_numbers)        "
     ],
     "language": "python",
     "metadata": {},
     "outputs": []
    },
    {
     "cell_type": "code",
     "collapsed": false,
     "input": [
      "amicable_numbers"
     ],
     "language": "python",
     "metadata": {},
     "outputs": []
    },
    {
     "cell_type": "code",
     "collapsed": false,
     "input": [
      "answer = 0\n",
      "for tup in amicable_numbers:\n",
      "    answer += tup[0] #counting both tuples would end up 'dupe counting' each number\n",
      "answer"
     ],
     "language": "python",
     "metadata": {},
     "outputs": []
    },
    {
     "cell_type": "markdown",
     "metadata": {},
     "source": [
      "The above is my first blush quick and dirty way.  We are going to try to optimize the number of calculations we need to do to speed up the effort, and limit how much data we have to keep in memory.\n",
      "\n",
      "todo: try the following optimizations - \n",
      "<ul>\n",
      "    <li> Removing all primes (since their factors will just be 1)</li>\n",
      "    <li> Calculating possible amicable numbers as we discover their potential, and keeping track of what we've checked</li>\n",
      "</ul>"
     ]
    }
   ],
   "metadata": {}
  }
 ]
}