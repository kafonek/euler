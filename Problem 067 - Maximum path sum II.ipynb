{
 "metadata": {
  "name": "Problem 067 - Maximum path sum II"
 },
 "nbformat": 3,
 "nbformat_minor": 0,
 "worksheets": [
  {
   "cells": [
    {
     "cell_type": "markdown",
     "metadata": {},
     "source": [
      "By starting at the top of the triangle below and moving to adjacent numbers on the row below, the maximum total from top to bottom is 23.\n",
      "\n",
      "3\n",
      "7 4\n",
      "2 4 6\n",
      "8 5 9 3\n",
      "\n",
      "That is, 3 + 7 + 4 + 9 = 23.\n",
      "\n",
      "Find the maximum total from top to bottom in triangle.txt (right click and 'Save Link/Target As...'), a 15K text file containing a triangle with one-hundred rows.\n",
      "\n",
      "NOTE: This is a much more difficult version of Problem 18. It is not possible to try every route to solve this problem, as there are 299 altogether! If you could check one trillion (1012) routes every second it would take over twenty billion years to check them all. There is an efficient algorithm to solve it. ;o)"
     ]
    },
    {
     "cell_type": "code",
     "collapsed": false,
     "input": [
      "text = open('triangle.txt').read()\n",
      "print(len(text))"
     ],
     "language": "python",
     "metadata": {},
     "outputs": []
    },
    {
     "cell_type": "markdown",
     "metadata": {},
     "source": [
      "The following functions are just copy/pasted from my Problem 18 - Maximum path sum I notebook"
     ]
    },
    {
     "cell_type": "code",
     "collapsed": false,
     "input": [
      "def text_to_lists(text):\n",
      "    lines = reversed(text.split('\\n')) #We're calling reversed so that we start with the bottom rows first\n",
      "    return [[int(c) for c in line.split()] for line in lines if line]\n",
      "\n",
      "data = text_to_lists(text)\n",
      "print(len(data))"
     ],
     "language": "python",
     "metadata": {},
     "outputs": []
    },
    {
     "cell_type": "code",
     "collapsed": false,
     "input": [
      "def find_pyramid_max(list_of_lists):\n",
      "    \"\"\"Reduces a pyramid of numbers (represented by a list of lists) into the maximum possible sum\"\"\"\n",
      "    comparison_line = list_of_lists[0] #This is the \"bottom\" of the pyramid\n",
      "    for line in list_of_lists[1:]:\n",
      "        optimized_line = [] #optimized_list will become a list the same length as line\n",
      "        for index, value in enumerate(line):\n",
      "            best_option = max(comparison_line[index:index+2])\n",
      "            optimized_line.append(value + best_option)\n",
      "        comparison_line = optimized_line\n",
      "        #uncomment these print lines for a visual look at how the recursion works\n",
      "        #print(\"Original line\", line)\n",
      "        #print(\"'Summed up' line\", optimized_line)\n",
      "        #print('\\n')\n",
      "    return comparison_line[0]\n",
      "\n",
      "data = text_to_lists(text)\n",
      "find_pyramid_max(data)"
     ],
     "language": "python",
     "metadata": {},
     "outputs": []
    },
    {
     "cell_type": "code",
     "collapsed": false,
     "input": [],
     "language": "python",
     "metadata": {},
     "outputs": []
    }
   ],
   "metadata": {}
  }
 ]
}