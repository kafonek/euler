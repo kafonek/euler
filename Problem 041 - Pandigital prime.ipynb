{
 "metadata": {
  "name": "Problem 041 - Pandigital prime"
 },
 "nbformat": 3,
 "nbformat_minor": 0,
 "worksheets": [
  {
   "cells": [
    {
     "cell_type": "markdown",
     "metadata": {},
     "source": [
      "Pandigital prime\n",
      "\n",
      "Problem 41\n",
      "\n",
      "We shall say that an n-digit number is pandigital if it makes use of all the digits 1 to n exactly once. For example, 2143 is a 4-digit pandigital and is also prime.\n",
      "\n",
      "<font color=\"red\">What is the largest n-digit pandigital prime that exists?</font>"
     ]
    },
    {
     "cell_type": "code",
     "collapsed": false,
     "input": [
      "#Code to use when generating through \"n primes\"\n",
      "def postponed_sieve():                   # postponed sieve, by Will Ness      \n",
      "    yield 2; yield 3; yield 5; yield 7;  # original code David Eppstein, \n",
      "    D = {}                               #            ActiveState Recipe 2002\n",
      "    ps = (p for p in postponed_sieve())  # a separate Primes Supply:\n",
      "    p = ps.next() and ps.next()          # (3) a Prime to add to dict\n",
      "    q = p*p                              # (9) when its sQuare is \n",
      "    c = 9                                # the next Candidate\n",
      "    while True:\n",
      "        if c not in D:                # not a multiple of any prime seen so far:\n",
      "            if c < q: yield c         #   a prime, or\n",
      "            else:   # (c==q):         #   the next prime's square:\n",
      "                add(D,c + 2*p,2*p)    #     (9+6,6 : 15,21,27,33,...)\n",
      "                p=ps.next()           #     (5)\n",
      "                q=p*p                 #     (25)\n",
      "        else:                         # 'c' is a composite:\n",
      "            s = D.pop(c)              #   step of increment\n",
      "            add(D,c + s,s)            #   next multiple, same step\n",
      "        c += 2                        # next odd candidate\n",
      "\n",
      "def add(D,x,s):                          # make no multiple keys in Dict\n",
      "    while x in D: x += s                 # increment by the given step\n",
      "    D[x] = s "
     ],
     "language": "python",
     "metadata": {},
     "outputs": []
    },
    {
     "cell_type": "code",
     "collapsed": false,
     "input": [
      "def is_pandigital(n):\n",
      "    nums = sorted([int(c) for c in str(n)])\n",
      "    if nums != range(1, len(nums) + 1):\n",
      "        return False\n",
      "    return True\n",
      "\n",
      "is_pandigital(2143)\n",
      "    "
     ],
     "language": "python",
     "metadata": {},
     "outputs": []
    },
    {
     "cell_type": "code",
     "collapsed": false,
     "input": [
      "#This ended up not finishing before I interrupted and used the largest \"printed out\" prime.  See commented print statement below.\n",
      "sieve = postponed_sieve()\n",
      "answer = 0\n",
      "prime = 0\n",
      "logging = 10\n",
      "while prime <= 987654321: #max pandigital number\n",
      "    prime = sieve.next()\n",
      "    if is_pandigital(prime):\n",
      "        #print(\"updating answer from %s to %s\" % (answer, prime))\n",
      "        answer = prime\n",
      "        \n",
      "answer"
     ],
     "language": "python",
     "metadata": {},
     "outputs": []
    }
   ],
   "metadata": {}
  }
 ]
}