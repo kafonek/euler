{
 "metadata": {
  "name": "Problem 063 - Powerful digit counts"
 },
 "nbformat": 3,
 "nbformat_minor": 0,
 "worksheets": [
  {
   "cells": [
    {
     "cell_type": "markdown",
     "metadata": {},
     "source": [
      "Powerful digit counts\n",
      "\n",
      "Problem 63\n",
      "\n",
      "The 5-digit number, 16807=7^5, is also a fifth power. Similarly, the 9-digit number, 134217728=8^9, is a ninth power.\n",
      "\n",
      "<font color=\"red\">How many n-digit positive integers exist which are also an nth power?</font>"
     ]
    },
    {
     "cell_type": "code",
     "collapsed": false,
     "input": [
      "def power_length(n, power):\n",
      "    answer = n**power\n",
      "    return answer, len(str(answer))\n",
      "\n",
      "power_length(7, 5)"
     ],
     "language": "python",
     "metadata": {},
     "outputs": []
    },
    {
     "cell_type": "code",
     "collapsed": false,
     "input": [
      "pl = power_length\n",
      "pl(2, 3)"
     ],
     "language": "python",
     "metadata": {},
     "outputs": []
    },
    {
     "cell_type": "code",
     "collapsed": false,
     "input": [
      "for i in xrange(1, 20):\n",
      "    print(i, pl(10, i))"
     ],
     "language": "python",
     "metadata": {},
     "outputs": []
    },
    {
     "cell_type": "code",
     "collapsed": false,
     "input": [
      "nums = set()\n",
      "for i in xrange(1, 10):\n",
      "    #anything after 10 will always have more digits than the power raised\n",
      "    power = 1\n",
      "    while True:\n",
      "        answer, length = power_length(i, power)\n",
      "        if length == power:\n",
      "            nums.add(answer)\n",
      "            power += 1\n",
      "        else:\n",
      "            #if the power does not equal the length of i^power, \n",
      "            #then it will never be (either it will trend under or over forever)\n",
      "            power = 1\n",
      "            break\n",
      "            \n",
      "len(nums)"
     ],
     "language": "python",
     "metadata": {},
     "outputs": []
    },
    {
     "cell_type": "code",
     "collapsed": false,
     "input": [],
     "language": "python",
     "metadata": {},
     "outputs": []
    }
   ],
   "metadata": {}
  }
 ]
}