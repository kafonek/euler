{
 "metadata": {
  "name": "Problem 022 - Names scores"
 },
 "nbformat": 3,
 "nbformat_minor": 0,
 "worksheets": [
  {
   "cells": [
    {
     "cell_type": "markdown",
     "metadata": {},
     "source": [
      "Names scores\n",
      "\n",
      "Problem 22\n",
      "\n",
      "Using names.txt (right click and 'Save Link/Target As...'), a 46K text file containing over five-thousand first names, begin by sorting it into alphabetical order. Then working out the alphabetical value for each name, multiply this value by its alphabetical position in the list to obtain a name score.\n",
      "\n",
      "For example, when the list is sorted into alphabetical order, COLIN, which is worth 3 + 15 + 12 + 9 + 14 = 53, is the 938th name in the list. So, COLIN would obtain a score of 938 * 53 = 49714.\n",
      "\n",
      "<font color=\"red\">What is the total of all the name scores in the file?</font>"
     ]
    },
    {
     "cell_type": "code",
     "collapsed": false,
     "input": [
      "text = open('names.txt').read()\n",
      "print(text[:100])"
     ],
     "language": "python",
     "metadata": {},
     "outputs": []
    },
    {
     "cell_type": "code",
     "collapsed": false,
     "input": [
      "names = sorted([word.strip('\"') for word in text.replace('\\n', '').split(',')])\n",
      "print(names[0], names[-1], len(names))"
     ],
     "language": "python",
     "metadata": {},
     "outputs": []
    },
    {
     "cell_type": "code",
     "collapsed": false,
     "input": [
      "ord('A')"
     ],
     "language": "python",
     "metadata": {},
     "outputs": []
    },
    {
     "cell_type": "code",
     "collapsed": false,
     "input": [
      "def letter_value(letter):\n",
      "    return ord(letter.upper()) - 64\n",
      "\n",
      "print(letter_value('A'))\n",
      "print(letter_value('Z'))"
     ],
     "language": "python",
     "metadata": {},
     "outputs": []
    },
    {
     "cell_type": "code",
     "collapsed": false,
     "input": [
      "def word_value(word):\n",
      "    return sum(letter_value(letter) for letter in word)\n",
      "\n",
      "word_value('COLIN')"
     ],
     "language": "python",
     "metadata": {},
     "outputs": []
    },
    {
     "cell_type": "code",
     "collapsed": false,
     "input": [
      "answer = 0\n",
      "for index, name in enumerate(names):\n",
      "    answer += (index + 1) * word_value(name)\n",
      "    \n",
      "print(answer)"
     ],
     "language": "python",
     "metadata": {},
     "outputs": []
    },
    {
     "cell_type": "code",
     "collapsed": false,
     "input": [],
     "language": "python",
     "metadata": {},
     "outputs": []
    }
   ],
   "metadata": {}
  }
 ]
}