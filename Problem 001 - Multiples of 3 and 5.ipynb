{
 "metadata": {
  "name": "Problem 001 - Multiples of 3 and 5"
 },
 "nbformat": 3,
 "nbformat_minor": 0,
 "worksheets": [
  {
   "cells": [
    {
     "cell_type": "markdown",
     "metadata": {},
     "source": [
      "Multiples of 3 and 5\n",
      "\n",
      "Problem 1\n",
      "\n",
      "If we list all the natural numbers below 10 that are multiples of 3 or 5, we get 3, 5, 6 and 9. The sum of these multiples is 23.\n",
      "\n",
      "<font color=\"red\">Find the sum of all the multiples of 3 or 5 below 1000.</font>"
     ]
    },
    {
     "cell_type": "markdown",
     "metadata": {},
     "source": [
      "While this is a relatively simple problem, it provides a good opportunity to introduce list comprehensions and generator expressions compared to simple for loops.\n",
      "\n",
      "Look at <a href=\"http://www.python.org/dev/peps/pep-0289/\">Pep 289</a> for more information on Generator expressions"
     ]
    },
    {
     "cell_type": "code",
     "collapsed": false,
     "input": [
      "### A 'classic' for loop solution\n",
      "answer = 0\n",
      "for i in range(1, 1000):\n",
      "    if i % 3 == 0 or i % 5 == 0:\n",
      "        answer += i\n",
      "print(answer)"
     ],
     "language": "python",
     "metadata": {},
     "outputs": []
    },
    {
     "cell_type": "code",
     "collapsed": false,
     "input": [
      "### A list comprehension solution\n",
      "answer = sum([i for i in range(1, 1000) if i % 3 == 0 or i % 5 == 0])\n",
      "print(answer)"
     ],
     "language": "python",
     "metadata": {},
     "outputs": []
    },
    {
     "cell_type": "code",
     "collapsed": false,
     "input": [
      "### A generator expression solution, which looks very similar to the list comprehension, but is much more memory efficient\n",
      "answer = sum((i for i in xrange(1, 1000) if i % 3 == 0 or i % 5 == 0))\n",
      "print(answer)"
     ],
     "language": "python",
     "metadata": {},
     "outputs": []
    }
   ],
   "metadata": {}
  }
 ]
}