{
 "metadata": {
  "name": "Problem 027 - Quadratic primes"
 },
 "nbformat": 3,
 "nbformat_minor": 0,
 "worksheets": [
  {
   "cells": [
    {
     "cell_type": "markdown",
     "metadata": {},
     "source": [
      "Quadratic primes\n",
      "\n",
      "Problem 27\n",
      "\n",
      "Euler published the remarkable quadratic formula:\n",
      "\n",
      "n\u00b2 + n + 41\n",
      "\n",
      "It turns out that the formula will produce 40 primes for the consecutive values n = 0 to 39. However, when n = 40, 40^2 + 40 + 41 = 40(40 + 1) + 41 is divisible by 41, and certainly when n = 41, 41\u00b2 + 41 + 41 is clearly divisible by 41.\n",
      "\n",
      "Using computers, the incredible formula  n\u00b2 + 79n + 1601 was discovered, which produces 80 primes for the consecutive values n = 0 to 79. The product of the coefficients, 79 and 1601, is 126479.\n",
      "\n",
      "Considering quadratics of the form:\n",
      "\n",
      "n\u00b2 + an + b, where |a| <= 1000 and |b| <= 1000\n",
      "\n",
      "where |n| is the modulus/absolute value of n\n",
      "e.g. |11| = 11 and |4| = 4\n",
      "Find the product of the coefficients, a and b, for the quadratic expression that produces the maximum number of primes for consecutive values of n, starting with n = 0."
     ]
    },
    {
     "cell_type": "code",
     "collapsed": false,
     "input": [
      "### Used in Problem 007, see comments there\n",
      "\n",
      "#Code to use when generating through \"n primes\"\n",
      "def postponed_sieve():                   # postponed sieve, by Will Ness      \n",
      "    yield 2; yield 3; yield 5; yield 7;  # original code David Eppstein, \n",
      "    D = {}                               #            ActiveState Recipe 2002\n",
      "    ps = (p for p in postponed_sieve())  # a separate Primes Supply:\n",
      "    p = ps.next() and ps.next()          # (3) a Prime to add to dict\n",
      "    q = p*p                              # (9) when its sQuare is \n",
      "    c = 9                                # the next Candidate\n",
      "    while True:\n",
      "        if c not in D:                # not a multiple of any prime seen so far:\n",
      "            if c < q: yield c         #   a prime, or\n",
      "            else:   # (c==q):         #   the next prime's square:\n",
      "                add(D,c + 2*p,2*p)    #     (9+6,6 : 15,21,27,33,...)\n",
      "                p=ps.next()           #     (5)\n",
      "                q=p*p                 #     (25)\n",
      "        else:                         # 'c' is a composite:\n",
      "            s = D.pop(c)              #   step of increment\n",
      "            add(D,c + s,s)            #   next multiple, same step\n",
      "        c += 2                        # next odd candidate\n",
      "\n",
      "def add(D,x,s):                          # make no multiple keys in Dict\n",
      "    while x in D: x += s                 # increment by the given step\n",
      "    D[x] = s "
     ],
     "language": "python",
     "metadata": {},
     "outputs": []
    },
    {
     "cell_type": "code",
     "collapsed": false,
     "input": [
      "# I want to only generate primes when I need to (when the number I'm looking for is greater than the primes I've generated so far)\n",
      "\n",
      "class Prime:\n",
      "    sieve = postponed_sieve()\n",
      "    primes = set()\n",
      "    max_prime = 0\n",
      "    \n",
      "    def is_prime(self, n):\n",
      "        while n > self.max_prime:\n",
      "            next_prime = self.sieve.next()\n",
      "            self.primes.add(next_prime)\n",
      "            self.max_prime = next_prime\n",
      "                \n",
      "        if n in self.primes:\n",
      "            return True\n",
      "        else:\n",
      "            return False\n",
      "        \n",
      "    def __str__(self):\n",
      "        return \"Maintaining %s primes in memory\" % len(self.primes)\n",
      "    \n",
      "    def __len__(self):\n",
      "        return len(self.primes)\n",
      "        \n",
      "p = Prime()\n",
      "print(p)\n",
      "print(p.is_prime(9))\n",
      "print(p.is_prime(41))\n",
      "print(p)\n",
      "print(len(p))\n"
     ],
     "language": "python",
     "metadata": {},
     "outputs": []
    },
    {
     "cell_type": "code",
     "collapsed": false,
     "input": [
      "primes = Prime()\n",
      "def quadratic_prime(n, a, b):\n",
      "    product = n**2 + a*n + b\n",
      "    return primes.is_prime(product)\n",
      "\n",
      "print(quadratic_prime(39, 1, 41))\n",
      "print(primes)"
     ],
     "language": "python",
     "metadata": {},
     "outputs": []
    },
    {
     "cell_type": "code",
     "collapsed": false,
     "input": [
      "candidates = [[a, b, 0] for a in xrange(-1000, 1001) for b in xrange(-1000, 1001)]\n",
      "print(len(candidates))\n",
      "candidates[0]"
     ],
     "language": "python",
     "metadata": {},
     "outputs": []
    },
    {
     "cell_type": "code",
     "collapsed": false,
     "input": [
      "for index, lst in enumerate(candidates):\n",
      "    a, b = lst[0], lst[1]\n",
      "    n = 0\n",
      "    while quadratic_prime(n, a, b):\n",
      "        n += 1\n",
      "    candidates[index][2] = n #set the third item in the tuple to be the consecutive primes"
     ],
     "language": "python",
     "metadata": {},
     "outputs": []
    },
    {
     "cell_type": "code",
     "collapsed": false,
     "input": [
      "candidates[0]"
     ],
     "language": "python",
     "metadata": {},
     "outputs": []
    },
    {
     "cell_type": "code",
     "collapsed": false,
     "input": [
      "candidates[-1]"
     ],
     "language": "python",
     "metadata": {},
     "outputs": []
    },
    {
     "cell_type": "code",
     "collapsed": false,
     "input": [
      "candidates.sort(key=lambda x: x[2], reverse=True)"
     ],
     "language": "python",
     "metadata": {},
     "outputs": []
    },
    {
     "cell_type": "code",
     "collapsed": false,
     "input": [
      "candidates[0]"
     ],
     "language": "python",
     "metadata": {},
     "outputs": []
    },
    {
     "cell_type": "code",
     "collapsed": false,
     "input": [
      "-61 * 971"
     ],
     "language": "python",
     "metadata": {},
     "outputs": []
    },
    {
     "cell_type": "code",
     "collapsed": false,
     "input": [],
     "language": "python",
     "metadata": {},
     "outputs": []
    }
   ],
   "metadata": {}
  }
 ]
}