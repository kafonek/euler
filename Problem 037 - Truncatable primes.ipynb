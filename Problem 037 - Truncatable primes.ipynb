{
 "metadata": {
  "name": "Problem 037 - Truncatable primes"
 },
 "nbformat": 3,
 "nbformat_minor": 0,
 "worksheets": [
  {
   "cells": [
    {
     "cell_type": "markdown",
     "metadata": {},
     "source": [
      "Truncatable primes\n",
      "\n",
      "Problem 37\n",
      "\n",
      "The number 3797 has an interesting property. Being prime itself, it is possible to continuously remove digits from left to right, and remain prime at each stage: 3797, 797, 97, and 7. Similarly we can work from right to left: 3797, 379, 37, and 3.\n",
      "\n",
      "<font color=\"red\">Find the sum of the only eleven primes that are both truncatable from left to right and right to left.</font>\n",
      "\n",
      "NOTE: 2, 3, 5, and 7 are not considered to be truncatable primes."
     ]
    },
    {
     "cell_type": "code",
     "collapsed": false,
     "input": [
      "#Code to use when generating through \"n primes\"\n",
      "def postponed_sieve():                   # postponed sieve, by Will Ness      \n",
      "    yield 2; yield 3; yield 5; yield 7;  # original code David Eppstein, \n",
      "    D = {}                               #            ActiveState Recipe 2002\n",
      "    ps = (p for p in postponed_sieve())  # a separate Primes Supply:\n",
      "    p = ps.next() and ps.next()          # (3) a Prime to add to dict\n",
      "    q = p*p                              # (9) when its sQuare is \n",
      "    c = 9                                # the next Candidate\n",
      "    while True:\n",
      "        if c not in D:                # not a multiple of any prime seen so far:\n",
      "            if c < q: yield c         #   a prime, or\n",
      "            else:   # (c==q):         #   the next prime's square:\n",
      "                add(D,c + 2*p,2*p)    #     (9+6,6 : 15,21,27,33,...)\n",
      "                p=ps.next()           #     (5)\n",
      "                q=p*p                 #     (25)\n",
      "        else:                         # 'c' is a composite:\n",
      "            s = D.pop(c)              #   step of increment\n",
      "            add(D,c + s,s)            #   next multiple, same step\n",
      "        c += 2                        # next odd candidate\n",
      "\n",
      "def add(D,x,s):                          # make no multiple keys in Dict\n",
      "    while x in D: x += s                 # increment by the given step\n",
      "    D[x] = s "
     ],
     "language": "python",
     "metadata": {},
     "outputs": []
    },
    {
     "cell_type": "code",
     "collapsed": false,
     "input": [
      "def truncatable_prime(primes, n):\n",
      "    if n < 10:\n",
      "        return False\n",
      "    string = str(n)\n",
      "    for i in range(1, len(string)):\n",
      "        if int(string[i:]) not in primes:\n",
      "            return False\n",
      "        if int(string[:i]) not in primes:\n",
      "            return False\n",
      "    return True\n",
      "\n",
      "sieve = postponed_sieve()\n",
      "primes = [sieve.next() for i in range(1000)]\n",
      "print(primes[-1])\n",
      "\n",
      "truncatable_prime(primes, 73)"
     ],
     "language": "python",
     "metadata": {},
     "outputs": []
    },
    {
     "cell_type": "code",
     "collapsed": false,
     "input": [
      "#An important note - I'm not sure how I would figure out that there are only 11 of these valid answers,\n",
      "#but since they gave us that clue, we'll just go in a while loop until we get 11 answers.\n",
      "sieve = postponed_sieve()\n",
      "primes = set()\n",
      "answer = []\n",
      "count = 0\n",
      "while count < 11:\n",
      "    number = sieve.next()\n",
      "    primes.add(number)\n",
      "    if truncatable_prime(primes, number):\n",
      "        answer.append(number)\n",
      "        count += 1\n",
      "\n",
      "sum(answer)\n",
      "    "
     ],
     "language": "python",
     "metadata": {},
     "outputs": []
    },
    {
     "cell_type": "code",
     "collapsed": false,
     "input": [],
     "language": "python",
     "metadata": {},
     "outputs": []
    }
   ],
   "metadata": {}
  }
 ]
}