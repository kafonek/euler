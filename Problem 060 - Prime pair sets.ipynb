{
 "metadata": {
  "name": "Problem 060 - Prime pair sets"
 },
 "nbformat": 3,
 "nbformat_minor": 0,
 "worksheets": [
  {
   "cells": [
    {
     "cell_type": "markdown",
     "metadata": {},
     "source": [
      "Prime pair sets\n",
      "\n",
      "Problem 60\n",
      "\n",
      "The primes 3, 7, 109, and 673, are quite remarkable. By taking any two primes and concatenating them in any order the result will always be prime. For example, taking 7 and 109, both 7109 and 1097 are prime. The sum of these four primes, 792, represents the lowest sum for a set of four primes with this property.\n",
      "\n",
      "<font color=\"red\">Find the lowest sum for a set of five primes for which any two primes concatenate to produce another prime.</font>"
     ]
    },
    {
     "cell_type": "code",
     "collapsed": false,
     "input": [
      "%pylab inline"
     ],
     "language": "python",
     "metadata": {},
     "outputs": []
    },
    {
     "cell_type": "code",
     "collapsed": false,
     "input": [
      "#Code to use when generating through \"n primes\"\n",
      "def postponed_sieve():                   # postponed sieve, by Will Ness      \n",
      "    yield 2; yield 3; yield 5; yield 7;  # original code David Eppstein, \n",
      "    D = {}                               #            ActiveState Recipe 2002\n",
      "    ps = (p for p in postponed_sieve())  # a separate Primes Supply:\n",
      "    p = ps.next() and ps.next()          # (3) a Prime to add to dict\n",
      "    q = p*p                              # (9) when its sQuare is \n",
      "    c = 9                                # the next Candidate\n",
      "    while True:\n",
      "        if c not in D:                # not a multiple of any prime seen so far:\n",
      "            if c < q: yield c         #   a prime, or\n",
      "            else:   # (c==q):         #   the next prime's square:\n",
      "                add(D,c + 2*p,2*p)    #     (9+6,6 : 15,21,27,33,...)\n",
      "                p=ps.next()           #     (5)\n",
      "                q=p*p                 #     (25)\n",
      "        else:                         # 'c' is a composite:\n",
      "            s = D.pop(c)              #   step of increment\n",
      "            add(D,c + s,s)            #   next multiple, same step\n",
      "        c += 2                        # next odd candidate\n",
      "\n",
      "def add(D,x,s):                          # make no multiple keys in Dict\n",
      "    while x in D: x += s                 # increment by the given step\n",
      "    D[x] = s "
     ],
     "language": "python",
     "metadata": {},
     "outputs": []
    },
    {
     "cell_type": "code",
     "collapsed": false,
     "input": [
      "# I want to only generate primes when I need to (when the number I'm looking for is greater than the primes I've generated so far)\n",
      "\n",
      "class Prime:\n",
      "    sieve = postponed_sieve()\n",
      "    primes = set()\n",
      "    max_prime = 0\n",
      "    \n",
      "    def is_prime(self, n):\n",
      "        while n > self.max_prime:\n",
      "            next_prime = self.sieve.next()\n",
      "            self.primes.add(next_prime)\n",
      "            self.max_prime = next_prime\n",
      "                \n",
      "        if n in self.primes:\n",
      "            return True\n",
      "        else:\n",
      "            return False\n",
      "        \n",
      "    def __str__(self):\n",
      "        return \"Maintaining %s primes in memory\" % len(self.primes)\n",
      "    \n",
      "    def __len__(self):\n",
      "        return len(self.primes)\n",
      "        \n"
     ],
     "language": "python",
     "metadata": {},
     "outputs": []
    },
    {
     "cell_type": "code",
     "collapsed": false,
     "input": [
      "p = Prime()\n",
      "def prime_set(num1, num2):\n",
      "    s1, s2 = str(num1), str(num2)\n",
      "    combo1 = int(s1 + s2)\n",
      "    if not p.is_prime(combo1):\n",
      "        return False\n",
      "    combo2 = int(s2 + s1)\n",
      "    if not p.is_prime(combo2):\n",
      "        return False\n",
      "    return True\n",
      "\n",
      "prime_set(3, 673)"
     ],
     "language": "python",
     "metadata": {},
     "outputs": []
    },
    {
     "cell_type": "code",
     "collapsed": false,
     "input": [
      "mappings = dict()\n",
      "gen = postponed_sieve()\n",
      "\n",
      "for _ in range(150):\n",
      "    next_prime = gen.next()\n",
      "    mappings[next_prime] = set()\n",
      "    for prime in mappings.iterkeys():\n",
      "        if prime_set(prime, next_prime):\n",
      "            mappings[next_prime].add(prime)\n",
      "len(mappings)\n"
     ],
     "language": "python",
     "metadata": {},
     "outputs": []
    },
    {
     "cell_type": "code",
     "collapsed": false,
     "input": [
      "import networkx as nx\n",
      "g = nx.Graph()\n",
      "for prime, pairs in sorted(mappings.iteritems()):\n",
      "    g.add_node(prime)\n",
      "    for pair in pairs:\n",
      "        g.add_edge(prime, pair)\n",
      "g"
     ],
     "language": "python",
     "metadata": {},
     "outputs": []
    },
    {
     "cell_type": "code",
     "collapsed": false,
     "input": [
      "nx.draw(g)"
     ],
     "language": "python",
     "metadata": {},
     "outputs": []
    },
    {
     "cell_type": "code",
     "collapsed": false,
     "input": [
      "nx.draw_circular(g)"
     ],
     "language": "python",
     "metadata": {},
     "outputs": []
    },
    {
     "cell_type": "code",
     "collapsed": false,
     "input": [
      "nx.draw_random(g)"
     ],
     "language": "python",
     "metadata": {},
     "outputs": []
    },
    {
     "cell_type": "code",
     "collapsed": false,
     "input": [
      "nx.draw_spectral(g)"
     ],
     "language": "python",
     "metadata": {},
     "outputs": []
    },
    {
     "cell_type": "code",
     "collapsed": false,
     "input": [
      "nx.draw_spring(g)"
     ],
     "language": "python",
     "metadata": {},
     "outputs": []
    },
    {
     "cell_type": "code",
     "collapsed": false,
     "input": [
      "nx.draw_shell(g)"
     ],
     "language": "python",
     "metadata": {},
     "outputs": []
    },
    {
     "cell_type": "code",
     "collapsed": false,
     "input": [
      "mappings[673]"
     ],
     "language": "python",
     "metadata": {},
     "outputs": []
    },
    {
     "cell_type": "code",
     "collapsed": false,
     "input": [
      "x = nx.cliques_containing_node(g, 673)\n",
      "x"
     ],
     "language": "python",
     "metadata": {},
     "outputs": []
    },
    {
     "cell_type": "code",
     "collapsed": false,
     "input": [
      "list(nx.find_cliques(g))"
     ],
     "language": "python",
     "metadata": {},
     "outputs": []
    },
    {
     "cell_type": "code",
     "collapsed": false,
     "input": [
      "nx.number_of_cliques(g, 673)"
     ],
     "language": "python",
     "metadata": {},
     "outputs": []
    },
    {
     "cell_type": "code",
     "collapsed": false,
     "input": [
      "g = nx.Graph()\n",
      "gen = postponed_sieve()\n",
      "primes = set()\n",
      "\n",
      "running = True\n",
      "while running:\n",
      "    next_prime = gen.next()\n",
      "    g.add_node(next_prime)\n",
      "    for prime in primes:\n",
      "        if prime_set(prime, next_prime):\n",
      "            g.add_edge(prime, next_prime)\n",
      "    primes.add(next_prime)\n",
      "    cliques = nx.cliques_containing_node(g, next_prime)\n",
      "    for clique in cliques:\n",
      "        if len(clique) == 5:\n",
      "            running = False\n",
      "            break\n",
      "next_prime, clique"
     ],
     "language": "python",
     "metadata": {},
     "outputs": []
    },
    {
     "cell_type": "code",
     "collapsed": false,
     "input": [
      "sum([13, 5701, 8389, 5197, 6733])"
     ],
     "language": "python",
     "metadata": {},
     "outputs": []
    },
    {
     "cell_type": "code",
     "collapsed": false,
     "input": [
      "nx.draw_networkx_nodes(g, 8389)"
     ],
     "language": "python",
     "metadata": {},
     "outputs": []
    },
    {
     "cell_type": "code",
     "collapsed": false,
     "input": [],
     "language": "python",
     "metadata": {},
     "outputs": []
    }
   ],
   "metadata": {}
  }
 ]
}