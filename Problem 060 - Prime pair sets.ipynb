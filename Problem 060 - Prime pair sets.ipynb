{
 "metadata": {
  "name": "Problem 060 - Prime pair sets"
 },
 "nbformat": 3,
 "nbformat_minor": 0,
 "worksheets": [
  {
   "cells": [
    {
     "cell_type": "markdown",
     "metadata": {},
     "source": [
      "Prime pair sets\n",
      "\n",
      "Problem 60\n",
      "\n",
      "The primes 3, 7, 109, and 673, are quite remarkable. By taking any two primes and concatenating them in any order the result will always be prime. For example, taking 7 and 109, both 7109 and 1097 are prime. The sum of these four primes, 792, represents the lowest sum for a set of four primes with this property.\n",
      "\n",
      "<font color=\"red\">Find the lowest sum for a set of five primes for which any two primes concatenate to produce another prime.</font>"
     ]
    },
    {
     "cell_type": "code",
     "collapsed": false,
     "input": [
      "import itertools"
     ],
     "language": "python",
     "metadata": {},
     "outputs": [],
     "prompt_number": 1
    },
    {
     "cell_type": "code",
     "collapsed": false,
     "input": [
      "primes = [3, 7, 109, 673]\n",
      "list(itertools.combinations(primes, 2))"
     ],
     "language": "python",
     "metadata": {},
     "outputs": [
      {
       "output_type": "pyout",
       "prompt_number": 3,
       "text": [
        "[(3, 7), (3, 109), (3, 673), (7, 109), (7, 673), (109, 673)]"
       ]
      }
     ],
     "prompt_number": 3
    },
    {
     "cell_type": "code",
     "collapsed": false,
     "input": [
      "#Code to use when generating through \"n primes\"\n",
      "def postponed_sieve():                   # postponed sieve, by Will Ness      \n",
      "    yield 2; yield 3; yield 5; yield 7;  # original code David Eppstein, \n",
      "    D = {}                               #            ActiveState Recipe 2002\n",
      "    ps = (p for p in postponed_sieve())  # a separate Primes Supply:\n",
      "    p = ps.next() and ps.next()          # (3) a Prime to add to dict\n",
      "    q = p*p                              # (9) when its sQuare is \n",
      "    c = 9                                # the next Candidate\n",
      "    while True:\n",
      "        if c not in D:                # not a multiple of any prime seen so far:\n",
      "            if c < q: yield c         #   a prime, or\n",
      "            else:   # (c==q):         #   the next prime's square:\n",
      "                add(D,c + 2*p,2*p)    #     (9+6,6 : 15,21,27,33,...)\n",
      "                p=ps.next()           #     (5)\n",
      "                q=p*p                 #     (25)\n",
      "        else:                         # 'c' is a composite:\n",
      "            s = D.pop(c)              #   step of increment\n",
      "            add(D,c + s,s)            #   next multiple, same step\n",
      "        c += 2                        # next odd candidate\n",
      "\n",
      "def add(D,x,s):                          # make no multiple keys in Dict\n",
      "    while x in D: x += s                 # increment by the given step\n",
      "    D[x] = s "
     ],
     "language": "python",
     "metadata": {},
     "outputs": [],
     "prompt_number": 4
    },
    {
     "cell_type": "code",
     "collapsed": false,
     "input": [
      "# I want to only generate primes when I need to (when the number I'm looking for is greater than the primes I've generated so far)\n",
      "\n",
      "class Prime:\n",
      "    sieve = postponed_sieve()\n",
      "    primes = set()\n",
      "    max_prime = 0\n",
      "    \n",
      "    def is_prime(self, n):\n",
      "        while n > self.max_prime:\n",
      "            next_prime = self.sieve.next()\n",
      "            self.primes.add(next_prime)\n",
      "            self.max_prime = next_prime\n",
      "                \n",
      "        if n in self.primes:\n",
      "            return True\n",
      "        else:\n",
      "            return False\n",
      "        \n",
      "    def __str__(self):\n",
      "        return \"Maintaining %s primes in memory\" % len(self.primes)\n",
      "    \n",
      "    def __len__(self):\n",
      "        return len(self.primes)\n",
      "        \n"
     ],
     "language": "python",
     "metadata": {},
     "outputs": [],
     "prompt_number": 5
    },
    {
     "cell_type": "code",
     "collapsed": false,
     "input": [
      "import itertools\n",
      "p = Prime()\n",
      "def prime_set(num1, num2):\n",
      "    combo1 = int(str(num1) + str(num2))\n",
      "    if not p.is_prime(combo1):\n",
      "        return False\n",
      "    combo2 = int(str(num2) + str(num1))\n",
      "    if not p.is_prime(combo2):\n",
      "        return False\n",
      "    return True\n",
      "\n",
      "prime_set(3, 7)"
     ],
     "language": "python",
     "metadata": {},
     "outputs": [
      {
       "output_type": "pyout",
       "prompt_number": 21,
       "text": [
        "True"
       ]
      }
     ],
     "prompt_number": 21
    },
    {
     "cell_type": "code",
     "collapsed": false,
     "input": [
      "gen = postponed_sieve()\n",
      "primes = set()\n",
      "primes.add(gen.next())\n",
      "primes"
     ],
     "language": "python",
     "metadata": {},
     "outputs": [
      {
       "output_type": "pyout",
       "prompt_number": 42,
       "text": [
        "set([2])"
       ]
      }
     ],
     "prompt_number": 42
    },
    {
     "cell_type": "code",
     "collapsed": false,
     "input": [
      "import collections\n",
      "mapping = collections.defaultdict(set)\n",
      "for _ in xrange(50):\n",
      "    next_prime = gen.next()\n",
      "    for prime in primes:\n",
      "        if prime_set(prime, next_prime):\n",
      "            mapping[prime].add(next_prime)\n",
      "            mapping[next_prime].add(prime)\n",
      "    primes.add(next_prime)\n",
      "sorted(mapping.items())"
     ],
     "language": "python",
     "metadata": {},
     "outputs": [
      {
       "output_type": "pyout",
       "prompt_number": 43,
       "text": [
        "[(3, set([191, 67, 37, 7, 73, 11, 109, 229, 17, 137, 59, 31])),\n",
        " (7, set([97, 3, 229, 109, 19, 61, 127])),\n",
        " (11, set([113, 3, 23])),\n",
        " (13, set([127, 19, 61, 103])),\n",
        " (17, set([83, 3])),\n",
        " (19, set([97, 163, 7, 13, 79, 181, 31])),\n",
        " (23, set([89, 11, 47])),\n",
        " (29, set([137, 167, 179, 71])),\n",
        " (31, set([19, 3, 139, 181, 151])),\n",
        " (37, set([67, 3, 199, 79])),\n",
        " (41, set([227])),\n",
        " (43, set([97, 223, 103])),\n",
        " (47, set([149, 23])),\n",
        " (53, set([113, 197])),\n",
        " (59, set([3, 197, 167])),\n",
        " (61, set([151, 13, 7])),\n",
        " (67, set([3, 139, 37, 157])),\n",
        " (71, set([233, 29])),\n",
        " (73, set([3])),\n",
        " (79, set([193, 19, 37])),\n",
        " (83, set([17, 227])),\n",
        " (89, set([137, 107, 23])),\n",
        " (97, set([43, 19, 157, 7])),\n",
        " (101, set([107, 149, 197])),\n",
        " (103, set([43, 13])),\n",
        " (107, set([89, 101])),\n",
        " (109, set([3, 139, 199, 7])),\n",
        " (113, set([227, 167, 233, 11, 131, 53, 149])),\n",
        " (127, set([157, 163, 13, 7])),\n",
        " (131, set([113])),\n",
        " (137, set([89, 197, 3, 29, 191])),\n",
        " (139, set([67, 109, 31])),\n",
        " (149, set([113, 101, 173, 47])),\n",
        " (151, set([163, 61, 31])),\n",
        " (157, set([229, 97, 67, 181, 127])),\n",
        " (163, set([127, 193, 19, 151])),\n",
        " (167, set([113, 59, 29])),\n",
        " (173, set([149, 191])),\n",
        " (179, set([29])),\n",
        " (181, set([193, 19, 157, 199, 31])),\n",
        " (191, set([137, 3, 173, 227])),\n",
        " (193, set([163, 181, 79])),\n",
        " (197, set([137, 59, 53, 101])),\n",
        " (199, set([211, 109, 37, 181])),\n",
        " (211, set([199])),\n",
        " (223, set([43, 229])),\n",
        " (227, set([41, 83, 191, 113])),\n",
        " (229, set([3, 157, 223, 7])),\n",
        " (233, set([113, 71]))]"
       ]
      }
     ],
     "prompt_number": 43
    },
    {
     "cell_type": "code",
     "collapsed": false,
     "input": [],
     "language": "python",
     "metadata": {},
     "outputs": []
    }
   ],
   "metadata": {}
  }
 ]
}