{
 "metadata": {
  "name": "Problem 026 - Reciprocal cycles"
 },
 "nbformat": 3,
 "nbformat_minor": 0,
 "worksheets": [
  {
   "cells": [
    {
     "cell_type": "markdown",
     "metadata": {},
     "source": [
      "Reciprocal cycles\n",
      "\n",
      "Problem 26\n",
      "\n",
      "A unit fraction contains 1 in the numerator. The decimal representation of the unit fractions with denominators 2 to 10 are given:\n",
      "\n",
      "1/2\t= \t0.5\n",
      "\n",
      "1/3\t= \t0.(3)\n",
      "\n",
      "1/4\t= \t0.25\n",
      "\n",
      "1/5\t= \t0.2\n",
      "\n",
      "1/6\t= \t0.1(6)\n",
      "\n",
      "1/7\t= \t0.(142857)\n",
      "\n",
      "1/8\t= \t0.125\n",
      "\n",
      "1/9\t= \t0.(1)\n",
      "\n",
      "1/10\t= \t0.1\n",
      "\n",
      "Where 0.1(6) means 0.166666..., and has a 1-digit recurring cycle. It can be seen that 1/7 has a 6-digit recurring cycle.\n",
      "\n",
      "<font color=\"red\"> Find the value of d  1000 for which 1/d contains the longest recurring cycle in its decimal fraction part. </font>"
     ]
    },
    {
     "cell_type": "code",
     "collapsed": false,
     "input": [
      "print('%.50f' % (1/7.0))"
     ],
     "language": "python",
     "metadata": {},
     "outputs": [
      {
       "output_type": "stream",
       "stream": "stdout",
       "text": [
        "0.14285714285714284921269268124888185411691665649414\n"
       ]
      }
     ],
     "prompt_number": 12
    },
    {
     "cell_type": "code",
     "collapsed": false,
     "input": [
      "10 ** 6 % 7"
     ],
     "language": "python",
     "metadata": {},
     "outputs": [
      {
       "output_type": "pyout",
       "prompt_number": 14,
       "text": [
        "1"
       ]
      }
     ],
     "prompt_number": 14
    },
    {
     "cell_type": "code",
     "collapsed": false,
     "input": [
      "t = 0\n",
      "n = 4\n",
      "for j in range(1, 10):\n",
      "    check = 10**j % n\n",
      "    print(check)\n",
      "    if check == 1:\n",
      "        t = j\n",
      "        print(t)\n",
      "        break"
     ],
     "language": "python",
     "metadata": {},
     "outputs": [
      {
       "output_type": "stream",
       "stream": "stdout",
       "text": [
        "2\n",
        "0\n",
        "0\n",
        "0\n",
        "0\n",
        "0\n",
        "0\n",
        "0\n",
        "0\n"
       ]
      }
     ],
     "prompt_number": 10
    },
    {
     "cell_type": "code",
     "collapsed": false,
     "input": [
      "def emily(n):\n",
      "    t = 0\n",
      "    for j in range(1,n):\n",
      "        check=(10**j)%n\n",
      "        if check==1:\n",
      "            t = j\n",
      "            break\n",
      "    return(t)"
     ],
     "language": "python",
     "metadata": {},
     "outputs": [],
     "prompt_number": 2
    },
    {
     "cell_type": "code",
     "collapsed": false,
     "input": [
      "max=6\n",
      "for n in range(7,1000):\n",
      "    newt = emily(n)\n",
      "    if newt > max:\n",
      "        max = newt\n",
      "        which = n\n",
      "print(which)"
     ],
     "language": "python",
     "metadata": {},
     "outputs": [
      {
       "output_type": "stream",
       "stream": "stdout",
       "text": [
        "983\n"
       ]
      }
     ],
     "prompt_number": 3
    },
    {
     "cell_type": "code",
     "collapsed": false,
     "input": [
      "emily(983)"
     ],
     "language": "python",
     "metadata": {},
     "outputs": [
      {
       "output_type": "pyout",
       "prompt_number": 4,
       "text": [
        "982"
       ]
      }
     ],
     "prompt_number": 4
    }
   ],
   "metadata": {}
  }
 ]
}