{
 "metadata": {
  "name": "Problem 004 - Largest Palindrome Product"
 },
 "nbformat": 3,
 "nbformat_minor": 0,
 "worksheets": [
  {
   "cells": [
    {
     "cell_type": "markdown",
     "metadata": {},
     "source": [
      "Largest palindrome product\n",
      "\n",
      "Problem 4\n",
      "\n",
      "A palindromic number reads the same both ways. The largest palindrome made from the product of two 2-digit numbers is 9009 = 91 99.\n",
      "\n",
      "<font color=\"red\">Find the largest palindrome made from the product of two 3-digit numbers.</font>"
     ]
    },
    {
     "cell_type": "code",
     "collapsed": false,
     "input": [
      "def is_palindromic(number):\n",
      "    number = str(number)\n",
      "    return number == number[::-1] \n",
      "\n",
      "print(is_palindromic(9009))\n",
      "print(is_palindromic(1234))"
     ],
     "language": "python",
     "metadata": {},
     "outputs": []
    },
    {
     "cell_type": "code",
     "collapsed": false,
     "input": [
      "products = sorted(set((x*y for x in xrange(100) for y in xrange(100))), reverse=True)\n",
      "print(len(products))\n",
      "print(products[0])"
     ],
     "language": "python",
     "metadata": {},
     "outputs": []
    },
    {
     "cell_type": "code",
     "collapsed": false,
     "input": [
      "for i, number in enumerate(products):\n",
      "    if is_palindromic(number):\n",
      "        print(\"I checked %s numbers before finding this palindrome - %s.  The work I do for you.\" % (i, number))\n",
      "        break"
     ],
     "language": "python",
     "metadata": {},
     "outputs": []
    },
    {
     "cell_type": "code",
     "collapsed": false,
     "input": [
      "products = sorted(set((x*y for x in xrange(1000) for y in xrange(1000))), reverse=True)\n",
      "print(\"There are %s unique products in the list.\" % len(products))\n",
      "print(\"The highest product is %s\" % products[0])\n",
      "print('\\n')\n",
      "for i, number in enumerate(products):\n",
      "    if is_palindromic(number):\n",
      "        print(\"I checked %s numbers before finding this palindrome - %s.  The work I do for you.\" % (i, number))\n",
      "        break"
     ],
     "language": "python",
     "metadata": {},
     "outputs": []
    }
   ],
   "metadata": {}
  }
 ]
}