{
 "metadata": {
  "name": "Problem 040 - Champernowne's constant"
 },
 "nbformat": 3,
 "nbformat_minor": 0,
 "worksheets": [
  {
   "cells": [
    {
     "cell_type": "markdown",
     "metadata": {},
     "source": [
      "Champernowne's constant\n",
      "\n",
      "Problem 40\n",
      "\n",
      "An irrational decimal fraction is created by concatenating the positive integers:\n",
      "\n",
      "0.123456789101112131415161718192021...\n",
      "\n",
      "It can be seen that the 12th digit of the fractional part is 1.\n",
      "\n",
      "<font color=\"red\">If d n represents the nth digit of the fractional part, find the value of the following expression.\n",
      "\n",
      "    d1 x d10 x d100 x d1000 x d10000 x d100000 x d1000000</font>"
     ]
    },
    {
     "cell_type": "code",
     "collapsed": false,
     "input": [
      "string = '.'\n",
      "for i in xrange(1, 21):\n",
      "    string += str(i)\n",
      "    \n",
      "print(string)\n",
      "string[12]"
     ],
     "language": "python",
     "metadata": {},
     "outputs": []
    },
    {
     "cell_type": "code",
     "collapsed": false,
     "input": [
      "string = '.'\n",
      "num = 1\n",
      "while len(string) < 1000001:\n",
      "    string += str(num)\n",
      "    num += 1\n",
      "\n",
      "answer = [int(string[10**i]) for i in range(7)]\n",
      "print(answer)\n",
      "product = 1\n",
      "for n in answer:\n",
      "    product = product * n\n",
      "product"
     ],
     "language": "python",
     "metadata": {},
     "outputs": []
    },
    {
     "cell_type": "code",
     "collapsed": false,
     "input": [],
     "language": "python",
     "metadata": {},
     "outputs": []
    }
   ],
   "metadata": {}
  }
 ]
}