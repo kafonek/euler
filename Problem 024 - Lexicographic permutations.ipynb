{
 "metadata": {
  "name": "Problem 024 - Lexicographic permutations"
 },
 "nbformat": 3,
 "nbformat_minor": 0,
 "worksheets": [
  {
   "cells": [
    {
     "cell_type": "markdown",
     "metadata": {},
     "source": [
      "Lexicographic permutations\n",
      "\n",
      "Problem 24\n",
      "\n",
      "A permutation is an ordered arrangement of objects. For example, 3124 is one possible permutation of the digits 1, 2, 3 and 4. If all of the permutations are listed numerically or alphabetically, we call it lexicographic order. The lexicographic permutations of 0, 1 and 2 are:\n",
      "\n",
      "012   021   102   120   201   210\n",
      "\n",
      "<font color=\"red\">What is the millionth lexicographic permutation of the digits 0, 1, 2, 3, 4, 5, 6, 7, 8 and 9?</font>"
     ]
    },
    {
     "cell_type": "code",
     "collapsed": false,
     "input": [
      "#Total number of permutations available for lexicographic permutations of 0-9\n",
      "import math\n",
      "math.factorial(10)"
     ],
     "language": "python",
     "metadata": {},
     "outputs": []
    },
    {
     "cell_type": "code",
     "collapsed": false,
     "input": [
      "import itertools\n",
      "itertools.permutations([0, 1, 2])"
     ],
     "language": "python",
     "metadata": {},
     "outputs": []
    },
    {
     "cell_type": "code",
     "collapsed": false,
     "input": [
      "for i in sorted(itertools.permutations([0, 1, 2])):\n",
      "    print(i)"
     ],
     "language": "python",
     "metadata": {},
     "outputs": []
    },
    {
     "cell_type": "code",
     "collapsed": false,
     "input": [
      "generator = itertools.permutations(range(10))\n",
      "for _ in xrange(999999):\n",
      "    generator.next()\n",
      "millionth = list(generator.next())\n",
      "print(int(''.join(str(c) for c in millionth)))"
     ],
     "language": "python",
     "metadata": {},
     "outputs": []
    }
   ],
   "metadata": {}
  }
 ]
}