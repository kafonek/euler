{
 "metadata": {
  "name": "Problem 007 - 10001st prime"
 },
 "nbformat": 3,
 "nbformat_minor": 0,
 "worksheets": [
  {
   "cells": [
    {
     "cell_type": "markdown",
     "metadata": {},
     "source": [
      "10001st prime\n",
      "\n",
      "Problem 7\n",
      "\n",
      "By listing the first six prime numbers: 2, 3, 5, 7, 11, and 13, we can see that the 6th prime is 13.\n",
      "\n",
      "<font color=\"red\">What is the 10 001st prime number?</font>"
     ]
    },
    {
     "cell_type": "markdown",
     "metadata": {},
     "source": [
      "Prime number generation is a common theme through the Project Euler problems, and this is the first problem to explicitly address generating prime numbers.  There is a great stack overflow thread on generating prime numbers most efficiently up to a specific number, and generating n prime numbers.\n",
      "\n",
      "http://stackoverflow.com/questions/2211990/how-to-implement-an-efficient-infinite-generator-of-prime-numbers-in-python\n",
      "\n",
      "This problem deals with the latter."
     ]
    },
    {
     "cell_type": "code",
     "collapsed": false,
     "input": [
      "#Code to use when generating primes through 'n'\n",
      "def primesfrom2to(n):\n",
      "    import numpy as np\n",
      "    # http://stackoverflow.com/questions/2068372/fastest-way-to-list-all-primes-below-n-in-python/3035188#3035188\n",
      "    \"\"\" Input n>=6, Returns a array of primes, 2 <= p < n \"\"\"\n",
      "    sieve = np.ones(n/3 + (n%6==2), dtype=np.bool)\n",
      "    sieve[0] = False\n",
      "    for i in xrange(int(n**0.5)/3+1):\n",
      "        if sieve[i]:\n",
      "            k=3*i+1|1\n",
      "            sieve[      ((k*k)/3)      ::2*k] = False\n",
      "            sieve[(k*k+4*k-2*k*(i&1))/3::2*k] = False\n",
      "    return np.r_[2,3,((3*np.nonzero(sieve)[0]+1)|1)]"
     ],
     "language": "python",
     "metadata": {},
     "outputs": []
    },
    {
     "cell_type": "code",
     "collapsed": false,
     "input": [
      "#Code to use when generating through \"n primes\"\n",
      "def postponed_sieve():                   # postponed sieve, by Will Ness      \n",
      "    yield 2; yield 3; yield 5; yield 7;  # original code David Eppstein, \n",
      "    D = {}                               #            ActiveState Recipe 2002\n",
      "    ps = (p for p in postponed_sieve())  # a separate Primes Supply:\n",
      "    p = ps.next() and ps.next()          # (3) a Prime to add to dict\n",
      "    q = p*p                              # (9) when its sQuare is \n",
      "    c = 9                                # the next Candidate\n",
      "    while True:\n",
      "        if c not in D:                # not a multiple of any prime seen so far:\n",
      "            if c < q: yield c         #   a prime, or\n",
      "            else:   # (c==q):         #   the next prime's square:\n",
      "                add(D,c + 2*p,2*p)    #     (9+6,6 : 15,21,27,33,...)\n",
      "                p=ps.next()           #     (5)\n",
      "                q=p*p                 #     (25)\n",
      "        else:                         # 'c' is a composite:\n",
      "            s = D.pop(c)              #   step of increment\n",
      "            add(D,c + s,s)            #   next multiple, same step\n",
      "        c += 2                        # next odd candidate\n",
      "\n",
      "def add(D,x,s):                          # make no multiple keys in Dict\n",
      "    while x in D: x += s                 # increment by the given step\n",
      "    D[x] = s "
     ],
     "language": "python",
     "metadata": {},
     "outputs": []
    },
    {
     "cell_type": "code",
     "collapsed": false,
     "input": [
      "p = postponed_sieve()\n",
      "for i, _ in enumerate(range(10)):\n",
      "    print(i+1, p.next())"
     ],
     "language": "python",
     "metadata": {},
     "outputs": []
    },
    {
     "cell_type": "code",
     "collapsed": false,
     "input": [
      "p = postponed_sieve()\n",
      "for _ in xrange(10000):\n",
      "    p.next()\n",
      "    #go through the first 10,000 primes.  The next prime will be the 10,001st\n",
      "print(p.next())"
     ],
     "language": "python",
     "metadata": {},
     "outputs": []
    },
    {
     "cell_type": "code",
     "collapsed": false,
     "input": [],
     "language": "python",
     "metadata": {},
     "outputs": []
    }
   ],
   "metadata": {}
  }
 ]
}