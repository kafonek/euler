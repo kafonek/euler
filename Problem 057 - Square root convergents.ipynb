{
 "metadata": {
  "name": "Problem 057 - Square root convergents"
 },
 "nbformat": 3,
 "nbformat_minor": 0,
 "worksheets": [
  {
   "cells": [
    {
     "cell_type": "markdown",
     "metadata": {},
     "source": [
      "Square root convergents\n",
      "\n",
      "Problem 57\n",
      "\n",
      "It is possible to show that the square root of two can be expressed as an infinite continued fraction.\n",
      "\n",
      " sqrt(2) = 1 + 1/(2 + 1/(2 + 1/(2 + ... ))) = 1.414213...\n",
      "\n",
      "By expanding this for the first four iterations, we get:\n",
      "\n",
      "1 + 1/2 = 3/2 = 1.5\n",
      "\n",
      "1 + 1/(2 + 1/2) = 7/5 = 1.4\n",
      "\n",
      "1 + 1/(2 + 1/(2 + 1/2)) = 17/12 = 1.41666...\n",
      "\n",
      "1 + 1/(2 + 1/(2 + 1/(2 + 1/2))) = 41/29 = 1.41379...\n",
      "\n",
      "The next three expansions are 99/70, 239/169, and 577/408, but the eighth expansion, 1393/985, is the first example where the number of digits in the numerator exceeds the number of digits in the denominator.\n",
      "\n",
      "<font color=\"red\">In the first one-thousand expansions, how many fractions contain a numerator with more digits than denominator?</font>"
     ]
    },
    {
     "cell_type": "code",
     "collapsed": false,
     "input": [
      "def gen_digits():\n",
      "    numerator = 1\n",
      "    denominator = 1\n",
      "    while True:\n",
      "        new_denominator = numerator + denominator\n",
      "        new_numerator = new_denominator + denominator\n",
      "        yield (new_numerator, new_denominator)\n",
      "        numerator = new_numerator\n",
      "        denominator = new_denominator\n",
      "\n",
      "g = gen_digits()\n",
      "for _ in range(10):\n",
      "    print(g.next())"
     ],
     "language": "python",
     "metadata": {},
     "outputs": []
    },
    {
     "cell_type": "code",
     "collapsed": false,
     "input": [
      "g = gen_digits()\n",
      "answer = 0\n",
      "for _ in range(1000):\n",
      "    n, d = g.next()\n",
      "    if len(str(n)) > len(str(d)):\n",
      "        answer += 1\n",
      "answer"
     ],
     "language": "python",
     "metadata": {},
     "outputs": []
    },
    {
     "cell_type": "code",
     "collapsed": false,
     "input": [],
     "language": "python",
     "metadata": {},
     "outputs": []
    }
   ],
   "metadata": {}
  }
 ]
}