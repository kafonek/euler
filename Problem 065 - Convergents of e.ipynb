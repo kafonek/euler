{
 "metadata": {
  "name": "Problem 065 - Convergents of e"
 },
 "nbformat": 3,
 "nbformat_minor": 0,
 "worksheets": [
  {
   "cells": [
    {
     "cell_type": "markdown",
     "metadata": {},
     "source": [
      "Similar to problem 64, this one is hard to copy/paste.  Check out the full problem, http://projecteuler.net/problem=65\n",
      "\n",
      "The first ten terms in the sequence of convergents for e are:\n",
      "\n",
      "2, 3, 8/3, 11/4, 19/7, 87/32, 106/39, 193/71, 1264/465, 1457/536, ...\n",
      "\n",
      "The sum of digits in the numerator of the 10th convergent is 1+4+5+7=17.\n",
      "\n",
      "<font color='red'>Find the sum of digits in the numerator of the 100th convergent of the continued fraction for e.</font>"
     ]
    },
    {
     "cell_type": "code",
     "collapsed": false,
     "input": [
      "def e_modifier():\n",
      "    'yield [2; 1,2,1, 1,4,1, 1,6,1 , ... , 1,2k,1, ...]'\n",
      "    yield 2\n",
      "    counter = 1\n",
      "    special = 2\n",
      "    while True:\n",
      "        counter += 1\n",
      "        if counter % 3 == 0:\n",
      "            yield special\n",
      "            special += 2\n",
      "        else:\n",
      "            yield 1\n",
      "        \n",
      "eg = e_modifier()\n",
      "for i in xrange(10):\n",
      "    print(eg.next())\n"
     ],
     "language": "python",
     "metadata": {},
     "outputs": []
    },
    {
     "cell_type": "code",
     "collapsed": false,
     "input": [
      "def e_refinement():\n",
      "    num2 = 0\n",
      "    num1 = 1\n",
      "    denominator2 = 0\n",
      "    denominator1 = 1\n",
      "    efg = e_modifier()\n",
      "    while True:\n",
      "        modifier = efg.next()\n",
      "        current_numerator = modifier * num1 + num2\n",
      "        yield current_numerator, denominator\n",
      "        num2 = num1\n",
      "        num1 = current_numerator\n",
      "        "
     ],
     "language": "python",
     "metadata": {},
     "outputs": []
    },
    {
     "cell_type": "code",
     "collapsed": false,
     "input": [
      "e = e_refinement()\n",
      "for i in range(10):\n",
      "    print(e.next())"
     ],
     "language": "python",
     "metadata": {},
     "outputs": []
    },
    {
     "cell_type": "code",
     "collapsed": false,
     "input": [
      "e = e_refinement()\n",
      "for _ in xrange(99):\n",
      "    e.next()\n",
      "numerator, denominator = e.next()\n",
      "sum([int(char) for char in str(numerator)])"
     ],
     "language": "python",
     "metadata": {},
     "outputs": []
    },
    {
     "cell_type": "code",
     "collapsed": false,
     "input": [
      "import fractions\n",
      "fractions.Fraction((1 + (1.0/3)) ** 3).limit_denominator()"
     ],
     "language": "python",
     "metadata": {},
     "outputs": []
    },
    {
     "cell_type": "code",
     "collapsed": false,
     "input": [
      "import math\n",
      "math.e"
     ],
     "language": "python",
     "metadata": {},
     "outputs": []
    },
    {
     "cell_type": "code",
     "collapsed": false,
     "input": [
      "f = fractions.Fraction(1 + (1.0/3)).limit_denominator()\n",
      "f"
     ],
     "language": "python",
     "metadata": {},
     "outputs": []
    },
    {
     "cell_type": "code",
     "collapsed": false,
     "input": [
      "f * f"
     ],
     "language": "python",
     "metadata": {},
     "outputs": []
    },
    {
     "cell_type": "code",
     "collapsed": false,
     "input": [
      "f"
     ],
     "language": "python",
     "metadata": {},
     "outputs": []
    },
    {
     "cell_type": "code",
     "collapsed": false,
     "input": [
      "%%timeit\n",
      "reversed(xrange(10**6))"
     ],
     "language": "python",
     "metadata": {},
     "outputs": []
    },
    {
     "cell_type": "code",
     "collapsed": false,
     "input": [
      "%%timeit\n",
      "xrange(10**6, 0, -1)"
     ],
     "language": "python",
     "metadata": {},
     "outputs": []
    },
    {
     "cell_type": "code",
     "collapsed": false,
     "input": [
      "for i in xrange(5, 0, -1):\n",
      "    print(i)"
     ],
     "language": "python",
     "metadata": {},
     "outputs": []
    },
    {
     "cell_type": "code",
     "collapsed": false,
     "input": [],
     "language": "python",
     "metadata": {},
     "outputs": []
    }
   ],
   "metadata": {}
  }
 ]
}