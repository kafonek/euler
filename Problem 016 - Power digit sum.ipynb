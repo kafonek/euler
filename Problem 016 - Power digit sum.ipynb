{
 "metadata": {
  "name": "Problem 016 - Power digit sum"
 },
 "nbformat": 3,
 "nbformat_minor": 0,
 "worksheets": [
  {
   "cells": [
    {
     "cell_type": "markdown",
     "metadata": {},
     "source": [
      "Power digit sum\n",
      "\n",
      "Problem 16\n",
      "\n",
      "2^15 = 32768 and the sum of its digits is 3 + 2 + 7 + 6 + 8 = 26.\n",
      "\n",
      "<font color=\"red\">What is the sum of the digits of the number 2^1000?</font>"
     ]
    },
    {
     "cell_type": "code",
     "collapsed": false,
     "input": [
      "#so simple in Python.\n",
      "def power_digit_sum(n):\n",
      "    return sum([int(c) for c in str(2**n)])\n",
      "\n",
      "power_digit_sum(15)"
     ],
     "language": "python",
     "metadata": {},
     "outputs": []
    },
    {
     "cell_type": "code",
     "collapsed": false,
     "input": [
      "power_digit_sum(1000)"
     ],
     "language": "python",
     "metadata": {},
     "outputs": []
    }
   ],
   "metadata": {}
  }
 ]
}