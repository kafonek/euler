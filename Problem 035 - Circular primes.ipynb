{
 "metadata": {
  "name": "Problem 035 - Circular primes"
 },
 "nbformat": 3,
 "nbformat_minor": 0,
 "worksheets": [
  {
   "cells": [
    {
     "cell_type": "markdown",
     "metadata": {},
     "source": [
      "Circular primes\n",
      "\n",
      "Problem 35\n",
      "\n",
      "The number, 197, is called a circular prime because all rotations of the digits: 197, 971, and 719, are themselves prime.\n",
      "\n",
      "<font color=\"red\">There are thirteen such primes below 100: 2, 3, 5, 7, 11, 13, 17, 31, 37, 71, 73, 79, and 97.</font>\n",
      "\n",
      "How many circular primes are there below one million?"
     ]
    },
    {
     "cell_type": "code",
     "collapsed": false,
     "input": [
      "#Code to use when generating through \"n primes\"\n",
      "def postponed_sieve():                   # postponed sieve, by Will Ness      \n",
      "    yield 2; yield 3; yield 5; yield 7;  # original code David Eppstein, \n",
      "    D = {}                               #            ActiveState Recipe 2002\n",
      "    ps = (p for p in postponed_sieve())  # a separate Primes Supply:\n",
      "    p = ps.next() and ps.next()          # (3) a Prime to add to dict\n",
      "    q = p*p                              # (9) when its sQuare is \n",
      "    c = 9                                # the next Candidate\n",
      "    while True:\n",
      "        if c not in D:                # not a multiple of any prime seen so far:\n",
      "            if c < q: yield c         #   a prime, or\n",
      "            else:   # (c==q):         #   the next prime's square:\n",
      "                add(D,c + 2*p,2*p)    #     (9+6,6 : 15,21,27,33,...)\n",
      "                p=ps.next()           #     (5)\n",
      "                q=p*p                 #     (25)\n",
      "        else:                         # 'c' is a composite:\n",
      "            s = D.pop(c)              #   step of increment\n",
      "            add(D,c + s,s)            #   next multiple, same step\n",
      "        c += 2                        # next odd candidate\n",
      "\n",
      "def add(D,x,s):                          # make no multiple keys in Dict\n",
      "    while x in D: x += s                 # increment by the given step\n",
      "    D[x] = s "
     ],
     "language": "python",
     "metadata": {},
     "outputs": []
    },
    {
     "cell_type": "code",
     "collapsed": false,
     "input": [
      "def gen_primes(n):\n",
      "    'return set of primes below n'\n",
      "    sieve = postponed_sieve()\n",
      "    primes = set()\n",
      "    p = 0\n",
      "    while p < n:\n",
      "        p = sieve.next()\n",
      "        primes.add(p)\n",
      "    return primes\n",
      "len(gen_primes(100))"
     ],
     "language": "python",
     "metadata": {},
     "outputs": []
    },
    {
     "cell_type": "code",
     "collapsed": false,
     "input": [
      "%%timeit\n",
      "primes = gen_primes(100)\n",
      "def circular(n):\n",
      "    string = str(n)\n",
      "    permutations = []\n",
      "    for _ in range(len(string)):\n",
      "        num = int(string)\n",
      "        if num not in primes:\n",
      "            return False\n",
      "        permutations.append(num)\n",
      "        string = string[1:] + string[0]\n",
      "        \n",
      "    return True\n",
      "\n",
      "circular(79)\n",
      "    "
     ],
     "language": "python",
     "metadata": {},
     "outputs": []
    },
    {
     "cell_type": "code",
     "collapsed": false,
     "input": [
      "primes = gen_primes(1000000)\n",
      "results = [num for num in primes if circular(num)]\n",
      "        \n",
      "len(results)"
     ],
     "language": "python",
     "metadata": {},
     "outputs": []
    }
   ],
   "metadata": {}
  }
 ]
}