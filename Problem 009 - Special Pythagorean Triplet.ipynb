{
 "metadata": {
  "name": "Problem 009 - Special Pythagorean Triplet"
 },
 "nbformat": 3,
 "nbformat_minor": 0,
 "worksheets": [
  {
   "cells": [
    {
     "cell_type": "markdown",
     "metadata": {},
     "source": [
      "Special Pythagorean triplet\n",
      "\n",
      "Problem 9\n",
      "\n",
      "A Pythagorean triplet is a set of three natural numbers, a  b  c, for which,\n",
      "\n",
      "a^2 + b^2 = c^2\n",
      "\n",
      "For example, 3^2 + 4^2 = 9 + 16 = 25 = 5^2.\n",
      "\n",
      "<font color=\"red\">\n",
      "There exists exactly one Pythagorean triplet for which a + b + c = 1000.\n",
      "\n",
      "Find the product abc.\n",
      "</font>"
     ]
    },
    {
     "cell_type": "code",
     "collapsed": false,
     "input": [
      "def is_pythagorean(a, b, c):\n",
      "    return a**2 + b**2 == c**2\n",
      "\n",
      "is_pythagorean(3, 4, 5)"
     ],
     "language": "python",
     "metadata": {},
     "outputs": []
    },
    {
     "cell_type": "code",
     "collapsed": false,
     "input": [
      "for a in xrange(1, 6):\n",
      "    for b in xrange(1, 6):\n",
      "        c = 12 - (a + b)\n",
      "        if is_pythagorean(a, b, c):\n",
      "            print(a, b, c)\n",
      "            print(a*b*c)\n",
      "            break\n",
      "        "
     ],
     "language": "python",
     "metadata": {},
     "outputs": []
    },
    {
     "cell_type": "code",
     "collapsed": false,
     "input": [
      "for a in xrange(1, 500):\n",
      "    for b in xrange(1, 500):\n",
      "        c = 1000 - (a + b)\n",
      "        if is_pythagorean(a, b, c):\n",
      "            print(a, b, c)\n",
      "            print(a*b*c)\n",
      "            break\n",
      "        "
     ],
     "language": "python",
     "metadata": {},
     "outputs": []
    },
    {
     "cell_type": "code",
     "collapsed": false,
     "input": [],
     "language": "python",
     "metadata": {},
     "outputs": []
    }
   ],
   "metadata": {}
  }
 ]
}