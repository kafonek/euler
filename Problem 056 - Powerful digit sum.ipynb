{
 "metadata": {
  "name": "Problem 056 - Powerful digit sum"
 },
 "nbformat": 3,
 "nbformat_minor": 0,
 "worksheets": [
  {
   "cells": [
    {
     "cell_type": "markdown",
     "metadata": {},
     "source": [
      "Powerful digit sum\n",
      "\n",
      "Problem 56\n",
      "\n",
      "A googol (10^100) is a massive number: one followed by one-hundred zeros; 100^100 is almost unimaginably large: one followed by two-hundred zeros. Despite their size, the sum of the digits in each number is only 1.\n",
      "\n",
      "<font color=\"red\">Considering natural numbers of the form, a^b, where a, b < 100, what is the maximum digital sum?</font>"
     ]
    },
    {
     "cell_type": "code",
     "collapsed": false,
     "input": [
      "def sum_of_digits(a, b):\n",
      "    num = a ** b\n",
      "    return sum([int(c) for c in str(num)])\n",
      "\n",
      "sum_of_digits(10, 100)"
     ],
     "language": "python",
     "metadata": {},
     "outputs": [
      {
       "output_type": "pyout",
       "prompt_number": 1,
       "text": [
        "1"
       ]
      }
     ],
     "prompt_number": 1
    },
    {
     "cell_type": "code",
     "collapsed": false,
     "input": [
      "answer = 0\n",
      "for a in xrange(100):\n",
      "    for b in xrange(100):\n",
      "        summed = sum_of_digits(a, b)\n",
      "        if summed > answer:\n",
      "            answer = summed\n",
      "            \n",
      "answer"
     ],
     "language": "python",
     "metadata": {},
     "outputs": [
      {
       "output_type": "pyout",
       "prompt_number": 2,
       "text": [
        "972"
       ]
      }
     ],
     "prompt_number": 2
    },
    {
     "cell_type": "code",
     "collapsed": false,
     "input": [
      "string = 'mrkafon'\n",
      "for index, character in enumerate(string):\n",
      "    print(index, character)"
     ],
     "language": "python",
     "metadata": {},
     "outputs": [
      {
       "output_type": "stream",
       "stream": "stdout",
       "text": [
        "(0, 'm')\n",
        "(1, 'r')\n",
        "(2, 'k')\n",
        "(3, 'a')\n",
        "(4, 'f')\n",
        "(5, 'o')\n",
        "(6, 'n')\n"
       ]
      }
     ],
     "prompt_number": 3
    },
    {
     "cell_type": "code",
     "collapsed": false,
     "input": [],
     "language": "python",
     "metadata": {},
     "outputs": []
    }
   ],
   "metadata": {}
  }
 ]
}