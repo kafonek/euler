{
 "metadata": {
  "name": "Problem 049 - Prime permutations"
 },
 "nbformat": 3,
 "nbformat_minor": 0,
 "worksheets": [
  {
   "cells": [
    {
     "cell_type": "markdown",
     "metadata": {},
     "source": [
      "Prime permutations\n",
      "\n",
      "Problem 49\n",
      "\n",
      "The arithmetic sequence, 1487, 4817, 8147, in which each of the terms increases by 3330, is unusual in two ways: (i) each of the three terms are prime, and, (ii) each of the 4-digit numbers are permutations of one another.\n",
      "\n",
      "There are no arithmetic sequences made up of three 1-, 2-, or 3-digit primes, exhibiting this property, but there is one other 4-digit increasing sequence.\n",
      "\n",
      "<font color=\"red\">What 12-digit number do you form by concatenating the three terms in this sequence?</font>"
     ]
    },
    {
     "cell_type": "code",
     "collapsed": false,
     "input": [
      "#Code to use when generating through \"n primes\"\n",
      "def postponed_sieve():                   # postponed sieve, by Will Ness      \n",
      "    yield 2; yield 3; yield 5; yield 7;  # original code David Eppstein, \n",
      "    D = {}                               #            ActiveState Recipe 2002\n",
      "    ps = (p for p in postponed_sieve())  # a separate Primes Supply:\n",
      "    p = ps.next() and ps.next()          # (3) a Prime to add to dict\n",
      "    q = p*p                              # (9) when its sQuare is \n",
      "    c = 9                                # the next Candidate\n",
      "    while True:\n",
      "        if c not in D:                # not a multiple of any prime seen so far:\n",
      "            if c < q: yield c         #   a prime, or\n",
      "            else:   # (c==q):         #   the next prime's square:\n",
      "                add(D,c + 2*p,2*p)    #     (9+6,6 : 15,21,27,33,...)\n",
      "                p=ps.next()           #     (5)\n",
      "                q=p*p                 #     (25)\n",
      "        else:                         # 'c' is a composite:\n",
      "            s = D.pop(c)              #   step of increment\n",
      "            add(D,c + s,s)            #   next multiple, same step\n",
      "        c += 2                        # next odd candidate\n",
      "\n",
      "def add(D,x,s):                          # make no multiple keys in Dict\n",
      "    while x in D: x += s                 # increment by the given step\n",
      "    D[x] = s "
     ],
     "language": "python",
     "metadata": {},
     "outputs": []
    },
    {
     "cell_type": "code",
     "collapsed": false,
     "input": [
      "p = postponed_sieve()\n",
      "primes = set()\n",
      "while True:\n",
      "    next_prime = p.next()\n",
      "    if next_prime > 9999:\n",
      "        break\n",
      "    if next_prime > 999:\n",
      "        primes.add(next_prime)\n",
      "\n",
      "lst = sorted(primes)        \n",
      "print( len(lst), lst[0], lst[-1] )"
     ],
     "language": "python",
     "metadata": {},
     "outputs": []
    },
    {
     "cell_type": "code",
     "collapsed": false,
     "input": [
      "import itertools\n",
      "def prime_permutations(n):\n",
      "    perms = [int(''.join(s)) for s in itertools.permutations(str(n))]\n",
      "    return sorted(set([num for num in perms if num > 1000 and num in primes]))\n",
      "\n",
      "prime_permutations(1009)"
     ],
     "language": "python",
     "metadata": {},
     "outputs": []
    },
    {
     "cell_type": "code",
     "collapsed": false,
     "input": [
      "for num in primes:\n",
      "    perms = prime_permutations(num)\n",
      "    if len(perms) == 3:\n",
      "        if perms[1] - perms[0] == perms[2] - perms[1]:\n",
      "            print(perms)"
     ],
     "language": "python",
     "metadata": {},
     "outputs": []
    },
    {
     "cell_type": "code",
     "collapsed": false,
     "input": [
      "prime_permutations(4817)"
     ],
     "language": "python",
     "metadata": {},
     "outputs": []
    },
    {
     "cell_type": "code",
     "collapsed": false,
     "input": [
      "import collections\n",
      "perms = itertools.combinations(prime_permutations(4817), 2)\n",
      "counts = collections.defaultdict(set)\n",
      "for p in perms:\n",
      "    diff = abs(p[0] - p[1])\n",
      "    counts[diff].add(p[0])\n",
      "    counts[diff].add(p[1])\n",
      "counts"
     ],
     "language": "python",
     "metadata": {},
     "outputs": []
    },
    {
     "cell_type": "code",
     "collapsed": false,
     "input": [
      "def prime_combos(n):\n",
      "    perms = itertools.combinations(prime_permutations(n), 2)\n",
      "    counts = collections.defaultdict(set)\n",
      "    for p in perms:\n",
      "        diff = abs(p[0] - p[1])\n",
      "        counts[diff].add(p[0])\n",
      "        counts[diff].add(p[1])\n",
      "    answer = [sorted(count) for count in counts.values() if len(count) == 3]\n",
      "    if answer:\n",
      "        nums = sorted(answer[0])\n",
      "        diff = nums[1] - nums[0]\n",
      "        answer = ''.join([str(n) for n in nums]) + str(diff)\n",
      "        return answer\n",
      "\n",
      "prime_combos(4817)"
     ],
     "language": "python",
     "metadata": {},
     "outputs": []
    },
    {
     "cell_type": "code",
     "collapsed": false,
     "input": [
      "for p in primes:\n",
      "    answer = prime_combos(p)\n",
      "    if answer:\n",
      "        print(answer)"
     ],
     "language": "python",
     "metadata": {},
     "outputs": []
    },
    {
     "cell_type": "code",
     "collapsed": false,
     "input": [
      "2969 + 3330"
     ],
     "language": "python",
     "metadata": {},
     "outputs": []
    },
    {
     "cell_type": "code",
     "collapsed": false,
     "input": [
      "6299 + 3330"
     ],
     "language": "python",
     "metadata": {},
     "outputs": []
    },
    {
     "cell_type": "code",
     "collapsed": false,
     "input": [],
     "language": "python",
     "metadata": {},
     "outputs": []
    }
   ],
   "metadata": {}
  }
 ]
}