{
 "metadata": {
  "name": "Problem 052 - Permuted multiples"
 },
 "nbformat": 3,
 "nbformat_minor": 0,
 "worksheets": [
  {
   "cells": [
    {
     "cell_type": "markdown",
     "metadata": {},
     "source": [
      "Permuted multiples\n",
      "\n",
      "Problem 52\n",
      "\n",
      "It can be seen that the number, 125874, and its double, 251748, contain exactly the same digits, but in a different order.\n",
      "\n",
      "<font color=\"red\">Find the smallest positive integer, x, such that 2x, 3x, 4x, 5x, and 6x, contain the same digits.</font>"
     ]
    },
    {
     "cell_type": "code",
     "collapsed": false,
     "input": [
      "def permuted(n):\n",
      "    stringized = sorted(str(n))\n",
      "    doubled = sorted(str(n*2))\n",
      "    return stringized == doubled\n",
      "\n",
      "print(permuted(125874))\n",
      "print(permuted(123456))"
     ],
     "language": "python",
     "metadata": {},
     "outputs": []
    },
    {
     "cell_type": "code",
     "collapsed": false,
     "input": [
      "def permuted(n):\n",
      "    stringized = sorted(str(n))\n",
      "    for i in range(2, 7):\n",
      "        if sorted(str(n*i)) != stringized:\n",
      "            return False\n",
      "    return True\n",
      "\n",
      "permuted(125874)"
     ],
     "language": "python",
     "metadata": {},
     "outputs": []
    },
    {
     "cell_type": "code",
     "collapsed": false,
     "input": [
      "current = 1\n",
      "while not permuted(current):\n",
      "    current +=1\n",
      "    \n",
      "current"
     ],
     "language": "python",
     "metadata": {},
     "outputs": []
    },
    {
     "cell_type": "code",
     "collapsed": false,
     "input": [],
     "language": "python",
     "metadata": {},
     "outputs": []
    }
   ],
   "metadata": {}
  }
 ]
}