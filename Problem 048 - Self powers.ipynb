{
 "metadata": {
  "name": "Problem 048 - Self powers"
 },
 "nbformat": 3,
 "nbformat_minor": 0,
 "worksheets": [
  {
   "cells": [
    {
     "cell_type": "markdown",
     "metadata": {},
     "source": [
      "Self powers\n",
      "\n",
      "Problem 48\n",
      "\n",
      "The series, 1^1 + 2^2 + 3^3 + ... + 10^10 = 10405071317.\n",
      "\n",
      "<font color=\"red\">Find the last ten digits of the series, 1^1 + 2^2 + 3^3 + ... + 1000^1000.</font>"
     ]
    },
    {
     "cell_type": "code",
     "collapsed": false,
     "input": [
      "answer = 0\n",
      "for i in xrange(1, 1001):\n",
      "    answer += i**i\n",
      "print(str(answer)[-10:])"
     ],
     "language": "python",
     "metadata": {},
     "outputs": []
    },
    {
     "cell_type": "code",
     "collapsed": false,
     "input": [],
     "language": "python",
     "metadata": {},
     "outputs": []
    }
   ],
   "metadata": {}
  }
 ]
}