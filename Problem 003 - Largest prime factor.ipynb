{
 "metadata": {
  "name": "Problem 003 - Largest prime factor"
 },
 "nbformat": 3,
 "nbformat_minor": 0,
 "worksheets": [
  {
   "cells": [
    {
     "cell_type": "markdown",
     "metadata": {},
     "source": [
      "Largest prime factor\n",
      "\n",
      "Problem 3\n",
      "\n",
      "The prime factors of 13195 are 5, 7, 13 and 29.\n",
      "\n",
      "<font color=\"red\">What is the largest prime factor of the number 600851475143 ?</font>"
     ]
    },
    {
     "cell_type": "markdown",
     "metadata": {},
     "source": [
      "The key to this problem is to find an effective function to quickly find factors of a number.  There is a great discussion on <a href=\"http://stackoverflow.com/questions/6800193/what-is-the-most-efficient-way-of-finding-all-the-factors-of-a-number-in-python\">finding factors over at stackoverflow</a>\n",
      "\n",
      "I've developed my own implementation based on some of the strategies they talk about there - "
     ]
    },
    {
     "cell_type": "code",
     "collapsed": false,
     "input": [
      "def find_factors(n):\n",
      "    import math\n",
      "    results = set()\n",
      "    for i in xrange(2, int(math.sqrt(n)) + 1):\n",
      "        if n % i == 0:\n",
      "            results.add(n / i)\n",
      "            results.add(i)\n",
      "    return results"
     ],
     "language": "python",
     "metadata": {},
     "outputs": []
    },
    {
     "cell_type": "code",
     "collapsed": false,
     "input": [
      "for i in [6, 10, 50, 100, 1000, 123456789]:\n",
      "    factors = find_factors(i)\n",
      "    print(i, len(factors), max(factors))"
     ],
     "language": "python",
     "metadata": {},
     "outputs": []
    },
    {
     "cell_type": "code",
     "collapsed": false,
     "input": [
      "find_factors(600851475143)"
     ],
     "language": "python",
     "metadata": {},
     "outputs": []
    },
    {
     "cell_type": "code",
     "collapsed": false,
     "input": [
      "factors = sorted(find_factors(600851475143), reverse=True)\n",
      "for num in factors:\n",
      "    if not find_factors(num):\n",
      "        print(\"%s is the largest prime factor of 600851475143\" % num)\n",
      "        break"
     ],
     "language": "python",
     "metadata": {},
     "outputs": []
    }
   ],
   "metadata": {}
  }
 ]
}