{
 "metadata": {
  "name": "Problem 039 - Integer right triangles"
 },
 "nbformat": 3,
 "nbformat_minor": 0,
 "worksheets": [
  {
   "cells": [
    {
     "cell_type": "markdown",
     "metadata": {},
     "source": [
      "Integer right triangles\n",
      "\n",
      "Problem 39\n",
      "\n",
      "If p is the perimeter of a right angle triangle with integral length sides, {a,b,c}, there are exactly three solutions for p = 120.\n",
      "\n",
      "{20,48,52}, {24,45,51}, {30,40,50}\n",
      "\n",
      "<font color=\"red\">For which value of p <= 1000, is the number of solutions maximised?</font>"
     ]
    },
    {
     "cell_type": "code",
     "collapsed": false,
     "input": [
      "import math"
     ],
     "language": "python",
     "metadata": {},
     "outputs": []
    },
    {
     "cell_type": "code",
     "collapsed": false,
     "input": [
      "def solve(perimeter, a):\n",
      "    \"\"\" Given:\n",
      "        1) a + b + c = perimeter\n",
      "        2) a**2 + b**2 = c**2\n",
      "    \n",
      "        Return (a, b, c) if c is an integer\n",
      "    \"\"\"\n",
      "    #c = perimeter - a - b\n",
      "    #b**2 = c**2 - a**2\n",
      "    #b**2 = (perimeter - a - b)**2 - a**2\n",
      "    #b**2 = (perimeter - a - b) * (perimeter - a - b) - a**2\n",
      "    #b**2 = perimeter** 2 - a*perimeter - b*perimeter - a*perimeter + a**2 + ab - b*perimeter + ab + b**2 - a**2\n",
      "    #b**2 = perimeter**2 - 2*a*perimeter - 2*b*perimeter = 2*a*b + b**2\n",
      "    #b**2 = perimeter**2 - 2*a*perimeter - 2*b*perimeter + 2*a*b + a**2 + b**2 - a**2\n",
      "    #b**2 = perimeter**2 - 2*a*perimeter - 2*b*perimeter + 2*a*b + b**2\n",
      "    #2*b*perimeter - 2*a*b = perimeter**2 - 2*a*perimeter\n",
      "    #b*(2*perimeter - 2*a) = perimeter**2 - 2*a*perimeter\n",
      "    b = (perimeter**2 - 2*a*perimeter) / (2*perimeter - 2*a)\n",
      "    c = math.hypot(a, b)\n",
      "    if c.is_integer():\n",
      "        c = int(c)\n",
      "        return (a, b, c)\n",
      "    else:\n",
      "        return None\n",
      "    \n",
      "\n",
      "solve(120, 30)"
     ],
     "language": "python",
     "metadata": {},
     "outputs": []
    },
    {
     "cell_type": "code",
     "collapsed": false,
     "input": [
      "def permutations(n):\n",
      "    results = []\n",
      "    for i in xrange(1, int(n/3) - 1):\n",
      "        solutions = solve(n, i)\n",
      "        if solutions:\n",
      "            results.append(solutions)\n",
      "    return results\n",
      "\n",
      "permutations(120)"
     ],
     "language": "python",
     "metadata": {},
     "outputs": []
    },
    {
     "cell_type": "code",
     "collapsed": false,
     "input": [
      "answer = (0, 0)\n",
      "for i in xrange(1, 1000):\n",
      "    perms = permutations(i)\n",
      "    if len(perms) > answer[1]:\n",
      "        answer = i, (len(perms))\n",
      "        \n",
      "answer"
     ],
     "language": "python",
     "metadata": {},
     "outputs": []
    },
    {
     "cell_type": "code",
     "collapsed": false,
     "input": [],
     "language": "python",
     "metadata": {},
     "outputs": []
    }
   ],
   "metadata": {}
  }
 ]
}