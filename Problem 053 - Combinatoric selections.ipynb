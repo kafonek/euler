{
 "metadata": {
  "name": "Problem 053 - Combinatoric selections"
 },
 "nbformat": 3,
 "nbformat_minor": 0,
 "worksheets": [
  {
   "cells": [
    {
     "cell_type": "markdown",
     "metadata": {},
     "source": [
      "Combinatoric selections\n",
      "\n",
      "Problem 53\n",
      "\n",
      "There are exactly ten ways of selecting three from five, 12345:\n",
      "\n",
      "123, 124, 125, 134, 135, 145, 234, 235, 245, and 345\n",
      "\n",
      "In combinatorics, we use the notation, 5C3 = 10.\n",
      "\n",
      "In general,\n",
      "\n",
      "nCr =\tn! / (r! * (n-r)! ), where r <= n, n! = n*(n*1)...3*2*1, and 0! = 1.\n",
      "\n",
      "It is not until n = 23, that a value exceeds one-million: 23C10 = 1144066.\n",
      "\n",
      "<font color=\"red\">How many, not necessarily distinct, values of  nCr, for 1 <= n <= 100, are greater than one-million?</font>"
     ]
    },
    {
     "cell_type": "code",
     "collapsed": false,
     "input": [
      "from scipy.misc import comb\n",
      "import numpy as np"
     ],
     "language": "python",
     "metadata": {},
     "outputs": []
    },
    {
     "cell_type": "code",
     "collapsed": false,
     "input": [
      "comb(5, 3, exact=False)"
     ],
     "language": "python",
     "metadata": {},
     "outputs": []
    },
    {
     "cell_type": "code",
     "collapsed": false,
     "input": [
      "n = 23\n",
      "k = np.arange(23)\n",
      "comb(n, k, exact=False)"
     ],
     "language": "python",
     "metadata": {},
     "outputs": []
    },
    {
     "cell_type": "code",
     "collapsed": false,
     "input": [
      "a = comb(n, k)\n",
      "a[a > 1000000].shape"
     ],
     "language": "python",
     "metadata": {},
     "outputs": []
    },
    {
     "cell_type": "code",
     "collapsed": false,
     "input": [
      "answer = 0\n",
      "for i in xrange(1, 101):\n",
      "    array = comb(i, np.arange(i))\n",
      "    contrib = array[array > 1000000].shape[0]\n",
      "    answer += contrib\n",
      "    \n",
      "answer"
     ],
     "language": "python",
     "metadata": {},
     "outputs": []
    }
   ],
   "metadata": {}
  }
 ]
}