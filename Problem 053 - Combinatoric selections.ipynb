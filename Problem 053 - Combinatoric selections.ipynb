{
 "metadata": {
  "name": "Problem 053 - Combinatoric selections"
 },
 "nbformat": 3,
 "nbformat_minor": 0,
 "worksheets": [
  {
   "cells": [
    {
     "cell_type": "markdown",
     "metadata": {},
     "source": [
      "Combinatoric selections\n",
      "\n",
      "Problem 53\n",
      "\n",
      "There are exactly ten ways of selecting three from five, 12345:\n",
      "\n",
      "123, 124, 125, 134, 135, 145, 234, 235, 245, and 345\n",
      "\n",
      "In combinatorics, we use the notation, 5C3 = 10.\n",
      "\n",
      "In general,\n",
      "\n",
      "nCr =\tn! / (r! * (n-r)! ), where r <= n, n! = n*(n*1)...3*2*1, and 0! = 1.\n",
      "\n",
      "It is not until n = 23, that a value exceeds one-million: 23C10 = 1144066.\n",
      "\n",
      "<font color=\"red\">How many, not necessarily distinct, values of  nCr, for 1 <= n <= 100, are greater than one-million?</font>"
     ]
    },
    {
     "cell_type": "code",
     "collapsed": false,
     "input": [
      "from scipy.misc import comb\n",
      "import numpy as np"
     ],
     "language": "python",
     "metadata": {},
     "outputs": [],
     "prompt_number": 6
    },
    {
     "cell_type": "code",
     "collapsed": false,
     "input": [
      "comb(5, 3, exact=False)"
     ],
     "language": "python",
     "metadata": {},
     "outputs": [
      {
       "output_type": "pyout",
       "prompt_number": 5,
       "text": [
        "array(9.999999999999998)"
       ]
      }
     ],
     "prompt_number": 5
    },
    {
     "cell_type": "code",
     "collapsed": false,
     "input": [
      "n = 23\n",
      "k = np.arange(23)\n",
      "comb(n, k, exact=False)"
     ],
     "language": "python",
     "metadata": {},
     "outputs": [
      {
       "output_type": "pyout",
       "prompt_number": 10,
       "text": [
        "array([  1.00000000e+00,   2.30000000e+01,   2.53000000e+02,\n",
        "         1.77100000e+03,   8.85500000e+03,   3.36490000e+04,\n",
        "         1.00947000e+05,   2.45157000e+05,   4.90314000e+05,\n",
        "         8.17190000e+05,   1.14406600e+06,   1.35207800e+06,\n",
        "         1.35207800e+06,   1.14406600e+06,   8.17190000e+05,\n",
        "         4.90314000e+05,   2.45157000e+05,   1.00947000e+05,\n",
        "         3.36490000e+04,   8.85500000e+03,   1.77100000e+03,\n",
        "         2.53000000e+02,   2.30000000e+01])"
       ]
      }
     ],
     "prompt_number": 10
    },
    {
     "cell_type": "code",
     "collapsed": false,
     "input": [
      "a = comb(n, k)\n",
      "a[a > 1000000].shape"
     ],
     "language": "python",
     "metadata": {},
     "outputs": [
      {
       "output_type": "pyout",
       "prompt_number": 19,
       "text": [
        "(4,)"
       ]
      }
     ],
     "prompt_number": 19
    },
    {
     "cell_type": "code",
     "collapsed": false,
     "input": [
      "n = np.arange(100)\n",
      "k = np.arange(100)\n",
      "combs = comb(n, k)\n",
      "combs.shape"
     ],
     "language": "python",
     "metadata": {},
     "outputs": [
      {
       "output_type": "pyout",
       "prompt_number": 24,
       "text": [
        "(100,)"
       ]
      }
     ],
     "prompt_number": 24
    },
    {
     "cell_type": "code",
     "collapsed": false,
     "input": [
      "combs"
     ],
     "language": "python",
     "metadata": {},
     "outputs": [
      {
       "output_type": "pyout",
       "prompt_number": 25,
       "text": [
        "array([ 1.,  1.,  1.,  1.,  1.,  1.,  1.,  1.,  1.,  1.,  1.,  1.,  1.,\n",
        "        1.,  1.,  1.,  1.,  1.,  1.,  1.,  1.,  1.,  1.,  1.,  1.,  1.,\n",
        "        1.,  1.,  1.,  1.,  1.,  1.,  1.,  1.,  1.,  1.,  1.,  1.,  1.,\n",
        "        1.,  1.,  1.,  1.,  1.,  1.,  1.,  1.,  1.,  1.,  1.,  1.,  1.,\n",
        "        1.,  1.,  1.,  1.,  1.,  1.,  1.,  1.,  1.,  1.,  1.,  1.,  1.,\n",
        "        1.,  1.,  1.,  1.,  1.,  1.,  1.,  1.,  1.,  1.,  1.,  1.,  1.,\n",
        "        1.,  1.,  1.,  1.,  1.,  1.,  1.,  1.,  1.,  1.,  1.,  1.,  1.,\n",
        "        1.,  1.,  1.,  1.,  1.,  1.,  1.,  1.,  1.])"
       ]
      }
     ],
     "prompt_number": 25
    },
    {
     "cell_type": "code",
     "collapsed": false,
     "input": [],
     "language": "python",
     "metadata": {},
     "outputs": []
    }
   ],
   "metadata": {}
  }
 ]
}