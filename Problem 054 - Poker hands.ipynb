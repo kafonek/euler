{
 "metadata": {
  "name": "Problem 054 - Poker hands"
 },
 "nbformat": 3,
 "nbformat_minor": 0,
 "worksheets": [
  {
   "cells": [
    {
     "cell_type": "markdown",
     "metadata": {},
     "source": [
      "Poker hands\n",
      "\n",
      "Problem 54\n",
      "\n",
      "In the card game poker, a hand consists of five cards and are ranked, from lowest to highest, in the following way:\n",
      "<code>\n",
      "High Card: Highest value card.\n",
      "One Pair: Two cards of the same value.\n",
      "Two Pairs: Two different pairs.\n",
      "Three of a Kind: Three cards of the same value.\n",
      "Straight: All cards are consecutive values.\n",
      "Flush: All cards of the same suit.\n",
      "Full House: Three of a kind and a pair.\n",
      "Four of a Kind: Four cards of the same value.\n",
      "Straight Flush: All cards are consecutive values of same suit.\n",
      "Royal Flush: Ten, Jack, Queen, King, Ace, in same suit.\n",
      "    \n",
      "The cards are valued in the order:\n",
      "2, 3, 4, 5, 6, 7, 8, 9, 10, Jack, Queen, King, Ace.\n",
      "</code>\n",
      "\n",
      "If two players have the same ranked hands then the rank made up of the highest value wins; for example, a pair of eights beats a pair of fives (see example 1 below). But if two ranks tie, for example, both players have a pair of queens, then highest cards in each hand are compared (see example 4 below); if the highest cards tie then the next highest cards are compared, and so on.\n",
      "\n",
      "Consider the following five hands dealt to two players:\n",
      "\n",
      "<table>\n",
      "<tr>\n",
      "<td><b>Hand</b></td><td>&nbsp;</td><td><b>Player 1</b></td><td>&nbsp;</td><td><b>Player 2</b></td><td>&nbsp;</td><td><b>Winner</b></td>\n",
      "</tr>\n",
      "<tr>\n",
      "<td style=\"vertical-align:top;\"><b>1</b></td><td>&nbsp;</td><td>5H 5C 6S 7S KD<br /><div class=\"info\">Pair of Fives</div></td><td>&nbsp;</td><td>2C 3S 8S 8D TD<br /><div class=\"info\">Pair of Eights</div></td><td>&nbsp;</td><td style=\"vertical-align:top;\">Player 2</td>\n",
      "</tr>\n",
      "<tr>\n",
      "<td style=\"vertical-align:top;\"><b>2</b></td><td>&nbsp;</td><td>5D 8C 9S JS AC<br /><div class=\"info\">Highest card Ace</div></td><td>&nbsp;</td><td>2C 5C 7D 8S QH<br /><div class=\"info\">Highest card Queen</div></td><td>&nbsp;</td><td style=\"vertical-align:top;\">Player 1</td>\n",
      "</tr>\n",
      "<tr>\n",
      "<td style=\"vertical-align:top;\"><b>3</b></td><td>&nbsp;</td><td>2D 9C AS AH AC<br /><div class=\"info\">Three Aces</div></td><td>&nbsp;</td><td>3D 6D 7D TD QD<br /><div class=\"info\">Flush  with Diamonds</div></td><td>&nbsp;</td><td style=\"vertical-align:top;\">Player 2</td>\n",
      "</tr>\n",
      "<tr>\n",
      "<td style=\"vertical-align:top;\"><b>4</b></td><td>&nbsp;</td><td>4D 6S 9H QH QC<br /><div class=\"info\">Pair of Queens<br />Highest card Nine</div></td><td>&nbsp;</td><td>3D 6D 7H QD QS<br /><div class=\"info\">Pair of Queens<br />Highest card Seven</div></td><td>&nbsp;</td><td style=\"vertical-align:top;\">Player 1</td>\n",
      "</tr>\n",
      "<tr>\n",
      "<td style=\"vertical-align:top;\"><b>5</b></td><td>&nbsp;</td><td>2H 2D 4C 4D 4S<br /><div class=\"info\">Full House<br />With Three Fours</div></td><td>&nbsp;</td><td>3C 3D 3S 9S 9D<br /><div class=\"info\">Full House<br />with Three Threes</div></td><td>&nbsp;</td><td style=\"vertical-align:top;\">Player 1</td>\n",
      "</tr>\n",
      "</table>\n",
      "\n",
      "\n",
      "The file, poker.txt, contains one-thousand random hands dealt to two players. Each line of the file contains ten cards (separated by a single space): the first five are Player 1's cards and the last five are Player 2's cards. You can assume that all hands are valid (no invalid characters or repeated cards), each player's hand is in no specific order, and in each hand there is a clear winner.\n",
      "\n",
      "How many hands does Player 1 win?"
     ]
    },
    {
     "cell_type": "code",
     "collapsed": false,
     "input": [
      "def string_to_hand(string):\n",
      "    cards = string.split() #should return a list of 5 strings\n",
      "    value_translation = {'2' : 2, '3' : 3, '4' : 4, '5' : 5, '6' : 6, '7' : 7,\n",
      "                         '8' : 8, '9' : 9, 'T' : 10, 'J' : 11, 'Q' : 12, 'K': 13, 'A': 14}\n",
      "    suit_translation = {'S' : 1, 'H' : 2, 'D' : 3, 'C' : 4}\n",
      "    return [(value_translation[card[0]], suit_translation[card[1]]) for card in cards]\n",
      "\n",
      "string_to_hand('5H 5C 6S 7S KD')"
     ],
     "language": "python",
     "metadata": {},
     "outputs": []
    },
    {
     "cell_type": "code",
     "collapsed": false,
     "input": [
      "def grade_hand(hand):\n",
      "    'hand should be a list of tuples'\n",
      "    card_values = [card[0] for card in hand]\n",
      "    suits = [card[1] for card in hand]\n",
      "    high_card = max(card_values)\n",
      "    \n",
      "    #check for straights and flushes\n",
      "    straight = False\n",
      "    flush = False\n",
      "    if len(set(suits)) == 1:\n",
      "        flush = True\n",
      "    if len(set(card_values)) == 5 and (max(card_values) - min(card_values)) == 4:\n",
      "        straight = True\n",
      "    if straight and flush:\n",
      "        if high_card == 14:\n",
      "            #royal flush\n",
      "            return (10, high_card)\n",
      "        else:\n",
      "            #straight flush\n",
      "            return (9, high_card)\n",
      "    if flush:\n",
      "        return (6, high_card)\n",
      "    if straight:\n",
      "        return (5, high_card)\n",
      "    \n",
      "    #straights and flushes handled, check on pairs\n",
      "    import collections\n",
      "    pairings = collections.defaultdict(int)\n",
      "    for value in card_values:\n",
      "        pairings[value] += 1\n",
      "    values = pairings.values()\n",
      "    \n",
      "    #check for card pairing hands\n",
      "    if max(values) == 4:\n",
      "        #four of a kind\n",
      "        value = [key for key, value in pairings.items() if value == max(values)][0]\n",
      "        return (8, value)\n",
      "    if max(values) == 3:\n",
      "        #three of a kind or full house\n",
      "        if 2 in values:\n",
      "            #full house\n",
      "            high_value = [key for key, value in pairings.items() if value == max(values)][0]\n",
      "            secondary_value = [key for key, value in pairings.items() if value == min(values)][0]\n",
      "            return (7, high_value, secondary_value)\n",
      "        else:\n",
      "            #three of a kind\n",
      "            high_value = [key for key, value in pairings.items() if value == max(values)][0]\n",
      "            other_values = sorted([key for key, value in pairings.items() if value != max(values)], reverse=True)\n",
      "            return (4, other_values[0], other_values[1])\n",
      "    if max(values) == 2:\n",
      "        if values.count(2) == 2:\n",
      "            #two pair\n",
      "            pairs = sorted(set([key for key, value in pairings.items() if value == max(values)]), reverse=True)\n",
      "            high_value = pairs[0]\n",
      "            secondary = pairs[1]\n",
      "            tertiary = [key for key in pairings.keys() if key not in [high_value, secondary]][0]\n",
      "            return (3, high_value, secondary, tertiary)\n",
      "        else:\n",
      "            #one pair\n",
      "            high_value = [key for key, value in pairings.items() if value == max(values)][0]\n",
      "            other_values = sorted([key for key in pairings.keys() if key != high_value], reverse=True)\n",
      "            return (2, high_value, other_values[0], other_values[1], other_values[2])\n",
      "    #high card\n",
      "    values = sorted(card_values, reverse=True)\n",
      "    return (1, values[0], values[1], values[2], values[3], values[4])"
     ],
     "language": "python",
     "metadata": {},
     "outputs": []
    },
    {
     "cell_type": "code",
     "collapsed": false,
     "input": [
      "def grade(string):\n",
      "    return grade_hand(string_to_hand(string))\n",
      "\n",
      "grade('5H 5C 6S 7S KD')"
     ],
     "language": "python",
     "metadata": {},
     "outputs": []
    },
    {
     "cell_type": "code",
     "collapsed": false,
     "input": [
      "def compare(hand1, hand2):\n",
      "    return grade(hand1) > grade(hand2)\n",
      "\n",
      "compare('5H 5C 6S 7S KD', '2C 3S 8S 8D TD')"
     ],
     "language": "python",
     "metadata": {},
     "outputs": []
    },
    {
     "cell_type": "code",
     "collapsed": false,
     "input": [
      "text = open('poker.txt').read()\n",
      "text[-100:]"
     ],
     "language": "python",
     "metadata": {},
     "outputs": []
    },
    {
     "cell_type": "code",
     "collapsed": false,
     "input": [
      "hands = text.split('\\n')[:-1]\n",
      "hand = hands[0]\n",
      "hand1 = hand[:14]\n",
      "hand2 = hand[15:]\n",
      "hand1, hand2"
     ],
     "language": "python",
     "metadata": {},
     "outputs": []
    },
    {
     "cell_type": "code",
     "collapsed": false,
     "input": [
      "compare(hand1, hand2)"
     ],
     "language": "python",
     "metadata": {},
     "outputs": []
    },
    {
     "cell_type": "code",
     "collapsed": false,
     "input": [
      "answer = 0\n",
      "for hand in hands:\n",
      "    hand1 = hand[:14]\n",
      "    hand2 = hand[15:]\n",
      "    if compare(hand1, hand2):\n",
      "        answer += 1\n",
      "answer"
     ],
     "language": "python",
     "metadata": {},
     "outputs": []
    },
    {
     "cell_type": "code",
     "collapsed": false,
     "input": [
      "pairings"
     ],
     "language": "python",
     "metadata": {},
     "outputs": []
    },
    {
     "cell_type": "code",
     "collapsed": false,
     "input": [
      "for key, value in pairings.items():\n",
      "    print(key, value)"
     ],
     "language": "python",
     "metadata": {},
     "outputs": []
    },
    {
     "cell_type": "code",
     "collapsed": false,
     "input": [
      "keys = []\n",
      "for key, value in pairings.items():\n",
      "    if value == max(pairings.values()):\n",
      "        keys.append(key)\n",
      "keys[0]"
     ],
     "language": "python",
     "metadata": {},
     "outputs": []
    },
    {
     "cell_type": "code",
     "collapsed": false,
     "input": [],
     "language": "python",
     "metadata": {},
     "outputs": []
    }
   ],
   "metadata": {}
  }
 ]
}