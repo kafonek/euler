{
 "metadata": {
  "name": "Problem 046 - Goldbach's other conjecture"
 },
 "nbformat": 3,
 "nbformat_minor": 0,
 "worksheets": [
  {
   "cells": [
    {
     "cell_type": "markdown",
     "metadata": {},
     "source": [
      "Goldbach's other conjecture\n",
      "\n",
      "Problem 46\n",
      "\n",
      "It was proposed by Christian Goldbach that every odd composite number can be written as the sum of a prime and twice a square.\n",
      "\n",
      "9 = 7 + 2*1^2\n",
      "\n",
      "15 = 7 + 2*2^2\n",
      "\n",
      "21 = 3 + 2*3^2\n",
      "\n",
      "25 = 7 + 2*3^2\n",
      "\n",
      "27 = 19 + 2*2^2\n",
      "\n",
      "33 = 31 + 2*1^2\n",
      "\n",
      "It turns out that the conjecture was false.\n",
      "\n",
      "<font color=\"red\">What is the smallest odd composite that cannot be written as the sum of a prime and twice a square?</font>"
     ]
    },
    {
     "cell_type": "code",
     "collapsed": false,
     "input": [
      "#Code to use when generating through \"n primes\"\n",
      "def postponed_sieve():                   # postponed sieve, by Will Ness      \n",
      "    yield 2; yield 3; yield 5; yield 7;  # original code David Eppstein, \n",
      "    D = {}                               #            ActiveState Recipe 2002\n",
      "    ps = (p for p in postponed_sieve())  # a separate Primes Supply:\n",
      "    p = ps.next() and ps.next()          # (3) a Prime to add to dict\n",
      "    q = p*p                              # (9) when its sQuare is \n",
      "    c = 9                                # the next Candidate\n",
      "    while True:\n",
      "        if c not in D:                # not a multiple of any prime seen so far:\n",
      "            if c < q: yield c         #   a prime, or\n",
      "            else:   # (c==q):         #   the next prime's square:\n",
      "                add(D,c + 2*p,2*p)    #     (9+6,6 : 15,21,27,33,...)\n",
      "                p=ps.next()           #     (5)\n",
      "                q=p*p                 #     (25)\n",
      "        else:                         # 'c' is a composite:\n",
      "            s = D.pop(c)              #   step of increment\n",
      "            add(D,c + s,s)            #   next multiple, same step\n",
      "        c += 2                        # next odd candidate\n",
      "\n",
      "def add(D,x,s):                          # make no multiple keys in Dict\n",
      "    while x in D: x += s                 # increment by the given step\n",
      "    D[x] = s "
     ],
     "language": "python",
     "metadata": {},
     "outputs": []
    },
    {
     "cell_type": "code",
     "collapsed": false,
     "input": [
      "def gen_composite_odds():\n",
      "    p = postponed_sieve()\n",
      "    top_prime = p.next()\n",
      "    current = 5\n",
      "    while True:\n",
      "        if current > top_prime:\n",
      "            top_prime = p.next()\n",
      "        elif current == top_prime:\n",
      "            current += 2\n",
      "        else:\n",
      "            yield current\n",
      "            current += 2\n",
      "        \n",
      "\n",
      "g = gen_composite_odds()\n",
      "for _ in range(10):\n",
      "    print(g.next())"
     ],
     "language": "python",
     "metadata": {},
     "outputs": []
    },
    {
     "cell_type": "code",
     "collapsed": false,
     "input": [
      "def gen_twice_squares():\n",
      "    current = 1\n",
      "    while True:\n",
      "        yield 2 * (current**2)\n",
      "        current += 1\n",
      "\n",
      "s = gen_twice_squares()        \n",
      "for _ in range(5):\n",
      "    print(s.next())"
     ],
     "language": "python",
     "metadata": {},
     "outputs": []
    },
    {
     "cell_type": "code",
     "collapsed": false,
     "input": [
      "def goldbach(n):\n",
      "    p = postponed_sieve()\n",
      "    #generate a prime, then check all twice squares up till n to see if it adds to n\n",
      "    prime = p.next()\n",
      "    while prime < n:\n",
      "        s = gen_twice_squares()\n",
      "        square = s.next()\n",
      "        while square < n:\n",
      "            if prime + square == n:\n",
      "                return prime, square\n",
      "            square = s.next()\n",
      "        prime = p.next()\n",
      "    return None\n",
      "\n",
      "g = gen_composite_odds()\n",
      "for _ in range(10000):\n",
      "    n = g.next()\n",
      "    response = goldbach(n)\n",
      "    if not response:\n",
      "        print(n)\n",
      "        break\n",
      "    print(n, goldbach(n))"
     ],
     "language": "python",
     "metadata": {},
     "outputs": []
    },
    {
     "cell_type": "code",
     "collapsed": false,
     "input": [],
     "language": "python",
     "metadata": {},
     "outputs": []
    }
   ],
   "metadata": {}
  }
 ]
}