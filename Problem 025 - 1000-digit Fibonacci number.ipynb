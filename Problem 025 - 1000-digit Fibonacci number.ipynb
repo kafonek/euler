{
 "metadata": {
  "name": "Problem 025 - 1000-digit Fibonacci number"
 },
 "nbformat": 3,
 "nbformat_minor": 0,
 "worksheets": [
  {
   "cells": [
    {
     "cell_type": "markdown",
     "metadata": {},
     "source": [
      "1000-digit Fibonacci number\n",
      "\n",
      "Problem 25\n",
      "\n",
      "The Fibonacci sequence is defined by the recurrence relation:\n",
      "\n",
      "Fn = Fn1 + Fn2, where F1 = 1 and F2 = 1.\n",
      "\n",
      "Hence the first 12 terms will be:\n",
      "<code>\n",
      "F1 = 1\n",
      "F2 = 1\n",
      "F3 = 2\n",
      "F4 = 3\n",
      "F5 = 5\n",
      "F6 = 8\n",
      "F7 = 13\n",
      "F8 = 21\n",
      "F9 = 34\n",
      "F10 = 55\n",
      "F11 = 89\n",
      "F12 = 144\n",
      "The 12th term, F12, is the first term to contain three digits.\n",
      "</code>\n",
      "\n",
      "<font color=\"red\">What is the first term in the Fibonacci sequence to contain 1000 digits?</font>"
     ]
    },
    {
     "cell_type": "code",
     "collapsed": false,
     "input": [
      "def fib():\n",
      "    a, b = 0, 1\n",
      "    count = 0\n",
      "    while 1:\n",
      "        yield (count, a)\n",
      "        a, b = b, a + b\n",
      "        count += 1"
     ],
     "language": "python",
     "metadata": {},
     "outputs": []
    },
    {
     "cell_type": "code",
     "collapsed": false,
     "input": [
      "f = fib()\n",
      "for i in range(15):\n",
      "    print(f.next())"
     ],
     "language": "python",
     "metadata": {},
     "outputs": []
    },
    {
     "cell_type": "code",
     "collapsed": false,
     "input": [
      "f = fib()\n",
      "while True:\n",
      "    count, number = f.next()\n",
      "    if len(str(number)) >= 1000:\n",
      "        print(count, number)\n",
      "        break"
     ],
     "language": "python",
     "metadata": {},
     "outputs": []
    }
   ],
   "metadata": {}
  }
 ]
}