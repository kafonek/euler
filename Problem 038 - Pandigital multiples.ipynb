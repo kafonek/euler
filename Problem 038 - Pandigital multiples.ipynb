{
 "metadata": {
  "name": "Problem 038 - Pandigital multiples"
 },
 "nbformat": 3,
 "nbformat_minor": 0,
 "worksheets": [
  {
   "cells": [
    {
     "cell_type": "markdown",
     "metadata": {},
     "source": [
      "Pandigital multiples\n",
      "\n",
      "Problem 38\n",
      "\n",
      "Take the number 192 and multiply it by each of 1, 2, and 3:\n",
      "<code>\n",
      "192 x 1 = 192\n",
      "192 x 2 = 384\n",
      "192 x 3 = 576\n",
      "</code>\n",
      "\n",
      "By concatenating each product we get the 1 to 9 pandigital, 192384576. We will call 192384576 the concatenated product of 192 and (1,2,3)\n",
      "\n",
      "The same can be achieved by starting with 9 and multiplying by 1, 2, 3, 4, and 5, giving the pandigital, 918273645, which is the concatenated product of 9 and (1,2,3,4,5).\n",
      "\n",
      "<font color=\"red\">What is the largest 1 to 9 pandigital 9-digit number that can be formed as the concatenated product of an integer with (1,2, ... , n) where n >= 1?</font>"
     ]
    },
    {
     "cell_type": "code",
     "collapsed": false,
     "input": [
      "#%%timeit\n",
      "def pandigital(seed):\n",
      "    \"\"\"This function should start with a seed int, and multiply it by (1, 2, ... n) while \n",
      "       concatenating each product into a string.  If the string reaches a 1-9 pandigital, return\n",
      "       the string, otherwise return False\n",
      "    \"\"\"\n",
      "    #first, check for repeating numbers in the seed number\n",
      "    seed_string = str(seed)\n",
      "    if len(seed_string) != len(set(seed_string)):\n",
      "           return False\n",
      "    string = ''\n",
      "    factor = 1\n",
      "    while True:\n",
      "        product = str(seed * factor)\n",
      "        for c in product: #check for overlap with nums already in the concatenated string\n",
      "            if c == '0':\n",
      "                return False\n",
      "            if c in string:\n",
      "                return False\n",
      "            else:\n",
      "                string += c\n",
      "        \n",
      "        if len(string) == 9:\n",
      "            return int(string)\n",
      "        factor += 1\n",
      "        \n",
      "pandigital(9)\n",
      "        "
     ],
     "language": "python",
     "metadata": {},
     "outputs": []
    },
    {
     "cell_type": "code",
     "collapsed": false,
     "input": [
      "answer = []\n",
      "for n in xrange(10**6):\n",
      "    p = pandigital(n)\n",
      "    if p:\n",
      "        answer.append(p)\n",
      "max(answer)"
     ],
     "language": "python",
     "metadata": {},
     "outputs": []
    },
    {
     "cell_type": "code",
     "collapsed": false,
     "input": [],
     "language": "python",
     "metadata": {},
     "outputs": []
    }
   ],
   "metadata": {}
  }
 ]
}