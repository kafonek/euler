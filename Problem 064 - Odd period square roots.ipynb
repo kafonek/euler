{
 "metadata": {
  "name": "Problem 064 - Odd period square roots"
 },
 "nbformat": 3,
 "nbformat_minor": 0,
 "worksheets": [
  {
   "cells": [
    {
     "cell_type": "markdown",
     "metadata": {},
     "source": [
      "This problem is hard to copy, paste.. <a href='http://projecteuler.net/problem=64'>check out the original at projecteuler.net</a>\n",
      "\n",
      "Exactly four continued fractions, for N <= 13, have an odd period.\n",
      "\n",
      "<font color='red'>How many continued fractions for N <= 10000 have an odd period?</font>"
     ]
    },
    {
     "cell_type": "code",
     "collapsed": false,
     "input": [
      "### There is a lot of documentation on continued fractions at http://en.wikipedia.org/wiki/Continued_fraction\n",
      "\n",
      "#this function follows the code on the wiki for rational numbers, but fails on irrational numbers\n",
      "from fractions import Fraction\n",
      "import math\n",
      "\n",
      "def continued_fraction(n):\n",
      "    first_number = int(math.floor(n))\n",
      "    if first_number == n:\n",
      "        return 0, [] #then there is no continued fraction\n",
      "    fractional_part = Fraction(n - first_number).limit_denominator()\n",
      "    ### limit_denominator() is what keeps this sane, see \n",
      "    ### http://docs.python.org/2/library/fractions.html#fractions.Fraction.limit_denominator\n",
      "    \n",
      "    repetition = []\n",
      "    reciprocal = 1 / fractional_part\n",
      "    while True:\n",
      "        integer = int(math.floor(reciprocal))\n",
      "        repetition.append(integer)\n",
      "        fractional_part = Fraction(reciprocal - integer).limit_denominator()\n",
      "        if not fractional_part:\n",
      "            break\n",
      "        reciprocal = 1 / fractional_part\n",
      "        \n",
      "    return first_number, repetition"
     ],
     "language": "python",
     "metadata": {},
     "outputs": []
    },
    {
     "cell_type": "code",
     "collapsed": false,
     "input": [
      "continued_fraction(23**.5)"
     ],
     "language": "python",
     "metadata": {},
     "outputs": []
    },
    {
     "cell_type": "code",
     "collapsed": false,
     "input": [
      "def sqrt_period(n, debug=False):\n",
      "    'find the continued fraction for a square root'\n",
      "    a0 = int(n ** .5)\n",
      "    if a0 ** 2 == n:\n",
      "        return 0, [] #n is a square root, no continued fraction\n",
      "    starting_numerator = current_numerator = a0\n",
      "    starting_denominator = current_denominator = n - a0**2\n",
      "    period = []\n",
      "    if debug:\n",
      "        print(starting_numerator, starting_denominator)\n",
      "    while True:\n",
      "        integer = (a0 + current_numerator) / current_denominator  #step 1, pull out the 'integer' from the fraction\n",
      "        current_numerator = integer * current_denominator - current_numerator \n",
      "        current_denominator = (n - current_numerator**2) / current_denominator\n",
      "        period.append(integer)\n",
      "        if debug:\n",
      "            print(integer, current_numerator, current_denominator)\n",
      "        if current_numerator == starting_numerator and current_denominator == starting_denominator:\n",
      "            break\n",
      "    return a0, period\n",
      "    "
     ],
     "language": "python",
     "metadata": {},
     "outputs": []
    },
    {
     "cell_type": "code",
     "collapsed": false,
     "input": [
      "sqrt_period(23, True)"
     ],
     "language": "python",
     "metadata": {},
     "outputs": []
    },
    {
     "cell_type": "code",
     "collapsed": false,
     "input": [
      "answer = 0\n",
      "for i in xrange(1, 10001):\n",
      "    a0, period = sqrt_period(i)\n",
      "    if len(period) % 2 == 1:\n",
      "        answer += 1\n",
      "answer"
     ],
     "language": "python",
     "metadata": {},
     "outputs": []
    },
    {
     "cell_type": "code",
     "collapsed": false,
     "input": [],
     "language": "python",
     "metadata": {},
     "outputs": []
    }
   ],
   "metadata": {}
  }
 ]
}