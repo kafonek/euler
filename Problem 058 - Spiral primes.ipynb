{
 "metadata": {
  "name": "Problem 058 - Spiral primes"
 },
 "nbformat": 3,
 "nbformat_minor": 0,
 "worksheets": [
  {
   "cells": [
    {
     "cell_type": "markdown",
     "metadata": {},
     "source": [
      "Spiral primes\n",
      "\n",
      "Problem 58\n",
      "\n",
      "Starting with 1 and spiralling anticlockwise in the following way, a square spiral with side length 7 is formed.\n",
      "\n",
      "\n",
      "<p style='text-align:center;font-family:courier new;'><span style='color:#ff0000;font-family:courier new;'><b>37</b></span> 36 35 34 33 32 <span style='color:#ff0000;font-family:courier new;'><b>31</b></span><br />\n",
      "38 <span style='color:#ff0000;font-family:courier new;'><b>17</b></span> 16 15 14 <span style='color:#ff0000;font-family:courier new;'><b>13</b></span> 30<br />\n",
      "39 18 <span style='color:#ff0000;font-family:courier new;'>&nbsp;<b>5</b></span> &nbsp;4 <span style='color:#ff0000;font-family:courier new;'>&nbsp;<b>3</b></span> 12 29<br />\n",
      "40 19 &nbsp;6 &nbsp;1 &nbsp;2 11 28<br />\n",
      "41 20 <span style='color:#ff0000;font-family:courier new;'>&nbsp;<b>7</b></span> &nbsp;8 &nbsp;9 10 27<br />\n",
      "42 21 22 23 24 25 26<br />\n",
      "<span style='color:#ff0000;font-family:courier new;'><b>43</b></span> 44 45 46 47 48 49</p>\n",
      "\n",
      "\n",
      "It is interesting to note that the odd squares lie along the bottom right diagonal, but what is more interesting is that 8 out of the 13 numbers lying along both diagonals are prime; that is, a ratio of 8/13, 62%.\n",
      "\n",
      "<font color=\"red\">If one complete new layer is wrapped around the spiral above, a square spiral with side length 9 will be formed. If this process is continued, what is the side length of the square spiral for which the ratio of primes along both diagonals first falls below 10%?</font>\n"
     ]
    },
    {
     "cell_type": "code",
     "collapsed": false,
     "input": [
      "def gen_corners():\n",
      "    current = 1\n",
      "    counter = 2\n",
      "    while True:\n",
      "        lst = []\n",
      "        for i in range(4):\n",
      "            current += counter\n",
      "            lst.append(current)\n",
      "        yield lst\n",
      "        counter += 2\n",
      "        \n",
      "g = gen_corners()\n",
      "for _ in range(10):\n",
      "    print(g.next())"
     ],
     "language": "python",
     "metadata": {},
     "outputs": []
    },
    {
     "cell_type": "code",
     "collapsed": false,
     "input": [
      "#Code to use when generating through \"n primes\"\n",
      "def postponed_sieve():                   # postponed sieve, by Will Ness      \n",
      "    yield 2; yield 3; yield 5; yield 7;  # original code David Eppstein, \n",
      "    D = {}                               #            ActiveState Recipe 2002\n",
      "    ps = (p for p in postponed_sieve())  # a separate Primes Supply:\n",
      "    p = ps.next() and ps.next()          # (3) a Prime to add to dict\n",
      "    q = p*p                              # (9) when its sQuare is \n",
      "    c = 9                                # the next Candidate\n",
      "    while True:\n",
      "        if c not in D:                # not a multiple of any prime seen so far:\n",
      "            if c < q: yield c         #   a prime, or\n",
      "            else:   # (c==q):         #   the next prime's square:\n",
      "                add(D,c + 2*p,2*p)    #     (9+6,6 : 15,21,27,33,...)\n",
      "                p=ps.next()           #     (5)\n",
      "                q=p*p                 #     (25)\n",
      "        else:                         # 'c' is a composite:\n",
      "            s = D.pop(c)              #   step of increment\n",
      "            add(D,c + s,s)            #   next multiple, same step\n",
      "        c += 2                        # next odd candidate\n",
      "\n",
      "def add(D,x,s):                          # make no multiple keys in Dict\n",
      "    while x in D: x += s                 # increment by the given step\n",
      "    D[x] = s "
     ],
     "language": "python",
     "metadata": {},
     "outputs": []
    },
    {
     "cell_type": "code",
     "collapsed": false,
     "input": [
      "side_length = 1\n",
      "#set up \"corner number\" generation\n",
      "corner_gen = gen_corners()\n",
      "#set up prime number generation\n",
      "sieve = postponed_sieve()\n",
      "current_prime = sieve.next() #starts at 2\n",
      "primes = 0.0\n",
      "total = 1 # you start with '1' at center, which is not prime\n",
      "while True:\n",
      "    side_length += 2\n",
      "    for num in corner_gen.next(): #four numbers\n",
      "        while num > current_prime:\n",
      "            current_prime = sieve.next()\n",
      "        if num == current_prime:\n",
      "            primes += 1\n",
      "        total += 1\n",
      "    percentage = primes / total\n",
      "    if percentage < .1:\n",
      "        print(side_length, total)\n",
      "        break\n",
      "    print(side_length, percentage, current_prime)"
     ],
     "language": "python",
     "metadata": {},
     "outputs": []
    },
    {
     "cell_type": "code",
     "collapsed": false,
     "input": [],
     "language": "python",
     "metadata": {},
     "outputs": []
    }
   ],
   "metadata": {}
  }
 ]
}