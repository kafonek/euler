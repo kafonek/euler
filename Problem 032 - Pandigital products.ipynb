{
 "metadata": {
  "name": "Problem 032 - Pandigital products"
 },
 "nbformat": 3,
 "nbformat_minor": 0,
 "worksheets": [
  {
   "cells": [
    {
     "cell_type": "markdown",
     "metadata": {},
     "source": [
      "Pandigital products\n",
      "\n",
      "Problem 32\n",
      "\n",
      "We shall say that an n-digit number is pandigital if it makes use of all the digits 1 to n exactly once; for example, the 5-digit number, 15234, is 1 through 5 pandigital.\n",
      "\n",
      "The product 7254 is unusual, as the identity, 39 x 186 = 7254, containing multiplicand, multiplier, and product is 1 through 9 pandigital.\n",
      "\n",
      "<font color=\"red\">Find the sum of all products whose multiplicand/multiplier/product identity can be written as a 1 through 9 pandigital.</font>\n",
      "\n",
      "HINT: Some products can be obtained in more than one way so be sure to only include it once in your sum."
     ]
    },
    {
     "cell_type": "code",
     "collapsed": false,
     "input": [
      "### Find Factors is a function I used in problem 003 - Largest prime factor\n",
      "### Modified to return a tuple of tuples instead of a regular tuple\n",
      "def find_factors(n):\n",
      "    import math\n",
      "    results = set()\n",
      "    for i in xrange(2, int(math.sqrt(n)) + 1):\n",
      "        if n % i == 0:\n",
      "            results.add((i, n / i))\n",
      "    return results"
     ],
     "language": "python",
     "metadata": {},
     "outputs": []
    },
    {
     "cell_type": "code",
     "collapsed": false,
     "input": [
      "find_factors(7254)"
     ],
     "language": "python",
     "metadata": {},
     "outputs": []
    },
    {
     "cell_type": "code",
     "collapsed": false,
     "input": [
      "def is_pandigital(n, factor1, factor2):\n",
      "    nums = str(n) + str(factor1) + str(factor2)\n",
      "    if len(nums) != 9:\n",
      "        return False\n",
      "    if sorted(nums) != ['1', '2', '3', '4', '5', '6', '7', '8', '9']:\n",
      "        return False\n",
      "    return True\n",
      "\n",
      "for factor in find_factors(7254):\n",
      "    print(factor, is_pandigital(7254, factor[0], factor[1]))"
     ],
     "language": "python",
     "metadata": {},
     "outputs": []
    },
    {
     "cell_type": "code",
     "collapsed": false,
     "input": [
      "pandigital_numbers = []\n",
      "for n in xrange(1, 10**5):\n",
      "    factors = find_factors(n)\n",
      "    for factor in factors:\n",
      "        if is_pandigital(n, factor[0], factor[1]):\n",
      "            pandigital_numbers.append([n, factor[0], factor[1]])\n",
      "        \n",
      "len(pandigital_numbers)"
     ],
     "language": "python",
     "metadata": {},
     "outputs": []
    },
    {
     "cell_type": "code",
     "collapsed": false,
     "input": [
      "pandigital_numbers"
     ],
     "language": "python",
     "metadata": {},
     "outputs": []
    },
    {
     "cell_type": "code",
     "collapsed": false,
     "input": [
      "#back to the directions - Find the sum of all products whose multiplicand/multiplier/product identity can be written as a 1 through 9 pandigital.\n",
      "products = [obj[0] for obj in pandigital_numbers]\n",
      "print(sum(set(products)))"
     ],
     "language": "python",
     "metadata": {},
     "outputs": []
    }
   ],
   "metadata": {}
  }
 ]
}