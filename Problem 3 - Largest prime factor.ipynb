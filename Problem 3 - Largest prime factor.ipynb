{
 "metadata": {
  "name": "Problem 3 - Largest prime factor"
 },
 "nbformat": 3,
 "nbformat_minor": 0,
 "worksheets": [
  {
   "cells": [
    {
     "cell_type": "markdown",
     "metadata": {},
     "source": [
      "Largest prime factor\n",
      "\n",
      "Problem 3\n",
      "\n",
      "The prime factors of 13195 are 5, 7, 13 and 29.\n",
      "\n",
      "<font color=\"red\">What is the largest prime factor of the number 600851475143 ?</font>"
     ]
    },
    {
     "cell_type": "code",
     "collapsed": false,
     "input": [],
     "language": "python",
     "metadata": {},
     "outputs": []
    }
   ],
   "metadata": {}
  }
 ]
}