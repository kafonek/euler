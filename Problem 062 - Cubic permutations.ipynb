{
 "metadata": {
  "name": "Problem 062 - Cubic permutations"
 },
 "nbformat": 3,
 "nbformat_minor": 0,
 "worksheets": [
  {
   "cells": [
    {
     "cell_type": "markdown",
     "metadata": {},
     "source": [
      "Cubic permutations\n",
      "\n",
      "Problem 62\n",
      "\n",
      "\n",
      "The cube, 41063625 (345^3), can be permuted to produce two other cubes: 56623104 (384^3) and 66430125 (405^3). In fact, 41063625 is the smallest cube which has exactly three permutations of its digits which are also cube.\n",
      "\n",
      "<font color=\"red\">Find the smallest cube for which exactly five permutations of its digits are cube.</font>"
     ]
    },
    {
     "cell_type": "code",
     "collapsed": false,
     "input": [
      "def cube_gen():\n",
      "    current = 1\n",
      "    while True:\n",
      "        yield current ** 3\n",
      "        current += 1\n",
      "  "
     ],
     "language": "python",
     "metadata": {},
     "outputs": [],
     "prompt_number": 3
    },
    {
     "cell_type": "code",
     "collapsed": false,
     "input": [
      "def perm_count(cubes, n):\n",
      "    \"cubes is a set of cubes, n is a string of an int\"\n",
      "    candidates = [cube for cube in cubes if len(cube) == len(n)]\n",
      "    hits = [c for c in candidates if sorted(c) == sorted(n)]\n",
      "    return len(hits), min(hits)\n",
      "  "
     ],
     "language": "python",
     "metadata": {},
     "outputs": [],
     "prompt_number": 24
    },
    {
     "cell_type": "code",
     "collapsed": false,
     "input": [
      "import collections\n",
      "reportable_count = 1\n",
      "cubes = collections.defaultdict(list)\n",
      "gen = cube_gen()\n",
      "\n",
      "\n",
      "while True:\n",
      "    next_cube = gen.next()\n",
      "    string = ''.join(sorted(str(next_cube)))\n",
      "    cubes[string].append(next_cube)\n",
      "        \n",
      "    count = len(cubes[string])\n",
      "    answer = min(cubes[string])\n",
      "    if count >= reportable_count:\n",
      "        print(reportable_count, next_cube, count, answer)\n",
      "        reportable_count += 1\n",
      "    if count == 6:\n",
      "        print(next_cube, count, answer)\n",
      "        break\n",
      "    "
     ],
     "language": "python",
     "metadata": {},
     "outputs": [
      {
       "output_type": "stream",
       "stream": "stdout",
       "text": [
        "(1, 1, 1, 1)\n",
        "(2, 512, 2, 125)\n",
        "(3, 66430125, 3, 41063625)\n",
        "(4, 8120601000L, 4, 1006012008)\n",
        "(5, 589323567104L, 5, 127035954683L)"
       ]
      },
      {
       "output_type": "stream",
       "stream": "stdout",
       "text": [
        "\n",
        "(6, 7591941538264L, 6, 1426487591593L)"
       ]
      },
      {
       "output_type": "stream",
       "stream": "stdout",
       "text": [
        "\n",
        "(7591941538264L, 6, 1426487591593L)\n"
       ]
      }
     ],
     "prompt_number": 37
    }
   ],
   "metadata": {}
  }
 ]
}